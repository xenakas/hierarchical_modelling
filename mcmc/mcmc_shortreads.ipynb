{
 "cells": [
  {
   "cell_type": "markdown",
   "metadata": {},
   "source": [
    "# MCMC"
   ]
  },
  {
   "cell_type": "markdown",
   "metadata": {},
   "source": [
    "### [Bayesian Modelling and Markov chain Monte Carlo](https://manchestersiam.wordpress.com/2016/04/18/bayesian-modelling-and-markov-chain-monte-carlo/)\n",
    "\n",
    "Bayesian method provides an intuitive way for us to fill the gaps left by small or incomplete data sets. \n",
    "\n",
    "\n",
    "To calculate the Bayesian predictive distribution, $\\pi(x|D)$, given some data $D$,  we simply multiply the density function of the classical solution  $\\ell (D|x)$,  with the density function produced by our prior knowledge $\\pi(x)$. This is a direct application of Bayes’ theorem. Unfortunately, this product will not integrate to one. To overcome this, we multiply the density function by a constant $Z$, which rescales the density so that it does integrate to one. The resulting Bayesian distribution defined over the n-dimensional parameter space $S$ is\n",
    "\n",
    "$$ \\pi(x|D) = \\frac{1}{Z} \\pi(x) \\ell(D|x)$$\n",
    "\n",
    "$$ Z = \\int_S \\pi(x) \\ell(D|x) dx$$\n",
    "\n",
    "In one dimension it is easy to use numerical quadrature to calculate $Z$. However as the dimension becomes large, this method quickly becomes impractical. So we turn to a class of statistical algorithms known as Markov chain Monte Carlo (MCMC) methods, which can tackle these high dimensional parameter spaces.\n",
    "\n",
    "\n",
    "\n",
    "\n",
    "\n"
   ]
  },
  {
   "cell_type": "code",
   "execution_count": null,
   "metadata": {},
   "outputs": [],
   "source": []
  }
 ],
 "metadata": {
  "kernelspec": {
   "display_name": "Python 3",
   "language": "python",
   "name": "python3"
  },
  "language_info": {
   "codemirror_mode": {
    "name": "ipython",
    "version": 3
   },
   "file_extension": ".py",
   "mimetype": "text/x-python",
   "name": "python",
   "nbconvert_exporter": "python",
   "pygments_lexer": "ipython3",
   "version": "3.6.5"
  }
 },
 "nbformat": 4,
 "nbformat_minor": 2
}
