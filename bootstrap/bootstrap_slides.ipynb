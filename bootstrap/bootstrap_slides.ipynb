{
 "cells": [
  {
   "cell_type": "markdown",
   "metadata": {},
   "source": [
    "## Bootstrap"
   ]
  },
  {
   "cell_type": "markdown",
   "metadata": {},
   "source": [
    "\n",
    "The bootstrap technique introduced by Efron (1979) could possibly be a potential alternative in estimation and inference from time series models in finite samples. However, in time series regressions, the standard bootstrap resampling method designed for independent and identically distributed (IID) errors is not applicable because in most situations the assumption of IID errors is violated. \n",
    "\n",
    "The basic bootstrap approach consists of drawing repeated samples (with replacement). \n",
    "The simplest assumption for that method is that observations should be IID. \n",
    "But in time series models IID assumption is not satisfied.\n",
    "Thus the method needs to be modified.\n",
    "\n",
    "- Estimating Standard Errors:  if “Small Sample Size” distribution is normal then we can get a BS distribution to Estimate SE (same as asymptotic distribution for SE)\n",
    "- Confidence Interval statements:\n",
    "\tUsing BS distribution to Estimate CI we can get  different result for CI (from asymptotic distribution), for example, because of BS distribution skewness \n",
    "\n",
    "\n",
    "\n",
    "1. CI for $\\theta$ (Эфронов доверительный интервал)\n",
    "\n",
    "$$(q_{\\alpha/2}, q_{1-\\alpha/2})$$\n",
    "\n",
    "BS Distribution of $ \\hat{\\theta}^*$\n",
    "\n",
    "2. CI for assymptotic distribution of $\\hat{\\theta}$:\n",
    "$$(\\hat{\\theta}  \\pm z_{\\alpha} se(\\hat{\\theta}) )$$\n",
    "\n",
    "where $z_{\\alpha}$  -  the $100 - \\alpha$ percentile from the standart normal distribution\n",
    "\n",
    "3. CI for BS distribution of $\\hat{\\theta}$ (Доверительный интервал Холла):\n",
    "$$(\\hat{\\theta} -   z_{1-\\alpha}^*,  \\hat{\\theta} +   z_{\\alpha}^* ) $$\n",
    "\n",
    "\n",
    "where $z_{\\alpha}^*$  -  the $\\alpha$ percentile of the  distribution of $\\hat{\\theta}^* - \\hat{\\theta}$ (бутстрапируем  отклонение оценки от истинного значения).\n",
    "BS Distribution $ (\\hat{\\theta}^* - \\hat{\\theta} ) $, \n",
    "not $ (\\hat{\\theta}^* - \\theta_0 ) $\n",
    "\n",
    "4. t-percentile CI (t-процентильный доверительный интервал)\n",
    "\n",
    "$$(\\hat{\\theta} -   z_{1-\\alpha/2}^* se(\\hat{\\theta}),  \\hat{\\theta} +   z_{\\alpha/2}^* se(\\hat{\\theta})) $$\n",
    "\n",
    "BS properly studentized statistic:\n",
    "$$\\dfrac{\\hat{\\theta}^* - \\hat{\\theta}}{ \\hat{\\sigma}^*} $$\n",
    "use $\\hat{\\sigma}^*$ - estimate of $\\hat{\\sigma} $ from the BS sample\n",
    "\n",
    "Для получения симметричного t-процентильного CI (подходит для тестирования гипотез) \n",
    "$$(\\hat{\\theta} \\pm   z_{1-\\alpha}^* se(\\hat{\\theta})) $$\n",
    "  вместо $\\dfrac{\\hat{\\theta} - {\\theta}}{ \\hat{\\sigma}}$ бутстрапируем $\\left|\\dfrac{\\hat{\\theta} - {\\theta}}{ \\hat{\\sigma}}\\right|$\n"
   ]
  },
  {
   "cell_type": "markdown",
   "metadata": {},
   "source": [
    "### The Recursive BS for stationary AR(p) model"
   ]
  },
  {
   "cell_type": "markdown",
   "metadata": {},
   "source": [
    "\n",
    "Consider AR(p) process:\n",
    "$$ y_t = \\sum_{i=1}^p a_i y_{t-i} + e_t, e_t \\sim N(0,\\sigma^2)$$\n",
    "\n",
    "We estimate coefficients with OLS and get: \n",
    "$ (\\hat{a}_1,\\dots, \\hat{a}_p), \\hat{e}_t $\n",
    "\n",
    "\n",
    "\n",
    "\n",
    " Define the centered and scaled residuals:\n",
    "$$ \\tilde{e}_t = (\\hat{e}_{t} - \\frac{1}{n} \\sum \\hat{e}_{t} )  \\left( \\frac{n}{n-p}\\right) ^{1/2} $$\n",
    "Resample $ \\tilde{e}_t $ with replacement to get the BS residuals $ e_t^* $\n",
    "\n",
    "Construct the BS sample recursively using $ y_t^* = y_t $:\n",
    "\n",
    "$$ y_t^* = \\sum_{i=1}^p \\hat{a}_i y_{t-i}^* + e_t^*$$\n",
    "\n"
   ]
  },
  {
   "cell_type": "markdown",
   "metadata": {},
   "source": [
    "### The Moving Block Bootstrap"
   ]
  },
  {
   "cell_type": "markdown",
   "metadata": {},
   "source": [
    "Application of the residual based bootstrap methods is straightforward if the error distribution is specified to be an ARMA(p,q) process with known p and q\n",
    "\n",
    "However, if the structure of serial correlation is not tractable or is misspecified, the residual based methods will give inconsistent estimates\n",
    "\n",
    "Divide the data of $n$ observations into blocks of length $l$ and select $b$ of these blocks (with repeats allowed) \n",
    "\n",
    "\n",
    "** NBB - nonoverlapping blocks bootstrap **\n",
    "\n",
    "> Carlstein (1986) – first discussed the idea of bootstrapping blocks of observations rather \n",
    "than the individual observations.\n",
    "\n",
    "Number of blocks: $\\frac{n}{l} = b$  \n",
    "\n",
    "High probability of missing entire blocks in the Carlstein scheme (non overlapping blocks) $ \\rightarrow $ not often used\n",
    "\n",
    "** MBB - moving blocks bootstrap **\n",
    "\n",
    "\n",
    "> Künsch (1989) and Singh (1992) – independently introduced a more general BS\n",
    "procedure, the moving block BS (MBB) which is applicable to stationary time series data. In this method the blocks of observations are overlapping.\n",
    "\n",
    "Number of blocks: $n - l + 1$  \n"
   ]
  },
  {
   "cell_type": "markdown",
   "metadata": {},
   "source": [
    ">> IDEA: MBB for short clusterized time series"
   ]
  },
  {
   "cell_type": "markdown",
   "metadata": {},
   "source": [
    "#### Problems with MBB\n",
    "\n",
    "1. The pseudo time series generated by the moving block method is not stationary, even if the original series $\\{x_t\\}$ is stationary\n",
    "\n",
    "\n",
    "> Politis and Romano (1994):  **A stationary bootstrap method**\n",
    "\n",
    " Sampling blocks of random length, where the length of each block has a geometric distribution. They show that the pseudo time series generated by the stationary bootstrap method is indeed stationary\n",
    "\n",
    "The application of stationary bootstrap is less sensitive to the choice of $p$ than the application of moving block bootstrap is to the choice of $l$\n",
    "\n",
    "2. The mean $\\bar{x}^*_n$ of the moving block bootstrap is biased in the sense that: $$E(\\bar{x}^*_n | x_1, ... , x_n) \\neq \\bar{x}_n $$\n",
    "\n",
    "\n",
    "3. The MBB estimator of the variance of $\\sqrt{n} \\bar{x}_n$  is also biased\n",
    "\n",
    "> Davidson and Hall (1993): ** modification **\n",
    "\n",
    " Usual estimator: $\\hat{\\sigma}^2 = n^{-1}\\sum^n_{i=1}(x_i - \\bar{x}_n )^2$\n",
    "\n",
    " Modification:  $\\tilde{\\sigma}^2 = n^{-1}\\sum^n_{i=1}\\left((x_i - \\bar{x}_n )^2  + \\sum^{i-1}_{k=1} \\sum^{n-k}_{i=1} (x_i - \\bar{x}_n ) (x_{i+k} - \\bar{x}_n ) \\right)$\n",
    " \n",
    " With this modification the bootstrap can improve substantially on the normal approximation\n"
   ]
  },
  {
   "cell_type": "markdown",
   "metadata": {},
   "source": [
    "#### Optimal Length of Blocks\n",
    "\n",
    "Interested in minimizing the MSE of the block bootstrap estimate\n",
    "of the variance of a general statistic\n",
    "\n",
    "Carlstein’s rules for non-overlapping blocks: \n",
    "\n",
    "- As the block size increases: variance $\\uparrow$,  bias  $\\downarrow$\n",
    "\n",
    "- As the dependency among the $x_i$ gets stronger  a longer block size is needed\n",
    "\n",
    "- Optimal block size for AR(1) model $x_t = \\phi x_{t-1} + e_t $  is $l^* = \\left( \\dfrac{2\\phi}{1-\\phi^2}  \\right)^{2/3} n^{2/3}$ \n",
    "\n",
    "- Carlstein optimal block size:  $ l = n^{1/3} \\rho^{-2/3}$\n",
    "\n",
    "- Künsch optimal block size: $ l = (3/2 * n)^{1/3} \\rho^{-2/3} $, where the covariance of $x_t$ at lag $j$:\n",
    " \n",
    "$$ \\rho  = \\dfrac{\\gamma(0) + 2 \\sum^{\\infty}_{j=1} \\gamma(j) }{ \\sum^{\\infty}_{j=1} j \\gamma(j)}$$ \n",
    "\n",
    "- Hall and Horowitz’s rules for AR(1): $ \\rho = (1-\\phi^2)/\\phi$\n"
   ]
  },
  {
   "cell_type": "markdown",
   "metadata": {},
   "source": []
  },
  {
   "cell_type": "markdown",
   "metadata": {},
   "source": []
  },
  {
   "cell_type": "markdown",
   "metadata": {},
   "source": []
  }
 ],
 "metadata": {
  "kernelspec": {
   "display_name": "Python 3",
   "language": "python",
   "name": "python3"
  },
  "language_info": {
   "codemirror_mode": {
    "name": "ipython",
    "version": 3
   },
   "file_extension": ".py",
   "mimetype": "text/x-python",
   "name": "python",
   "nbconvert_exporter": "python",
   "pygments_lexer": "ipython3",
   "version": "3.6.5"
  }
 },
 "nbformat": 4,
 "nbformat_minor": 2
}
