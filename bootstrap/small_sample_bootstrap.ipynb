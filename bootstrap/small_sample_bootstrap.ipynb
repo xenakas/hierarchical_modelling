{
 "cells": [
  {
   "cell_type": "markdown",
   "metadata": {},
   "source": [
    "## [Small-Sample Inference and Bootstrap](https://ocw.mit.edu/courses/sloan-school-of-management/15-450-analytics-of-finance-fall-2010/lecture-notes/MIT15_450F10_lec09.pdf )"
   ]
  },
  {
   "cell_type": "markdown",
   "metadata": {},
   "source": [
    "In small samples, asymptotic inference may be unreliable:\n",
    "- Estimators may be consistent but biased.\n",
    "- Standard errors may be imprecise, leading to incorrect confidence intervals and statistical test size\n",
    "\n",
    "We can use simulation methods to deal with some of these issues:\n",
    "- Bootstrap can be used instead of asymptotic inference to deal with analytically challenging problems.\n",
    "- Bootstrap can be used to adjust for bias. \n",
    "- Monte Carlo simulation can be used to gain insight into the properties of statistical procedures. "
   ]
  },
  {
   "cell_type": "markdown",
   "metadata": {},
   "source": [
    "Estimate by OLS (GMM)\n",
    "$$x_t = a_0 + \\rho_1x_{t−1} + e_t$$\n",
    "We know that this estimator is consistent:\n",
    "\n",
    "$$p\\lim_{T\\to\\infty} \\hat{\\rho}_1  = {\\rho}_1 $$\n",
    "\n",
    "We want to know if this estimator is biased, i.e., we want to estimate\n",
    "$$ E(\\hat{\\rho}_1) - {\\rho}_1 $$"
   ]
  },
  {
   "cell_type": "markdown",
   "metadata": {},
   "source": [
    "Perform a Monte Carlo study to gain insight into the phenomenon, simulate independently N random series of length T, estimate the bias:\n",
    "$$ \\hat{E}(\\hat{\\rho}_1) - {\\rho}_1 =\\frac{1}{N} \\sum \\hat{\\rho}_1(i) - {\\rho}_1 $$\n",
    "\n",
    "Standard error of our simulation-based estimate is\n",
    "$$\\hat{\\sigma}=\\sqrt{\\frac{1}{N} \\sum (\\hat{\\rho}_1(i) - \\hat{E}(\\hat{\\rho}_1))^2 }$$"
   ]
  },
  {
   "cell_type": "markdown",
   "metadata": {},
   "source": [
    "There is an analytical formula for the average bias due to Kendall:\n",
    "$$ E(\\hat{\\rho}_1) - {\\rho}_1 \\approx -\\frac{1+3{\\rho}_1}{T}$$"
   ]
  },
  {
   "cell_type": "markdown",
   "metadata": {},
   "source": [
    "Consider a predictive regression (e.g., forecasting stock returns using\n",
    "dividend yield): \n",
    "$$ r_{t+1} = α + βx_t + u_{t+1} \\\\\n",
    "x_{t+1} = θ + ρx_t + ε_{t+1} $$\n",
    "\n",
    "\n",
    "Stambaugh bias:\n",
    "$$ E(\\hat{β} − β) = \\frac{Cov(u_t , ε_t)}{Var(ε_t)} E(\\hat{\\rho}) - {\\rho} \\approx -\\frac{1+3{\\rho}}{T}  \\frac{Cov(u_t , ε_t)}{Var(ε_t)} $$\n",
    "\n"
   ]
  },
  {
   "cell_type": "markdown",
   "metadata": {},
   "source": [
    "#### Bootstrap: General Principle\n"
   ]
  },
  {
   "cell_type": "markdown",
   "metadata": {},
   "source": [
    "- Bootstrap is effectively a Monte Carlo study which uses the empirical distribution as if it were the true distribution.\n",
    "- Used to evaluate distributional properties of complicated estimators, perform bias adjustment; improve the precision of asymptotic approximations in small samples (confidence intervals, test rejection regions, etc.) \n",
    "- For t-statistic, bootstrapped distribution is more accurate than the large-sample normal approximation.\n",
    "\n",
    "Bootstrap is not a silver bullet:\n",
    "- Does not work well if rare events are missing from the empirical sample;\n",
    "- Does not account for more subtle biases, e.g., survivorship, or sample selection.\n",
    "- Does not cure model misspecification. "
   ]
  },
  {
   "cell_type": "markdown",
   "metadata": {},
   "source": [
    "#### Parametric Bootstrap"
   ]
  },
  {
   "cell_type": "markdown",
   "metadata": {},
   "source": [
    "- Parametric bootstrap can handle non-IID samples.\n",
    "\n",
    "Example: a sample from an AR(1) process: \n",
    "$$x_t = a_0 + a_1x_{t−1} + e_t$$\n",
    "\n",
    "Want to estimate a confidence interval for $\\hat{a}_1$\n",
    "\n",
    "- Estimate the parameters $\\hat{a}_0$, $\\hat{a}_1$ and residuals $\\hat{e}_1$.\n",
    "\n",
    "- Generate R bootstrap samples for $x_t$: for each sample generate a long series according to the AR(1) dynamics with $\\hat{a}_0$, $\\hat{a}_1$, drawing shocks with replacement from the sample $\\hat{e}_1, ..., \\hat{e}_T$, then retain only the last T observations (drop the burn-in sample).\n",
    "\n",
    "- Compute the confidence interval as we would with basic nonparametric bootstrap using R samples. "
   ]
  },
  {
   "cell_type": "markdown",
   "metadata": {},
   "source": [
    "#### Bootstrap Bias Adjustment"
   ]
  },
  {
   "cell_type": "markdown",
   "metadata": {},
   "source": [
    "$$ E [\\hat{θ} - θ_0] \\approx  E_R[ \\hat{θ}^* -\\hat{θ} ] $$\n",
    "\n",
    "where $E_R$ denotes the average across the R bootstrapped samples.\n",
    "\n",
    "__Intuition:__ treat the empirical distribution as exact, compute the\n",
    "average bias across bootstrapped samples.\n",
    "\n",
    "__Caution:__ by estimating the bias, we may be adding sampling error.\n",
    "Correct for the bias if it is large compared to the standard error of $\\hat{θ}$"
   ]
  },
  {
   "cell_type": "markdown",
   "metadata": {},
   "source": []
  }
 ],
 "metadata": {
  "kernelspec": {
   "display_name": "R",
   "language": "R",
   "name": "ir"
  },
  "language_info": {
   "codemirror_mode": "r",
   "file_extension": ".r",
   "mimetype": "text/x-r-source",
   "name": "R",
   "pygments_lexer": "r",
   "version": "3.5.1"
  }
 },
 "nbformat": 4,
 "nbformat_minor": 2
}
