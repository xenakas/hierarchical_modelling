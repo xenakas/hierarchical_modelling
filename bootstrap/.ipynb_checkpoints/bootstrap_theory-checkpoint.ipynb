{
 "cells": [
  {
   "cell_type": "markdown",
   "metadata": {},
   "source": [
    "## [Bootstrapping](https://en.wikipedia.org/wiki/Bootstrapping_(statistics )"
   ]
  },
  {
   "cell_type": "markdown",
   "metadata": {},
   "source": [
    "In statistics, bootstrapping is any test or metric that relies on random sampling with replacement. This technique allows estimation of the sampling distribution of almost any statistic using random sampling methods. Generally, it falls in the broader class of resampling methods.\n",
    "\n",
    "Bootstrapping is the practice of estimating properties of an estimator (such as its variance) by measuring those properties when sampling from an approximating distribution. One standard choice for an approximating distribution is the empirical distribution function of the observed data. In the case where a set of observations can be assumed to be from an independent and identically distributed population, this can be implemented by constructing a number of resamples with replacement, of the observed dataset (and of equal size to the observed dataset).\n",
    "\n",
    "It may also be used for constructing hypothesis tests. It is often used as an alternative to statistical inference based on the assumption of a parametric model when that assumption is in doubt, or where parametric inference is impossible or requires complicated formulas for the calculation of standard errors."
   ]
  },
  {
   "cell_type": "markdown",
   "metadata": {},
   "source": [
    "The bootstrap was published by Bradley Efron in \"Bootstrap methods: another look at the jackknife\" (1979), inspired by earlier work on the jackknife. Improved estimates of the variance were developed later. A Bayesian extension was developed in 1981. The bias-corrected and accelerated (BCa) bootstrap was developed by Efron in 1987, and the ABC procedure in 1992."
   ]
  },
  {
   "cell_type": "markdown",
   "metadata": {},
   "source": [
    "###  [Эконометрический ликбез: бутстрап](http://quantile.ru/03/03-SA.pdf)\n",
    "\n",
    "- Бутстрапирование условных моделей временных рядов включает в себя [марковский бутстрап](https://www.ssc.wisc.edu/~bhansen/718/Horowitz%20Markov%20Bootstrap.pdf) (Horowitz, 2003) и его упрощенную версию – бутстрапирование марковской цепью (Anatolyev & Vasnev, 2002).\n",
    "- [Бутстрапирование моделей VAR](https://mpra.ub.uni-muenchen.de/23503/1/MPRA_paper_23503.pdf) и [функций импульсного отклика](https://www.ssc.wisc.edu/~bhansen/718/Kilian1998.pdf) обсуждается в Kilian (1998) и Kilian (1999), а [применение бутстрапа при прогнозировании](https://www.sciencedirect.com/science/article/pii/S0169207099000060) – в Kim (1999).\n",
    "- [Бутстрапирование моделей с единичным корнем](http://fmwww.bc.edu/RePEc/es2000/0401.pdf) и [соответствующих тестов](https://onlinelibrary.wiley.com/doi/abs/10.1111/1468-0262.00471) обсужда- ется в Inoue & Kilian (2002) и Park (2003), а [сеточный бутстрап для моделей с корнем, близким к единичному](https://www.ssc.wisc.edu/~bhansen/progs/restat_99.html) – в Hansen (1999)."
   ]
  },
  {
   "cell_type": "code",
   "execution_count": null,
   "metadata": {},
   "outputs": [],
   "source": []
  }
 ],
 "metadata": {
  "kernelspec": {
   "display_name": "R",
   "language": "R",
   "name": "ir"
  },
  "language_info": {
   "codemirror_mode": "r",
   "file_extension": ".r",
   "mimetype": "text/x-r-source",
   "name": "R",
   "pygments_lexer": "r",
   "version": "3.5.1"
  }
 },
 "nbformat": 4,
 "nbformat_minor": 2
}
