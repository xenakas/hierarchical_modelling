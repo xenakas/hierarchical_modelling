{
 "cells": [
  {
   "cell_type": "markdown",
   "metadata": {},
   "source": [
    "## [Bootstrapping](https://en.wikipedia.org/wiki/Bootstrapping_(statistics )"
   ]
  },
  {
   "cell_type": "markdown",
   "metadata": {},
   "source": [
    "In statistics, bootstrapping is any test or metric that relies on random sampling with replacement. This technique allows estimation of the sampling distribution of almost any statistic using random sampling methods. Generally, it falls in the broader class of resampling methods.\n",
    "\n",
    "Bootstrapping is the practice of estimating properties of an estimator (such as its variance) by measuring those properties when sampling from an approximating distribution. One standard choice for an approximating distribution is the empirical distribution function of the observed data. In the case where a set of observations can be assumed to be from an independent and identically distributed population, this can be implemented by constructing a number of resamples with replacement, of the observed dataset (and of equal size to the observed dataset).\n",
    "\n",
    "It may also be used for constructing hypothesis tests. It is often used as an alternative to statistical inference based on the assumption of a parametric model when that assumption is in doubt, or where parametric inference is impossible or requires complicated formulas for the calculation of standard errors."
   ]
  },
  {
   "cell_type": "markdown",
   "metadata": {},
   "source": [
    "The bootstrap was published by Bradley Efron in \"Bootstrap methods: another look at the jackknife\" (1979), inspired by earlier work on the jackknife. Improved estimates of the variance were developed later. A Bayesian extension was developed in 1981. The bias-corrected and accelerated (BCa) bootstrap was developed by Efron in 1987, and the ABC procedure in 1992."
   ]
  },
  {
   "cell_type": "markdown",
   "metadata": {},
   "source": [
    "### [Resampling Methods for Time Series](http://www-stat.wharton.upenn.edu/~stine/stat910/lectures/13_bootstrap.pdf)"
   ]
  },
  {
   "cell_type": "markdown",
   "metadata": {},
   "source": [
    "Main idea: estimate the sampling distribution of a statistic, with particular emphasis on the standard error of the statistic and finding a confidence interval for a statistic.\n",
    "The sampling distribution of a statistic $\\hat{θ}$ is the distribution  computed from repeated samples $X$ of size $n$ from some distribution $F$. The trick is to sample from the data itself rather than the\n",
    "population.\n",
    "\n",
    "Bootstrap sample is a sample drawn with replacement from the original\n",
    "sample $X$, denoted by $X^∗ ∼ F_n$ where $F_n$ is the empirical distribution\n",
    "of the observed sample $X$\n",
    "\n",
    "__Bootstrap\n",
    "resampling is not about simulation, it’s about using the empirical distribution $F_n$ in place of $F$. We simulate because its easy and because\n",
    "we often need this for statistics that are not linear.__"
   ]
  },
  {
   "cell_type": "markdown",
   "metadata": {},
   "source": [
    "Now consider two linear expansions, thinking of $T$ as an operator on distributions and $T'$ as a derivative (Frechet), \n",
    "$$\\hat{θ}^* = T(F^*_n ) ≈ T(F_n) + T'(F_n)(F^*_n − F_n) \\\\  \\hat{θ} = T(F_n) ≈ T(F) + T' (F)(F_n − F)$$  \n",
    "You get a hint that things are going in a nice direction because both $F_n − F$ and $F^*_n − F_n$ tend to a Brownian bridge as $n \\to \\infty$. Of course, we also need for the derivatives to be close as well."
   ]
  },
  {
   "cell_type": "markdown",
   "metadata": {},
   "source": [
    "> [__Brownian Bridge:__](http://www.randomservices.org/random/brown/Bridge.html)\n",
    "\n",
    "In the most common formulation, the Brownian bridge process is obtained by taking a standard Brownian motion process $X$, restricted to the interval $[0,1]$, and conditioning on the event that $X_1 = 0 $. Since  also $X_0 =0 $, the process is tied down at both ends, and so the process in between forms a bridge. The Brownian bridge turns out to be an interesting stochastic process with surprising applications, including a very important application to statistics. In terms of a definition, however, we will give a list of characterizing properties as we did for standard Brownian motion and for Brownian motion with drift and scaling.\n",
    "\n",
    "A Brownian bridge is a stochastic process $X = \\{X_t:t\\in[0,1]\\}$  with state space $\\mathbb{R}$ that satisfies the following properties:\n",
    "- $X_0=0$ and $X_1=0$  w.p.1\n",
    "- $X$ is a Gaussian process.\n",
    "- $E(X_t)=0$ for $t\\ in [0,1]$.\n",
    "- $cov(X_s,X_t) = min\\{s,t\\}-st$ for $s,t\\in [0,1]$.\n",
    "- w.p.1 $t \\to X_t $  is continuous on $[0,1]$."
   ]
  },
  {
   "cell_type": "markdown",
   "metadata": {},
   "source": [
    "###  [Эконометрический ликбез: бутстрап](http://quantile.ru/03/03-SA.pdf)\n",
    "\n",
    "- Бутстрапирование условных моделей временных рядов включает в себя [марковский бутстрап](https://www.ssc.wisc.edu/~bhansen/718/Horowitz%20Markov%20Bootstrap.pdf) (Horowitz, 2003) и его упрощенную версию – бутстрапирование марковской цепью (Anatolyev & Vasnev, 2002).\n",
    "- [Бутстрапирование моделей VAR](https://mpra.ub.uni-muenchen.de/23503/1/MPRA_paper_23503.pdf) и [функций импульсного отклика](https://www.ssc.wisc.edu/~bhansen/718/Kilian1998.pdf) обсуждается в Kilian (1998) и Kilian (1999), а [применение бутстрапа при прогнозировании](https://www.sciencedirect.com/science/article/pii/S0169207099000060) – в Kim (1999).\n",
    "- [Бутстрапирование моделей с единичным корнем](http://fmwww.bc.edu/RePEc/es2000/0401.pdf) и [соответствующих тестов](https://onlinelibrary.wiley.com/doi/abs/10.1111/1468-0262.00471) обсужда- ется в Inoue & Kilian (2002) и Park (2003), а [сеточный бутстрап для моделей с корнем, близким к единичному](https://www.ssc.wisc.edu/~bhansen/progs/restat_99.html) – в Hansen (1999)."
   ]
  },
  {
   "cell_type": "code",
   "execution_count": null,
   "metadata": {},
   "outputs": [],
   "source": []
  }
 ],
 "metadata": {
  "kernelspec": {
   "display_name": "R",
   "language": "R",
   "name": "ir"
  },
  "language_info": {
   "codemirror_mode": "r",
   "file_extension": ".r",
   "mimetype": "text/x-r-source",
   "name": "R",
   "pygments_lexer": "r",
   "version": "3.5.1"
  }
 },
 "nbformat": 4,
 "nbformat_minor": 2
}
