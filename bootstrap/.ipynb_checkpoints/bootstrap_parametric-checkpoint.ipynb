{
 "cells": [
  {
   "cell_type": "markdown",
   "metadata": {},
   "source": [
    "### [Resampling Methods for Time Series](http://www-stat.wharton.upenn.edu/~stine/stat910/lectures/13_bootstrap.pdf)\n",
    "\n",
    "#### Parametric bootstrap\n",
    "\n",
    "Suppose we know that the underlying process is AR(1). Then we can estimate the parameters and general bootstrap data as \n",
    "$$X^*_t = \\hat{φ}X^*_{t−1 } + w^*_t$$ \n",
    "where $w^*_ t ∼ G_n$ and $G_n$ is the empirical distribution of the estimated model residuals. This works, but requires that we know the data generating process. \n",
    "\n",
    "The use of long autoregressions in estimation suggests a workable approach, knowns as a __sieve bootstrap__. \n",
    "\n",
    "Idea: Fit an AR model with a large number of lags and use that model to generate the bootstrap replications. The success clearly depends on how well the AR model captures the dependence and the ratio of the length $n$ to the number of AR coefficients $p$. \n",
    "\n",
    "Parameter bias: The estimates of the AR coefficients are biased. Hence the “true” model that generates the bootstrap series is shifted away from the actual generating process. The effects of the bias are most pronounced for coefficients of processes with zeros near the unit circle  \n",
    "\n"
   ]
  },
  {
   "cell_type": "markdown",
   "metadata": {},
   "source": [
    "\n",
    "### [Parametric bootstrap](https://math.mit.edu/~dav/05.dir/class25-slides-all.pdf)\n",
    "\n",
    "Use the estimated parameter to estimate the variation of estimates of\n",
    "the parameter\n",
    "\n",
    "Data: $x_1, \\dots , x_n$ drawn from a parametric distribution $F(\\theta)$.\n",
    "\n",
    "Estimate $\\theta$ by a statistic $\\hat{\\theta}$ .\n",
    "\n",
    "Generate many bootstrap samples from $F(\\hat{\\theta})$.\n",
    "\n",
    "Compute the statistic $\\theta^{*}$ for each bootstrap sample.\n",
    "\n",
    "Compute the bootstrap difference\n",
    "$$\\delta^{*} = \\theta^{*} -  \\hat{\\theta}$$\n",
    "\n",
    "Use the quantiles of $\\delta^{*} $  to approximate quantiles of $\\delta =  \\hat{\\theta} - \\theta $\n",
    "\n",
    "Set a confidence interval\n",
    "$$ [  \\hat{\\theta}  − \\delta^{*}_{1 - \\alpha/2}; \\hat{\\theta}  − \\delta^{*}_{\\alpha/2}  ] $$ \n",
    "\n",
    "\n",
    "#### [Parametric bootstrap for TS](http://www-stat.wharton.upenn.edu/~stine/stat910/lectures/13_bootstrap.pdf)\n",
    "\n",
    "Suppose we know that the underlying process is AR(1). \n",
    "Then we can estimate the parameters and general bootstrap\n",
    "data as\n",
    "\n",
    "$$X^{∗}_t = \\hat{\\phi} Xˆ{∗}_{t−1} + w^{∗}_t$$\n",
    "\n",
    "where $w^{∗}_t \\sim G_n$ and $G_n$ is the empirical distribution of the estimated\n",
    "model residuals. This works, but requires that we know the data\n",
    "generating process.\n",
    "\n",
    "The use of long autoregressions in estimation suggests a workable approach,\n",
    "knowns as a sieve bootstrap. The idea is simple. \n",
    "Fit an AR\n",
    "model with a large number of lags and use that model to generate the\n",
    "bootstrap replications. \n",
    "The success clearly depends on how well the\n",
    "AR model captures the dependence and the ratio of \n",
    "the length n to\n",
    "the number of AR coefficients p.\n",
    "\n",
    "\n",
    "The estimates of the AR coefficients are biased. Hence\n",
    "the “true” model that generates the bootstrap series is shifted away\n",
    "from the actual generating process. \n",
    "\n",
    "\n"
   ]
  },
  {
   "cell_type": "code",
   "execution_count": null,
   "metadata": {},
   "outputs": [],
   "source": []
  }
 ],
 "metadata": {
  "kernelspec": {
   "display_name": "Python 3",
   "language": "python",
   "name": "python3"
  },
  "language_info": {
   "codemirror_mode": {
    "name": "ipython",
    "version": 3
   },
   "file_extension": ".py",
   "mimetype": "text/x-python",
   "name": "python",
   "nbconvert_exporter": "python",
   "pygments_lexer": "ipython3",
   "version": "3.6.5"
  }
 },
 "nbformat": 4,
 "nbformat_minor": 2
}
