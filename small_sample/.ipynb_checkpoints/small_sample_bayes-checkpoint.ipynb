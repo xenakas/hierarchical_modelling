{
 "cells": [
  {
   "cell_type": "markdown",
   "metadata": {},
   "source": [
    "### [Bayesian Methods for Small Population Analysis](https://sites.nationalacademies.org/cs/groups/dbassesite/documents/webpage/dbasse_184766.pdf)\n",
    "\n"
   ]
  },
  {
   "cell_type": "markdown",
   "metadata": {},
   "source": [
    "Seldom can inferences from small populations stand on their own, because estimates are unstable (have low precision). Therefore, modeling or other stabilization/(information enhancement) is\n",
    "necessary; strategies include:\n",
    "- Aggregation\n",
    "- Regression both within and across populations\n",
    "- Hierarchical (Bayesian/EB) modeling to ‘borrow information’ within and between data sources\n"
   ]
  },
  {
   "cell_type": "markdown",
   "metadata": {},
   "source": [
    "Stabilization/enrichment targets include,\n",
    "- Estimated regression slopes and residual variances\n",
    "- Small Area (Domain) estimates (SAEs)\n",
    "- Estimated SMRs and the challenges of low information\n",
    "- Survey weights (Gelman, 2007)"
   ]
  },
  {
   "cell_type": "markdown",
   "metadata": {},
   "source": [
    "#### Shrinkage can be controversial (Normand et al., 2016)\n",
    "- Direct estimates with greatest uncertainty are shrunken closest to the regression surface, potentially conferring undue benefits or punishments. \n",
    "- Especially troublesome when the model is mis-specified (always true!) and sample size is informative so that the degree of shrinkage is ‘connected at the hip’ to the underlying truth\n",
    "- Standard model fitting gives more weight to the stable units, consequently the units that ‘care about’ the regression model have less influence on it\n",
    "- Recent approaches increase the weights for the relatively unstable units, paying some variance, but improving estimation performance for mis-specified models (Chen et al., 2015; Jiang et al., 2011)"
   ]
  },
  {
   "cell_type": "markdown",
   "metadata": {},
   "source": [
    "#### Trading off Variance and Bias (for the linear model)\n",
    "\n",
    "Each with an underlying feature of interest ($θ_k$ ), $k$ units (individuals, clusters, regions, . . . ).\n",
    "\n",
    "\n",
    "A direct (unbiased) estimate of it ($Y_k$ ), with estimated variance ($\\hat{σ}_k^2$)\n",
    "\n",
    "\n",
    "Unit-specific attributes $X_k$  produce,\n",
    "$$ regression \\ prediction = \\hat{β}X_k \\\\\n",
    "residual = Y_k - \\hat{β}X_k  $$\n",
    "\n",
    "Inviting three choices for estimating the $θ_k$:\n",
    "- Direct: Use the $Y_k$ (unbiased, but possibly unstable)\n",
    "- Regression: Use the regression (stable, but possibly biased)\n",
    "- Middle ground: A weighted average of Regression and Direct\n",
    "\n",
    "$$ \\hat{θ}_k = regression \\ prediction + (1 − \\hat{B}_k ) * residual\n",
    "= \\hat{β}X_k   +  (1 − \\hat{B}_k )( Y_k - \\hat{β}X_k )$$\n",
    "\n",
    "$\\hat{B}_k = \\frac{\\hat{σ}_k^2}{\\hat{σ}_k^2 + \\hat{\\tau}^2} $,  $\\hat{\\tau}^2$ -  residual/unexplained variance, model lack of fit\n",
    "\n"
   ]
  },
  {
   "cell_type": "markdown",
   "metadata": {},
   "source": [
    "#### Stabilizing Variance Estimates\n",
    "\n",
    "The $\\hat{σ}_k^2$ come from a (Gamma) prior with,\n",
    "- Estimated mean $\\hat{m}^2$\n",
    "- Estimated effective sample size $\\hat{M}^2$\n",
    "The empirical Bayes estimates are,\n",
    "$$\\tilde{σ}_k^2 = \\hat{m} + (1 − B_k )(\\hat{σ}_k^2 - \\hat{m}) $$ \n",
    "\n",
    "$B_k = \\frac{\\hat{M} }{\\hat{M} + d_k }, \\tilde{d}_k \\approx B_kd_+ + (1 − B_k )d_k  $\n",
    "\n",
    "$d_k = n  − 2 $ - degrees of freedom\n",
    "\n",
    "\n",
    "The distribution of $\\tilde{σ}_k^2$ isn’t chi-square, but a fully Bayesian analysis (possibly via MCMC) produces the joint posterior distribution of the slopes and variances,\n",
    "and supports valid intervals and other inferences\n",
    "\n"
   ]
  },
  {
   "cell_type": "markdown",
   "metadata": {},
   "source": [
    "### [Bayesian methods for small population analysis](https://www.nap.edu/read/25112/chapter/8)\n",
    "\n"
   ]
  },
  {
   "cell_type": "markdown",
   "metadata": {},
   "source": [
    "Hoyle suggested several ways to strategically think about adjustments in the study plan that would help to support inference in a small sample situation. He showed a general t-test—the ratio of a parameter estimate to its standard error. If the goal is to detect a significant effect, there are two options for increasing t: increase the parameter estimate or decrease the standard error."
   ]
  },
  {
   "cell_type": "markdown",
   "metadata": {},
   "source": [
    "Louis said that, as discussed by Hoyle, regression functions and equations are attractive. However, he said that he would focus on Bayesian empirical-based hierarchal models that borrow information across units. Bayesian formalism, the engine of Bayesian analysis, forces thinking that produces effective approaches. He gave an example of trading off bias and variance for a linear model. \n",
    "\n",
    "Nothing in the Bayesian approach eliminates the hard work needed to develop a good model, he stressed. The regression model can be used to produce estimates that may be quite stable; however, the unit-level estimates are likely to be biased. Now there are two estimates, the direct estimate that is unbiased but has high variance, and the regression estimate that may be biased but has lower variance. In this context, Bayesian modeling suggests a middle ground—an estimate that is partway between the direct estimate and the regression estimate. The Bayes estimate is a third estimate, a weighted average of the direct estimate and the regression estimate. The weight applied to the direct estimate will be close to 1 if the direct estimate has low variance relative to the regression estimate. However, if the direct estimate has high variance relative to the regression estimate, the weight on the regression estimate will be higher."
   ]
  },
  {
   "cell_type": "markdown",
   "metadata": {},
   "source": [
    "### [Bayesian Forecasting Methods for Short Time Series](http://allman.rhon.itam.mx/~mendoza/Foresight.pdf)"
   ]
  },
  {
   "cell_type": "markdown",
   "metadata": {},
   "source": [
    "- When you have seasonal data but too short a history to estimate a seasonal model, a Bayesian approach can be productive.\n",
    "- The Bayesian approach relies on proportions of partial-year to total-year figures and assumes that these proportions are stable from year to year.\n",
    "- We compare the Bayesian approach with that of a traditional model and find that the Bayesian approach is superior for short time series but inferior for lengthy time series. "
   ]
  },
  {
   "cell_type": "markdown",
   "metadata": {},
   "source": [
    "When forecasts are required for the year-end total of a short time series, the use of the\n",
    "yearly ratios of part-year totals to whole-year totals for previous years can play an\n",
    "important role. \n",
    "\n",
    "To determine whether seasonality is stable, you can calculate for each year of history the\n",
    "cumulative proportion of the part-year total occurring through the current month. If\n",
    "seasonality is stable, then these yearly-to-date proportions should all be close to each other. "
   ]
  },
  {
   "cell_type": "markdown",
   "metadata": {},
   "source": [
    "#### [Forecasting an Accumulated Series Based on Partial Accumulation: A Bayesian Method for Short Series with Seasonal Patterns](http://citeseerx.ist.psu.edu/viewdoc/download?doi=10.1.1.197.2717&rep=rep1&type=pdf)"
   ]
  },
  {
   "cell_type": "markdown",
   "metadata": {},
   "source": [
    "We present a Bayesian solution to forecasting a time series when few observations are available.  A simple model describes the relation between partial and total values, assuming stable\n",
    "seasonality. Exact analytic results are obtained for point forecasts and the posterior predictive distribution. Noninformative priors allow automatic implementation. The procedure works well when standard\n",
    "methods cannot be applied due to the reduced number of observations."
   ]
  },
  {
   "cell_type": "markdown",
   "metadata": {},
   "source": [
    "We present a\n",
    "Bayesian procedure for forecasting an accumulated value of\n",
    "a positive and continuous-valued time series, based on obser-\n",
    "vation of a partial accumulation"
   ]
  },
  {
   "cell_type": "markdown",
   "metadata": {},
   "source": [
    "__If few observations are available, then it is\n",
    "very unlikely that standard methods will yield good forecasts.\n",
    "If, in addition to having a small number of observations, it\n",
    "is known that the series is seasonal, then traditional methods\n",
    "such as ARIMA are at a disadvantage. With monthly data, a typical seasonal ARMA model will include\n",
    "seasonal lags of order 12, which reduces the effective sam-\n",
    "ple size by 12. If only 24 observations are available then\n",
    "the effective sample size would be 12. If in addition the series\n",
    "is nonstationary so that seasonal differencing is required (an\n",
    "ARIMA model), this will again reduce the effective sample\n",
    "size by 12: With a seasonal ARIMA model, the number of\n",
    "observations that can effectively be used in the estimation pro-\n",
    "cess is reduced by 24.__"
   ]
  },
  {
   "cell_type": "markdown",
   "metadata": {},
   "source": []
  },
  {
   "cell_type": "markdown",
   "metadata": {},
   "source": []
  },
  {
   "cell_type": "markdown",
   "metadata": {},
   "source": []
  }
 ],
 "metadata": {
  "kernelspec": {
   "display_name": "Python 3",
   "language": "python",
   "name": "python3"
  },
  "language_info": {
   "codemirror_mode": {
    "name": "ipython",
    "version": 3
   },
   "file_extension": ".py",
   "mimetype": "text/x-python",
   "name": "python",
   "nbconvert_exporter": "python",
   "pygments_lexer": "ipython3",
   "version": "3.6.5"
  }
 },
 "nbformat": 4,
 "nbformat_minor": 2
}
