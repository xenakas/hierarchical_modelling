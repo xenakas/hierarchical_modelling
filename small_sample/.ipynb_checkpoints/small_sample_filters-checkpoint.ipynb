{
 "cells": [
  {
   "cell_type": "markdown",
   "metadata": {},
   "source": [
    "## Adaptive filters"
   ]
  },
  {
   "cell_type": "markdown",
   "metadata": {},
   "source": [
    "### [Interpolation based on stationary and adaptive AR(1) modeling](http://publications.lib.chalmers.se/records/fulltext/146866/local_146866.pdf)"
   ]
  },
  {
   "cell_type": "markdown",
   "metadata": {},
   "source": [
    "In this paper, we describe a minimal mean square error (MMSE)\n",
    "optimal interpolation filter for discrete random signals. We explicitly\n",
    "derive the interpolation filter for a first-order autoregressive process\n",
    "(AR(1)), and show that the filter depends only on the two adjacent\n",
    "points. The result is extended by developing an algorithm called\n",
    "local AR approximation (LARA), where a random signal is locally\n",
    "estimated as an AR(1) process. Experimental evaluation illustrates\n",
    "that LARA interpolation yields a lower mean square error than other\n",
    "common interpolation techniques, including linear, spline and local\n",
    "polynomial approximation (LPA)."
   ]
  },
  {
   "cell_type": "markdown",
   "metadata": {},
   "source": [
    "For a discrete random signal with known spectrum, we derive\n",
    "the optimal interpolation filter in a minimum mean square error\n",
    "(MMSE) sense.   We derive an\n",
    "explicit form of this filter for a stationary first-order autoregressive\n",
    "process (AR(1)).  The resulting filter is then extended to a general\n",
    "interpolation algorithm, that can be used on a larger set of signals. This is done by approximating the signal locally as an AR(1) process, where the AR(1) parameter is estimated from the data without\n",
    "prior information about the original signal. We name this algorithm\n",
    "local AR approximation (LARA)."
   ]
  },
  {
   "cell_type": "markdown",
   "metadata": {},
   "source": [
    "To evaluate the performance of LARA interpolation, we compare it with other interpolation techniques: linear, spline and local\n",
    "polynomial approximation (LPA)  interpolation."
   ]
  },
  {
   "cell_type": "markdown",
   "metadata": {},
   "source": [
    "Let us therefore introduce the filters $H_k, (k = 0, .., L − 1)$,\n",
    "where $H_k$ reconstructs samples of the form\n",
    "$$x_{dk}[n] = x[nL + k]$$\n",
    "For each of these interpolation filters, the optimal filter, in the MMSE sense, is a Wiener filter:\n",
    "$$ H_k(e^{jΩ_d} ) = \\frac{P_{x_dx_{dk}} (e^{jΩd} )}{P_{x_dx_d} (e^{jΩd} ) }$$\n",
    "where $Ω_d$ is the angular frequency in radians/sample, $P_{x_dx_d}$ is the\n",
    "spectrum of $x_d$ and $P_{x_dx_{dk}}$ is the cross spectrum of $x_d$ and $x_{dk}$. "
   ]
  },
  {
   "cell_type": "markdown",
   "metadata": {},
   "source": [
    "#### Application to a first-order autoregressive process"
   ]
  },
  {
   "cell_type": "markdown",
   "metadata": {},
   "source": [
    "Assume that the process $x[n]$ is a stationary AR(1) process,\n",
    "$$x[n] = ax[n − 1] + v[n]$$\n",
    "\n",
    "Since the AR(1) process is Markovian, it is reasonable that the\n",
    "optimal interpolation filter only needs to consider information from\n",
    "the two adjacent points. While downsampled AR(1) processes are\n",
    "still AR(1), this is unfortunately not the case for higher-order AR\n",
    "processes, thereby limiting the generalisation of Proposition about MMSE optimal interpolation filter."
   ]
  },
  {
   "cell_type": "markdown",
   "metadata": {},
   "source": [
    "#### Comparison to linear interpolation\n",
    "\n",
    "The filter produces interpolation points by a\n",
    "weighted mean of the previous and the following sample point.\n",
    "Note the close relationship between the AR(1) filter and ordinary\n",
    "linear interpolation, defined as\n",
    "$$x[Ln + k] = \\frac{(L − k)}{L}  x_d[n] + \\frac{k}{L}x_d[n + 1]$$\n",
    "and for the AR(1) interpolation filter.\n",
    "\n",
    "Fig.1 shows that the coefficients of the AR(1) filter are damped versions of the linear interpolation coefficients. The AR(1) filter considers the stochastic nature of the signal and introduces a bias towards the mean, which in this case is zero. The larger $a$ is (i.e., less\n",
    "stochasticity), the more our filter resembles linear interpolation.\n",
    "\n",
    "Local AR approximation (LARA) can be seen\n",
    "as a stochastic version of the LPA method, the latter being better\n",
    "suited for deterministic signals."
   ]
  },
  {
   "cell_type": "markdown",
   "metadata": {},
   "source": [
    "## [Wiener filter](https://en.wikipedia.org/wiki/Wiener_filter)\n",
    "\n",
    "In signal processing, the Wiener filter is a filter used to produce an estimate of a desired or target random process by linear time-invariant (LTI) filtering of an observed noisy process, assuming known stationary signal and noise spectra, and additive noise. The Wiener filter minimizes the mean square error between the estimated random process and the desired process.\n",
    "\n",
    "The goal of the Wiener filter is to compute a statistical estimate of an unknown signal using a related signal as an input and filtering that known signal to produce the estimate as an output. For example, the known signal might consist of an unknown signal of interest that has been corrupted by additive noise. The Wiener filter can be used to filter out the noise from the corrupted signal to provide an estimate of the underlying signal of interest. The Wiener filter is based on a statistical approach, and a more statistical account of the theory is given in the minimum mean square error (MMSE) estimator article.\n",
    "\n",
    "Wiener filters are characterized by the following:\n",
    "\n",
    "- Assumption: signal and (additive) noise are stationary linear stochastic processes with known spectral characteristics or known autocorrelation and cross-correlation\n",
    "- Requirement: the filter must be physically realizable/causal (this requirement can be dropped, resulting in a non-causal solution)\n",
    "- Performance criterion: minimum mean-square error (MMSE)\n",
    "\n",
    "This filter is frequently used in the process of deconvolution; for this application, see Wiener deconvolution:\n",
    "\n",
    "Given a system:\n",
    " $$y(t)=(h* x)(t)+n(t)$$\n",
    "where $x(t)$  is some original signal (unknown) at time  $t$, \n",
    "$ h(t)$  is the known impulse response of a linear time-invariant system, $n(t)$  is some unknown additive noise, $y(t)$ is our observed signal\n",
    "\n",
    "Our goal is to find some  $g(t)$ so that we can estimate  $x(t)$ as follows:\n",
    "$$ \\hat{x}(t)=(g∗y)(t)$$ \n",
    "where  ${\\hat {x}}(t)$ is an estimate of  $ x(t)$  that minimizes the mean square error.\n",
    "\n",
    "The Wiener deconvolution filter provides such a  $g(t)$. The filter is most easily described in the frequency domain:\n",
    "\n",
    "$$G(f)={\\frac {H^{*}(f)S(f)}{|H(f)|^{2}S(f)+N(f)}}$$\n",
    "where $G(f)$ and  $H(f)$ are the Fourier transforms of  $g$  and  $h$, respectively at frequency  $f$; $ S(f)$ is the mean power spectral density of the original signal  $x(t)$;  $N(f)$ is the mean power spectral density of the noise  $n(t)$ \n",
    "\n",
    "The filtering operation may either be carried out in the time-domain, as above, or in the frequency domain:\n",
    "\n",
    " $${\\hat {X}}(f)=G(f)Y(f)$$\n",
    "\n",
    "where ${\\displaystyle {\\hat {X}}(f)}$ and ${\\displaystyle Y(f)}$ are the Fourier transforms of ${\\hat {x}}(t)$ and $y(t)$; then  inverse Fourier transform is performed on   ${\\hat {X}}(f)$ to obtain  ${\\hat {x}}(t)$.\n",
    "\n",
    "\n",
    "\n",
    "\n",
    "\n"
   ]
  },
  {
   "cell_type": "markdown",
   "metadata": {},
   "source": [
    "## Bayesian filter"
   ]
  },
  {
   "cell_type": "markdown",
   "metadata": {},
   "source": [
    "### [Introduction to recursive Bayesian filtering](https://people.csail.mit.edu/mrub/talks/filtering.pdf)"
   ]
  },
  {
   "cell_type": "markdown",
   "metadata": {},
   "source": [
    "Input: Noisy measurements\n",
    "Goal: Estimate most probable measurement at time $k$ using\n",
    "measurements up to time $k'$\n",
    "- $k'<k$: prediction\n",
    "- $k'>k$: smoothing\n",
    "- $k'=k$: filtering\n",
    "\n",
    "\n",
    "\n",
    "__(First‐order) Markov process:__\n",
    "\n",
    "The Markov property - the likelihood of a future state depends on present state only:\n",
    "\n",
    "$$ Pr[X (k+h ) =y| X(s) =x(s), \\forall s \\leq k ] = Pr[X (k+h ) =y| X(k) =x(k)],  \\forall h >  0 $$\n",
    "\n",
    "\n",
    "Markov chain – a stochastic process with\n",
    "Markov property\n",
    "\n",
    "Hidden Markov Model (HMM) - the state is not directly visible, but output dependent on the state is visible\n",
    "\n",
    "__State space:__\n",
    "- The state vector contains all available information information to describe describe the investigated investigated system (usually multidimensional)\n",
    "- The measurement vector represents observations related to the state vector (generally, but not necessarily, of lower dimension than the state vector)\n",
    "\n",
    "__Dynamic System__\n",
    "\n",
    "State equation: $ x_k = f_k ( x_{k-1}, v_k) $\n",
    "\n",
    "Observation equation: $ z_k = h_k ( x_{k}, w_k) $\n",
    "\n",
    "- $x_k $ - state vector at time instant  $k$, $z_k$ observations at time instant  $k$; \n",
    "\n",
    "- $f_k: R^{N_x} \\times R^{N_v} \\to R^{N_x}$ - state transition function, \n",
    "- $h_k: R^{N_x} \\times R^{N_w} \\to R^{N_z}$ - observation function;\n",
    "\n",
    "- $v_k$ - i.i.d process noise, $w_k$ - i.i.d measurement noise\n"
   ]
  },
  {
   "cell_type": "markdown",
   "metadata": {},
   "source": [
    "#### Recursive Bayes filters\n",
    "Given:\n",
    "- System models in probabilistic forms (known statistics of $v_k, w_k$):\n",
    "$$x_k = f_k(x_{k-1}, v_k )  \\leftrightarrow  p(x_k |x_{k-1} ) \\\\\n",
    "z_k = h_k(x_{k}, w_k )  \\leftrightarrow  p(z_k |x_{k} )$$\n",
    "- Initial state $p(x_0|z_0 ) = p(x_0)$ also known as the prior\n",
    "- Measurements $z_1,\\dots, z_k$\n",
    "\n",
    "Prediction step (a‐priori):\n",
    "$$p(x_{k-1}| z_{1:k-1}) \\to p(x_k| z_{1:k-1})$$\n",
    "- Uses the system model to predict forward\n",
    "- Deforms/translates/spreads state pdf due to random noise\n",
    "\n",
    "Update step (a‐posteriori):\n",
    "$$p(x_k|z_{1:k-1} ) \\to p(x_k |z_{1:k}) $$ \n",
    "- Update the prediction in light of new data\n",
    "- Tightens the state pdf\n",
    "\n",
    "Prediction:\n",
    "$$p(x_k|z_{1:k-1} ) = \\int  p(x_k |x_{k-1})  p(x_{k-1} |z_{1:k-1})dx_{k-1} $$ \n",
    "- $p(x_k |x_{k-1})$ - system model\n",
    "- $p(x_{k-1} |z_{1:k-1})$ - previous posterior \n",
    "- Using Chapman‐Kolmogorov identity + Markov property\n",
    "\n",
    "Update step:\n",
    "$$p(A|B,C) = \\frac{p(B|A,C) p(A|C)}{p(B|C)} \\\\ \n",
    "p(x_k|z_{1:k} ) =  p(x_k |z_k, z_{1:k-1}) =  \\frac{p(z_{k}|x_k) p(x_{k}|z_{1:k-1})}{p(z_k|z_{1:k-1})}   $$\n",
    "- $p(z_{k}|x_k)$ - Likelihood - measurement model\n",
    "- $p(x_{k}|z_{1:k-1})$ - Prior - current prior\n",
    "- $p(z_k|z_{1:k-1})$  - Measurement - normalization  constant\n",
    "\n",
    "\n",
    "Generating estimates:\n",
    "- Knowledge of $p(x_k|z_{1:k})$ enables to compute optimal estimate with respect to any criterion. \n",
    "    - Minimum mean‐square error (MMSE): $\\hat{x}_{k| k}^{MMSE}= E[ x_k| z_{1:k}] = \\int  x_k p( x_k |z_{1:k}) dx_k $\n",
    "    - Maximum a‐posteriori: $\\hat{x}^{MAP}_{k|k} = \\arg \\max_{x_k} p (x_k | z_k) $\n",
    "    "
   ]
  },
  {
   "attachments": {
    "image.png": {
     "image/png": "[encoded data removed]"
    }
   },
   "cell_type": "markdown",
   "metadata": {},
   "source": [
    "![image.png](attachment:image.png)"
   ]
  },
  {
   "cell_type": "markdown",
   "metadata": {},
   "source": [
    "### [From Bayes to Extended Kalman Filter](http://people.ciirc.cvut.cz/~hlavac/TeachPresEn/55AutonomRobotics/2015-05-04ReinsteinBayes-ekf.pdf)\n",
    "\n",
    "Overview of the Probability Rules:\n",
    "- $A, B$ are conditionally independent: $P(A, B|C) = P(A|C)P(B|C)$\n",
    "- The Bayes theorem: $ P(A|B) = \\frac{P (B|A)P (A)}{\\sum_A P (B|A) P (A)} $\n",
    "- General inference: $ P(V |S) = \\frac{P(V, S)}{P(S)} = \\frac{\\sum_{A,B,C} P(S, A, B, C, V ) }{\\sum_{S,A,B,C} P(S, A, B, C, V )}$\n",
    "\n",
    "Multivariate Normal distribution: \n",
    "- $p(x;\\mu,\\Sigma) = \\frac{1}{(2\\pi)^{n/2}|\\Sigma|^{1/2}} \\exp{(-1/2 (x-\\mu)^T \\Sigma^{-1}(x-\\mu))}$\n",
    "- $\\mu = 1/m \\sum_{i=1}^m  x^{(i)}$\n",
    "- $\\Sigma = 1/m \\sum^m_{i=1} (x^{(i)}-\\mu) (x^{(i)}-\\mu)^T$\n",
    "\n",
    "MAP - Maximum A-Posteriori Estimation:\n",
    "\n",
    "Given an observation $z$, a likelihood function $p(z|x)$ and prior distribution\n",
    "$p(x)$ on $x$, the maximum a posteriori estimator MAP finds the value of $x$\n",
    "which maximizes the posterior distribution $p(x|z)$:\n",
    "$$\\hat{x}_{MAP} = \\arg \\max_x p(z|x)p(x)$$\n",
    "\n",
    "\n",
    "MMSE - Minimum Mean Squared Error:\n",
    "\n",
    "We want to find such a $\\hat{x}$, an estimate of $x$, that given a set\n",
    "of measurements $Z^k = \\{z_1,\\dots, z_k\\}$ it minimizes the mean squared error between the true value and this estimate.\n",
    "$$\\hat{x}_{MMSE} = \\arg \\min_{\\hat{x}} E\\{ (\\hat{x} − x)^T (\\hat{x} − x) | Z^k\\} = E\\{x|Z^k\\}$$\n",
    "The MMSE estimate given a set of measurements is\n",
    "the mean of that variable conditioned on the measurements! \n",
    "\n",
    "__RBE - Recursive Bayesian Estimation__\n",
    "\n",
    "RBE is the natural extension of MAP to time-stamped sequence of observations\n",
    "being processed at each time step. In RBE we use the priory estimate and current measurement to compute the posteriori estimate $\\hat{x}$.\n",
    "- When the next measurement comes we use our previous posteriori estimate as a new prior and proceed with the same estimation rule.\n",
    "- Hence for each time-step $k$ we obtain an estimate for it’s state given all observations up to that time (the set Z\n",
    "- Using the Bayes rule and conditional independence of measurements:\n",
    "$$p(x, Z^k) = p(x|Z^k)p(Z^k) = p(Z^k|x)p(x) = p(Z^{k−1}|x)p(z_k|x)p(x)$$\n",
    "- We express $p(Z^{k−1}|x)$ and substitute for it to get:\n",
    "$$p(x|Z^k) = \\frac{p(z_k|x)p(x|Z^{k−1})p(Z^{k−1})}{p(Z^k)}$$\n",
    "\n",
    "RBE is extension of MAP to time-stamped sequence of observations: we obtain RBE as the likelihood of current $k^{th}$ measurement\n",
    "times prior which is our last best estimate of $x$ at time $k − 1$ conditioned on\n",
    "measurement at time $k − 1$ (denominator is just a normalizing constant):\n",
    "\n",
    "$$p(x|Z^k) = \\frac{p(z_k|x)p(x|Z^{k−1})}{p(z^k|Z^{k-1})}=\\frac{current \\  likelihood \\times last \\ best \\ estimate}{normalizing \\ constant\n",
    "}$$\n",
    "\n"
   ]
  },
  {
   "cell_type": "markdown",
   "metadata": {},
   "source": [
    "## [Kalman filter](https://jyx.jyu.fi/bitstream/handle/123456789/49043/ThesisJouniHelske.pdf?sequence=1)"
   ]
  },
  {
   "cell_type": "markdown",
   "metadata": {},
   "source": [
    "The linear Gaussian state space model can be written as\n",
    "$$y_t = Z_tα_t + e_t, \\ (observation  \\ equation) \\\\ \n",
    "α_{t+1} = T_tα_t + R_tη_t \\  (state \\  equation) $$\n",
    "where $e_t \\sim N(0, H_t), η_t \\sim N(0, Q_t),  α_1 \\sim N(a_1, P_1)$ independently of each other. Here\n",
    "the vector $y_t$ contains the observations at time $t$, whereas $α_t$\n",
    "is the vector of the latent state\n",
    "process at time $t$. The system matrices $Z_t, T_t, R_t$, together with the covariance matrices $H_t$ and $Q_t$ depend on the particular model definition, and often some of these matrices contain\n",
    "unknown (hyper)parameters $ψ$ which need to be estimated. If a particular matrix such as $Z_t$ does not depend on $t$, it is said to be time-invariant. \n",
    "\n",
    "The main algorithms for the inference of Gaussian state space models are the Kalman filtering\n",
    "and smoothing recursions. From the Kalman filtering algorithm we obtain the one-step-ahead predictions and the prediction errors\n",
    "$$ a_{t+1} = E(α_{t+1}|y_t, ... , y_1)\\\\ v_t = y_t − E(y_t|y_{t−1}, ... , y_1)$$\n",
    "and their covariance matrices:\n",
    "$$P_{t+1} = Var(α_{t+1}|y_t, ... , y_1) \\\\ F_t = Var(v_t)$$\n",
    "\n",
    "$a_{t+1}$ is also the minimum variance linear posterior mean\n",
    "estimate. Therefore, given the hyperparameters $ψ$, the resulting predictive distributions are Bayesian posterior distributions given the prior distribution $N(a_1, P_1)$."
   ]
  },
  {
   "cell_type": "markdown",
   "metadata": {},
   "source": [
    "State space models can also be extended to non-Gaussian cases. In\n",
    "the R package KFAS presented in Article IV, possible choices for observational distributions\n",
    "are Gaussian, Poisson, binomial, negative binomial and gamma distributions. Note that it is\n",
    "possible to define a multivariate model where each series has different distribution\n"
   ]
  },
  {
   "cell_type": "markdown",
   "metadata": {},
   "source": [
    "#### [The Kalman filter](https://people.csail.mit.edu/mrub/talks/filtering.pdf)\n",
    "\n",
    "$$p( x_{k-1}| z_{1:k-1} =  N (x_{k-1}; \\hat{x}_{k-1|k-1},  P_{k-1|k-1}) \\\\ p( x_{k}| z_{1:k-1} =  N (x_{k}; \\hat{x}_{k|k-1},  P_{k|k-1} )\\\\\n",
    "p( x_{k}| z_{1:k} =  N (x_{k}; \\hat{x}_{k|k},  P_{k|k})$$\n",
    "\n",
    "Substituting yields the predict and update equations\n",
    "\n",
    "Predict:\n",
    "$$\\hat{x}_{k|k-1}=F_k\\hat{x}_{k-1|k-1} \\\\\n",
    "P_{k|k-1} = F_kP_{k-1|k-1}F_k^T + Q_k$$\n",
    "\n",
    "Update:\n",
    "$$S_k=H_kP_{k|k-1}H^T_k +R_k\\\\\n",
    "K_k=P_{k|k-1}H^T_kS^{-1}_k \\\\\n",
    "\\hat{x}_{k|k} = \\hat{x}_{k|k-1} + K_k (z_k - H_k \\hat{x}_{k|k-1}) \\\\\n",
    "P_{k|k} = [I-K_kH_k]P_{k|k=1}\n",
    "$$\n",
    "where $S_k$ - innovation (or pre-fit residual) covariance, $K_k$ - optimal Kalman gain, $ \\hat{x}_{k|k} $ - updated (a posteriori) state estimate, $P_{k|k}$ - updated (a posteriori) estimate covariance\n",
    "\n",
    "Pros: \n",
    "- Optimal Optimal closed‐form solution solution to the tracking tracking problem problem (under the assumptions): no algorithm can do better in a linear‐Gaussian environment\n",
    "- All ‘logical’ estimations collapse to a unique solution \n",
    "- Simple to implement and fast to execute\n",
    "\n",
    "Cons:\n",
    "- If either the system or measurement model is non‐ linear, then the posterior will be non‐Gaussian\n",
    "\n",
    "#### The extended Kalman filter\n",
    "\n",
    "The idea: local linearization of the dynamic\n",
    "system might be sufficient description of the\n",
    "nonlinearity\n",
    "\n",
    "The model: nonlinear system with additive\n",
    "noise\n",
    "\n",
    "Pros:\n",
    "- Good approximation approximation when models are near‐linear\n",
    "- Efficient to calculate\n",
    "\n",
    "Cons:\n",
    "- Only approximation (optimality not proven)\n",
    "- Still a single Gaussian approximations\n",
    "- If we have multimodal hypothesis, and choose incorrectly – can be difficult to recover\n",
    "- Inapplicable when $f,h$ discontinuous"
   ]
  },
  {
   "cell_type": "markdown",
   "metadata": {},
   "source": [
    "### [A Recursive Kalman Filter Forecasting Approach](https://www.researchgate.net/publication/227445310_A_Recursive_Kalman_Filter_Forecasting_Approach)"
   ]
  },
  {
   "cell_type": "markdown",
   "metadata": {},
   "source": [
    "This paper examines the forecasting accuracy and the cost effectiveness of time series models with time-varying coefficients. A simulation study investigates the potential forecasting\n",
    "benefits of a proposed Kalman filter type adaptive estimation and forecasting approach. \n",
    "- When appropriate, the time-varying coefficient approach leads to better forecasts than the constant coefficient procedures.\n",
    "- A simple decision rule, which indicates whether time-varying coefficient models are in fact needed, increases the computational efficiency. "
   ]
  },
  {
   "cell_type": "markdown",
   "metadata": {},
   "source": [
    "Forecasters are frequently concerned that the coefficients in their forecast models \n",
    "are not constant, but change over time. This concern has led to the development of\n",
    "various adaptive forecast procedures. For example, adaptive exponential smoothing\n",
    "methods are designed to improve the forecast performance by\n",
    "letting the smoothing constant vary according to the most recent forecast accuracy.\n",
    "As new observations become available, the\n",
    "parameter estimates and forecasts are revised by heuristic recursive algorithms.\n",
    "Adaptive filtering is one such\n",
    "heuristic adaptive technique. \n",
    "\n",
    "There the estimate of the coefficient vector \n",
    "$ \\beta $ in the autoregressive prediction model $z_t = \\sum_{i=1}^p \\beta_i z_{t-i} +e_t $\n",
    "is updated according to $\\hat{\\beta}_t= \\hat{\\beta}_{t-1} + 2 \\alpha e_t^* z^*_{(i)}$. The constant $ \\alpha$ is a learning coefficient,\n",
    "$e^*_t$: is the standardized one step ahead forecast error, and $z^*_{(t)}$ is a vector of standardized observations. \n",
    "\n",
    "Adaptive filtering is a heuristic method and\n",
    "makes no reference to a probabilistic model which describes the changes in the\n",
    "coefficients. The ad hoc chosen learning constant determines how fast past observations are discounted. Due to its heuristic nature this technique has been criticized for\n",
    "its lack of a sound theoretical basis.\n",
    "\n",
    "__Estimation:__\n",
    "\n",
    "To update the coefficients and the forecasts one has to specify values for $T$ and $\\Omega$.\n",
    "Different values for $T$ and $\\Omega$ will lead to different Kalman gain vectors, and thus to\n",
    "different updating weights. \n",
    "\n",
    "Here, however, we do not restrict ourselves to constant coefficients a priori, but estimate $T$ and $\\Omega$ from past data, using a maximum likelihood estimation\n",
    "approach. \n",
    "\n",
    "The recursive equations depend on the initial values $\\hat{\\beta}_{0|0}$ and $P_{0|0}$. The\n",
    "traditional approach for picking these values is to choose a large diagonal matrix for $P_{0|0}$. It measures the uncertainty associated with $\\beta_0$, before observations have become\n",
    "available, and diminishes the influence of the initial $\\hat{\\beta}_{0|0}$ which is usually set zero.\n",
    "\n",
    "\n",
    "__The results:__ \n",
    "- If the coefficients are in fact constant, then the recursive Kalman filter forecasting approach actually leads to small increases in the forecast errors. \n",
    "- If the coefficients are timevarying, then the recursive Kalman filter forecast approach does lead to forecast improvements, especially for short lead times. Our results show that the presence of stochastic time-varying coefficients can be detected and be used to derive improved forecasts.\n",
    "\n",
    "The first conclusion is consistent with the results of Gardner and Dannenbring\n",
    "who find that adaptive forecast methods increase the forecast errors if the coefficients\n",
    "are in fact constant.  Such increase can be explained by the fact that the estimation of\n",
    "an additional parameter  introduces additional\n",
    "uncertainty.\n",
    "\n",
    "\n",
    "Gardner and Dannenbring also compare the forecast performance of constant and\n",
    "adaptive exponential smoothing methods, when the level and/or the slope in the linear\n",
    "trend model, are subject to step changes. They find that in general\n",
    "adaptive exponential smoothing procedures do not produce more accurate forecasts than the fixed parameter methods. \n",
    "Also, the particular choice of the smoothing constant in the Gardner and Dannenbring study may have biased the results in\n",
    "favor of the constant coefficient methods\n",
    "\n",
    "\n",
    "The empirical results of this paper indicate that in cases, in which time-varying\n",
    "coefficients are expected, the recursive Kalman filter forecasting approach will lead to\n",
    "smaller forecast errors. \n",
    "The simulations show the usefulness of the\n",
    "likelihood ratio test criterion for detecting such changes"
   ]
  },
  {
   "cell_type": "markdown",
   "metadata": {},
   "source": [
    "### [Other filters](https://people.csail.mit.edu/mrub/talks/filtering.pdf)"
   ]
  },
  {
   "cell_type": "markdown",
   "metadata": {},
   "source": [
    "#### The Grid‐based filter\n",
    "\n",
    "The posterior pdf at $k‐1$ can be expressed as\n",
    "sum of delta function\n",
    "\n",
    "Pros:\n",
    "- $p(x_k |x_{k-1} ), p(z_k |x_k )$ assumed known, but no\n",
    "constraint on their (discrete) shapes\n",
    "- Easy extension to varying number of states\n",
    "- Optimal solution for the discrete‐finite environment!\n",
    "\n",
    "Cons:\n",
    "- Curse of dimensionality (inefficient if the state space is large)\n",
    "- Statically considers all possible hypotheses"
   ]
  },
  {
   "cell_type": "markdown",
   "metadata": {},
   "source": [
    "#### Particle filtering\n",
    "\n",
    "General concept: represent the posterior pdf by a set of randomly chosen weighted samples (particles)\n",
    "\n",
    "- Randomly Chosen: Monte Carlo (MC)\n",
    "- As the number of samples become very large, the characterization becomes an equivalent representation of the true pdf\n",
    "\n",
    "Pros:\n",
    "- Can represent any arbitrary distribution (multimodal support)\n",
    "- Keep track several hypotheses simultaneously\n",
    "- Approximate representation of complex model rather than exact representation of simplified model"
   ]
  },
  {
   "cell_type": "code",
   "execution_count": null,
   "metadata": {},
   "outputs": [],
   "source": []
  }
 ],
 "metadata": {
  "kernelspec": {
   "display_name": "Python 3",
   "language": "python",
   "name": "python3"
  },
  "language_info": {
   "codemirror_mode": {
    "name": "ipython",
    "version": 3
   },
   "file_extension": ".py",
   "mimetype": "text/x-python",
   "name": "python",
   "nbconvert_exporter": "python",
   "pygments_lexer": "ipython3",
   "version": "3.6.5"
  }
 },
 "nbformat": 4,
 "nbformat_minor": 2
}
