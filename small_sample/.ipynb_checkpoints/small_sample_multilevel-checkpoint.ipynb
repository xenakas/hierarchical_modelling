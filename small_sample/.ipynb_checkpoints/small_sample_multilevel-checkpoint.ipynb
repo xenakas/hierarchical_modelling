{
 "cells": [
  {
   "cell_type": "markdown",
   "metadata": {},
   "source": [
    "### [Sufficient Sample Sizes for Multilevel Modeling](http://www.joophox.net/publist/methodology05.pdf)"
   ]
  },
  {
   "cell_type": "markdown",
   "metadata": {},
   "source": [
    "An important problem in multilevel modeling is what constitutes a sufficient sample size for accurate estimation. In\n",
    "multilevel analysis, the major restriction is often the higher-level sample size. In this paper, a simulation study is used to determine\n",
    "the influence of different sample sizes at the group level on the accuracy of the estimates (regression coefficients and variances)\n",
    "and their standard errors. In addition, the influence of other factors, such as the lowest-level sample size and different variance\n",
    "distributions between the levels (different intraclass correlations), is examined. The results show that only a small sample size\n",
    "at level two (meaning a sample of 50 or less) leads to biased estimates of the second-level standard errors. In all of the other\n",
    "simulated conditions the estimates of the regression coefficients, the variance components, and the standard errors are unbiased\n",
    "and accurate."
   ]
  },
  {
   "cell_type": "markdown",
   "metadata": {},
   "source": [
    " One\n",
    "important class of analysis methods is the hierarchical\n",
    "linear regression model, or multilevel regression model.\n"
   ]
  },
  {
   "cell_type": "markdown",
   "metadata": {},
   "source": [
    " Multilevel modeling mostly uses ML estimation. The maximum likelihood (ML) estimation methods\n",
    "used commonly in multilevel analysis are asymptotic,\n",
    "which translates to the assumption that the sample size\n",
    "must be sufficiently large. This raises questions about\n",
    "the acceptable lower limit to the sample size, and the\n",
    "accuracy of the estimates and the associated standard\n",
    "errors with relatively small sample sizes. In multilevel\n",
    "studies, the main problem is usually the sample size at\n",
    "the group level, because the group-level sample size is\n",
    "always smaller than the individual-level sample size.     \n",
    "\n",
    " Two ML functions are\n",
    "common in multilevel modeling: full ML (FML) and\n",
    "restricted ML (RML). __The difference between FML and RML is\n",
    "that RML maximizes a likelihood function that is invariant for the fixed effects (Goldstein, 1995). Since\n",
    "RML takes the uncertainty in the fixed parameters into\n",
    "account when estimating the random parameters, it\n",
    "should in theory lead to better estimates of the variance components, especially when the number of groups is\n",
    "small (Raudenbush & Bryk, 2002).__\n",
    "\n",
    "The software MLwiN (or HLM) was used for both simulation and estimation."
   ]
  },
  {
   "cell_type": "markdown",
   "metadata": {},
   "source": [
    "##### The Multilevel Regression Model"
   ]
  },
  {
   "cell_type": "markdown",
   "metadata": {},
   "source": [
    "Assume that we have data from $J$ groups, with a different number of respondents $n_j$ in each group. On the respondent level, we have the outcome of respondent $i$ in\n",
    "group $j$, variable $Y_{ij}$. We have one explanatory variable\n",
    "$X_{ij}$ on the respondent level, and one group-level explanatory variable $Z_j$. To model these data, we have a separate regression model in each group as follows:\n",
    "$$Y_{ij}=\\beta_{0j} +  \\beta_{1j}X_{ij}+ e_{ij} $$\n",
    "The variation of the regression coefficients $b_j$ is modeled\n",
    "by a group-level regression model:\n",
    "$$\\beta_{0j}= \\gamma_{00} +  \\beta_{01}Z_{j}+ u_{0j} \\\\ \\beta_{1j}= \\gamma_{10} +  \\beta_{11}Z_{j}+ u_{1j} $$\n",
    "The individual-level residuals $e_{ij}$ are assumed to have a\n",
    "normal distribution with mean zero and variance $\\sigma^2_e$. \n",
    "The group-level residuals $u_{0j }$ and $u_{1j}$ are assumed to have\n",
    "a multivariate normal distribution with expectation zero,\n",
    "and to be independent from the residual errors $e_{ij}$. The\n",
    "variance of the residual errors is specified as $\\sigma^2_{u_0}$ and $\\sigma^2_{u_1}$ \n",
    "\n",
    "Multilevel models are needed because grouped data violate the assumption of independence of all observations. The amount of dependence\n",
    "can be expressed as the intraclass correlation (ICC):\n",
    "$$\\rho=\\frac{\\sigma^2_{u_0}}{\\sigma^2_{u_0}+\\sigma^2_{e}}$$\n",
    "\n"
   ]
  },
  {
   "cell_type": "markdown",
   "metadata": {},
   "source": [
    "### [The Effect of Small Sample Size on Two-Level Model Estimates](https://link.springer.com/article/10.1007%2Fs10648-014-9287-x)"
   ]
  },
  {
   "cell_type": "markdown",
   "metadata": {},
   "source": []
  },
  {
   "cell_type": "markdown",
   "metadata": {},
   "source": []
  }
 ],
 "metadata": {
  "kernelspec": {
   "display_name": "Python 3",
   "language": "python",
   "name": "python3"
  },
  "language_info": {
   "codemirror_mode": {
    "name": "ipython",
    "version": 3
   },
   "file_extension": ".py",
   "mimetype": "text/x-python",
   "name": "python",
   "nbconvert_exporter": "python",
   "pygments_lexer": "ipython3",
   "version": "3.6.5"
  }
 },
 "nbformat": 4,
 "nbformat_minor": 2
}
