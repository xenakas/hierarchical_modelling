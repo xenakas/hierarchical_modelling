{
 "cells": [
  {
   "cell_type": "markdown",
   "metadata": {},
   "source": [
    "##### What is the sufficient sample size in multilevel analysis"
   ]
  },
  {
   "cell_type": "markdown",
   "metadata": {},
   "source": [
    " I don't know of any small sample studies that have gone beyond two-levels. In two-level models, without using any small sample correction (e.g., Kenward-Roger), with continuous outcomes, about 20 units are needed at the highest level to obtain unbiased estimates (power will be quite low though). With discrete outcomes, about 50 units are needed at the highest level with at least 5 observations per cluster. \n",
    "\n",
    "A relevant paper might be McNeish & Stapleton (2014, Educational Psychology Review) which is a review paper and contains several references that may be helpful for the specifics of your situation. \n"
   ]
  },
  {
   "cell_type": "markdown",
   "metadata": {},
   "source": [
    "### [The Effect of Small Sample Size on Two-Level Model Estimates](https://link.springer.com/article/10.1007%2Fs10648-014-9287-x)"
   ]
  },
  {
   "cell_type": "markdown",
   "metadata": {},
   "source": []
  },
  {
   "cell_type": "markdown",
   "metadata": {},
   "source": []
  }
 ],
 "metadata": {
  "kernelspec": {
   "display_name": "Python 3",
   "language": "python",
   "name": "python3"
  },
  "language_info": {
   "codemirror_mode": {
    "name": "ipython",
    "version": 3
   },
   "file_extension": ".py",
   "mimetype": "text/x-python",
   "name": "python",
   "nbconvert_exporter": "python",
   "pygments_lexer": "ipython3",
   "version": "3.6.5"
  }
 },
 "nbformat": 4,
 "nbformat_minor": 2
}
