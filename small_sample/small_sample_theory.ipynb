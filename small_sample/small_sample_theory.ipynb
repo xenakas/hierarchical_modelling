{
 "cells": [
  {
   "cell_type": "markdown",
   "metadata": {},
   "source": [
    "The Effect of Small Sample Size on Two-Level Model\n",
    "Estimates: A Review and Illustration\n",
    "\n",
    "http://sci-hub.tw/https://link.springer.com/article/10.1007%2Fs10648-014-9287-x\n",
    "\n",
    "Bias Reduction of Autoregressive Estimates in Time Series Regression Model through\n",
    "Restricted Maximum Likelihood\n",
    "\n",
    "http://sci-hub.tw/https://www.jstor.org/stable/2669758?seq=1#page_scan_tab_contents\n",
    "\n"
   ]
  },
  {
   "cell_type": "markdown",
   "metadata": {},
   "source": []
  },
  {
   "cell_type": "markdown",
   "metadata": {},
   "source": []
  }
 ],
 "metadata": {
  "kernelspec": {
   "display_name": "Python 3",
   "language": "python",
   "name": "python3"
  },
  "language_info": {
   "codemirror_mode": {
    "name": "ipython",
    "version": 3
   },
   "file_extension": ".py",
   "mimetype": "text/x-python",
   "name": "python",
   "nbconvert_exporter": "python",
   "pygments_lexer": "ipython3",
   "version": "3.6.5"
  }
 },
 "nbformat": 4,
 "nbformat_minor": 2
}
