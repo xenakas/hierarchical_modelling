{
 "cells": [
  {
   "cell_type": "markdown",
   "metadata": {},
   "source": [
    "### [Grey entropy and its application in weighting analysis,         Wen (1998) ](https://ieeexplore.ieee.org/abstract/document/728163)"
   ]
  },
  {
   "cell_type": "markdown",
   "metadata": {},
   "source": [
    "During past research in weighting analysis, the con-\n",
    "tinuous type of entropy is discussed frequently. How-\n",
    "ever, in the practical system, there are all discrete,\n",
    "if we use the continuous type of entropy to solve our\n",
    "problems, although problems were solved, there still\n",
    "exists some vagueness in our minds. Therefore, in this\n",
    "paper, we try to let the vagueness disappear. So, we\n",
    "based on the definition of entropy to derive the dis-\n",
    "crete type of entropy, and it calls __grey entropy__. After\n",
    "the grey entropy is derived, we also give an example\n",
    "to compare the traditional entropy and the grey en-\n",
    "tropy. As a results, we can find the grey entropy is\n",
    "one of the suitable method in weighting analysis."
   ]
  },
  {
   "cell_type": "markdown",
   "metadata": {},
   "source": [
    "We define a new entropy under conditions based on Shannon entropy:\n",
    "1. $f_i ( 0 ) = 0 $\n",
    "2. $f_i ( x ) = f_i ( 1-x )$\n",
    "3. $f_i(x)$ is monotonic increasing in the $x \\in  (0,0.5)$.\n",
    "\n",
    "__Definition 1:__ For the function of $x$\n",
    "function is defined as:\n",
    "\n"
   ]
  },
  {
   "cell_type": "markdown",
   "metadata": {},
   "source": []
  },
  {
   "cell_type": "markdown",
   "metadata": {},
   "source": []
  },
  {
   "cell_type": "markdown",
   "metadata": {},
   "source": []
  },
  {
   "cell_type": "markdown",
   "metadata": {},
   "source": []
  },
  {
   "cell_type": "markdown",
   "metadata": {},
   "source": []
  },
  {
   "cell_type": "markdown",
   "metadata": {},
   "source": []
  },
  {
   "cell_type": "markdown",
   "metadata": {},
   "source": []
  },
  {
   "cell_type": "markdown",
   "metadata": {},
   "source": []
  },
  {
   "cell_type": "markdown",
   "metadata": {},
   "source": []
  },
  {
   "cell_type": "markdown",
   "metadata": {},
   "source": []
  },
  {
   "cell_type": "markdown",
   "metadata": {},
   "source": []
  },
  {
   "cell_type": "markdown",
   "metadata": {},
   "source": []
  }
 ],
 "metadata": {
  "kernelspec": {
   "display_name": "R",
   "language": "R",
   "name": "ir"
  },
  "language_info": {
   "codemirror_mode": "r",
   "file_extension": ".r",
   "mimetype": "text/x-r-source",
   "name": "R",
   "pygments_lexer": "r",
   "version": "3.5.1"
  }
 },
 "nbformat": 4,
 "nbformat_minor": 2
}
