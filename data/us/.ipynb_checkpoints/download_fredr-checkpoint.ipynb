{
 "cells": [
  {
   "cell_type": "code",
   "execution_count": 1,
   "metadata": {},
   "outputs": [],
   "source": [
    "library(fredr)\n",
    "fredr_set_key(\"bd4355a0bcb45a05a7280e4d99a4d146\")"
   ]
  },
  {
   "cell_type": "code",
   "execution_count": 15,
   "metadata": {},
   "outputs": [],
   "source": [
    "states = c('Alabama', 'Alaska', 'Arizona', 'Arkansas', 'California',\n",
    "           'Colorado', 'Connecticut', 'Delaware', \n",
    "            'Florida', 'Georgia',  'Hawaii', 'Idaho',\n",
    "           'Illinois', 'Indiana', 'Iowa', 'Kansas', 'Kentucky', 'Louisiana',\n",
    "           'Maine', 'Maryland', 'Massachusetts', 'Michigan', \n",
    "           'Minnesota', 'Mississippi', 'Missouri', 'Montana', 'Nebraska',\n",
    "           'Nevada',  'New Hampshire', 'New Jersey',\n",
    "           'New Mexico', 'New York', 'North Carolina', 'North Dakota', 'Ohio',\n",
    "           'Oklahoma', 'Oregon', 'Pennsylvania',   'Rhode Island',\n",
    "            'South Carolina', 'South Dakota',\n",
    "            'Tennessee', 'Texas',  'Utah',\n",
    "           'Vermont', 'Virginia', 'Washington', 'West Virginia', 'Wisconsin',\n",
    "           'Wyoming')"
   ]
  },
  {
   "cell_type": "code",
   "execution_count": null,
   "metadata": {},
   "outputs": [],
   "source": [
    "# 'District of Columbia', 'Far West', 'Great Lakes', 'Mideast', 'New England', 'Rocky Mountain', 'Plains',   'Southeast', 'Southwest',"
   ]
  },
  {
   "cell_type": "code",
   "execution_count": 16,
   "metadata": {},
   "outputs": [
    {
     "data": {
      "text/html": [
       "50"
      ],
      "text/latex": [
       "50"
      ],
      "text/markdown": [
       "50"
      ],
      "text/plain": [
       "[1] 50"
      ]
     },
     "metadata": {},
     "output_type": "display_data"
    }
   ],
   "source": [
    "length(states)"
   ]
  },
  {
   "cell_type": "code",
   "execution_count": 17,
   "metadata": {},
   "outputs": [],
   "source": [
    "industries = c ('Accommodation and food services',\n",
    "                'Administrative and waste management services',\n",
    "                'Agriculture, forestry, fishing, and hunting',\n",
    "                'All industry total', 'Arts, entertainment, and recreation',\n",
    "                'Construction', 'Educational services', 'Finance and insurance',\n",
    "                'Government', 'Health care and social assistance', 'Information',\n",
    "                'Management of companies and enterprises', 'Manufacturing',\n",
    "                'Mining', 'Other services, except government',\n",
    "                'Private industries',\n",
    "                'Professional, scientific, and technical services',\n",
    "                'Real estate and rental and leasing', 'Retail trade',\n",
    "                'Transportation and warehousing', 'Utilities', 'Wholesale trade')"
   ]
  },
  {
   "cell_type": "code",
   "execution_count": 18,
   "metadata": {},
   "outputs": [],
   "source": [
    "dict = c()\n",
    "\n",
    "for (state in states){\n",
    "  \n",
    "  data = fredr_series_search_text(search_text = paste(\"Real Gross Domestic Product by Industry\", state ) , filter_variable = \"frequency\", filter_value = \"Quarterly\") \n",
    "  \n",
    "  data = subset(data, units == \"Millions of Chained 2012 Dollars\")\n",
    "  \n",
    "  dict = rbind(dict, data.frame(data$id, data$title)  )\n",
    "  \n",
    "}"
   ]
  },
  {
   "cell_type": "code",
   "execution_count": 19,
   "metadata": {},
   "outputs": [
    {
     "data": {
      "text/html": [
       "<table>\n",
       "<thead><tr><th scope=col>data.id</th><th scope=col>data.title</th></tr></thead>\n",
       "<tbody>\n",
       "\t<tr><td>ALRQGSP                                                                                                             </td><td>Total Real Gross Domestic Product by Industry for Alabama                                                           </td></tr>\n",
       "\t<tr><td>ALINFORQGSP                                                                                                         </td><td>Real Gross Domestic Product by Industry: Private Industries: Information for Alabama                                </td></tr>\n",
       "\t<tr><td>ALAGRRQGSP                                                                                                          </td><td>Real Gross Domestic Product by Industry: Private Industries: Agriculture, Forestry, Fishing, and Hunting for Alabama</td></tr>\n",
       "\t<tr><td>ALRETAILRQGSP                                                                                                       </td><td>Real Gross Domestic Product by Industry: Private Industries: Retail Trade for Alabama                               </td></tr>\n",
       "\t<tr><td>ALTRANSWARERQGSP                                                                                                    </td><td>Real Gross Domestic Product by Industry: Private Industries: Transportation and Warehousing for Alabama             </td></tr>\n",
       "\t<tr><td>ALNDURMANRQGSP                                                                                                      </td><td>Real Gross Domestic Product by Industry: Private Industries: Nondurable Goods Manufacturing for Alabama             </td></tr>\n",
       "</tbody>\n",
       "</table>\n"
      ],
      "text/latex": [
       "\\begin{tabular}{r|ll}\n",
       " data.id & data.title\\\\\n",
       "\\hline\n",
       "\t ALRQGSP                                                                                                              & Total Real Gross Domestic Product by Industry for Alabama                                                           \\\\\n",
       "\t ALINFORQGSP                                                                                                          & Real Gross Domestic Product by Industry: Private Industries: Information for Alabama                                \\\\\n",
       "\t ALAGRRQGSP                                                                                                           & Real Gross Domestic Product by Industry: Private Industries: Agriculture, Forestry, Fishing, and Hunting for Alabama\\\\\n",
       "\t ALRETAILRQGSP                                                                                                        & Real Gross Domestic Product by Industry: Private Industries: Retail Trade for Alabama                               \\\\\n",
       "\t ALTRANSWARERQGSP                                                                                                     & Real Gross Domestic Product by Industry: Private Industries: Transportation and Warehousing for Alabama             \\\\\n",
       "\t ALNDURMANRQGSP                                                                                                       & Real Gross Domestic Product by Industry: Private Industries: Nondurable Goods Manufacturing for Alabama             \\\\\n",
       "\\end{tabular}\n"
      ],
      "text/markdown": [
       "\n",
       "data.id | data.title | \n",
       "|---|---|---|---|---|---|\n",
       "| ALRQGSP                                                                                                              | Total Real Gross Domestic Product by Industry for Alabama                                                            | \n",
       "| ALINFORQGSP                                                                                                          | Real Gross Domestic Product by Industry: Private Industries: Information for Alabama                                 | \n",
       "| ALAGRRQGSP                                                                                                           | Real Gross Domestic Product by Industry: Private Industries: Agriculture, Forestry, Fishing, and Hunting for Alabama | \n",
       "| ALRETAILRQGSP                                                                                                        | Real Gross Domestic Product by Industry: Private Industries: Retail Trade for Alabama                                | \n",
       "| ALTRANSWARERQGSP                                                                                                     | Real Gross Domestic Product by Industry: Private Industries: Transportation and Warehousing for Alabama              | \n",
       "| ALNDURMANRQGSP                                                                                                       | Real Gross Domestic Product by Industry: Private Industries: Nondurable Goods Manufacturing for Alabama              | \n",
       "\n",
       "\n"
      ],
      "text/plain": [
       "  data.id         \n",
       "1 ALRQGSP         \n",
       "2 ALINFORQGSP     \n",
       "3 ALAGRRQGSP      \n",
       "4 ALRETAILRQGSP   \n",
       "5 ALTRANSWARERQGSP\n",
       "6 ALNDURMANRQGSP  \n",
       "  data.title                                                                                                          \n",
       "1 Total Real Gross Domestic Product by Industry for Alabama                                                           \n",
       "2 Real Gross Domestic Product by Industry: Private Industries: Information for Alabama                                \n",
       "3 Real Gross Domestic Product by Industry: Private Industries: Agriculture, Forestry, Fishing, and Hunting for Alabama\n",
       "4 Real Gross Domestic Product by Industry: Private Industries: Retail Trade for Alabama                               \n",
       "5 Real Gross Domestic Product by Industry: Private Industries: Transportation and Warehousing for Alabama             \n",
       "6 Real Gross Domestic Product by Industry: Private Industries: Nondurable Goods Manufacturing for Alabama             "
      ]
     },
     "metadata": {},
     "output_type": "display_data"
    }
   ],
   "source": [
    "head(dict)"
   ]
  },
  {
   "cell_type": "code",
   "execution_count": 20,
   "metadata": {},
   "outputs": [
    {
     "data": {
      "text/html": [
       "<ol class=list-inline>\n",
       "\t<li>'ALRQGSP'</li>\n",
       "\t<li>'ALINFORQGSP'</li>\n",
       "\t<li>'ALAGRRQGSP'</li>\n",
       "\t<li>'ALRETAILRQGSP'</li>\n",
       "\t<li>'ALTRANSWARERQGSP'</li>\n",
       "\t<li>'ALNDURMANRQGSP'</li>\n",
       "</ol>\n"
      ],
      "text/latex": [
       "\\begin{enumerate*}\n",
       "\\item 'ALRQGSP'\n",
       "\\item 'ALINFORQGSP'\n",
       "\\item 'ALAGRRQGSP'\n",
       "\\item 'ALRETAILRQGSP'\n",
       "\\item 'ALTRANSWARERQGSP'\n",
       "\\item 'ALNDURMANRQGSP'\n",
       "\\end{enumerate*}\n"
      ],
      "text/markdown": [
       "1. 'ALRQGSP'\n",
       "2. 'ALINFORQGSP'\n",
       "3. 'ALAGRRQGSP'\n",
       "4. 'ALRETAILRQGSP'\n",
       "5. 'ALTRANSWARERQGSP'\n",
       "6. 'ALNDURMANRQGSP'\n",
       "\n",
       "\n"
      ],
      "text/plain": [
       "[1] \"ALRQGSP\"          \"ALINFORQGSP\"      \"ALAGRRQGSP\"       \"ALRETAILRQGSP\"   \n",
       "[5] \"ALTRANSWARERQGSP\" \"ALNDURMANRQGSP\"  "
      ]
     },
     "metadata": {},
     "output_type": "display_data"
    }
   ],
   "source": [
    "id_list = as.character(dict$data.id)\n",
    "head(id_list)"
   ]
  },
  {
   "cell_type": "code",
   "execution_count": 55,
   "metadata": {},
   "outputs": [],
   "source": [
    "gdp_us = c()\n",
    "for (id in id_list){\n",
    "    gdp_us = rbind(gdp_us, fredr(series_id = id )  )}"
   ]
  },
  {
   "cell_type": "code",
   "execution_count": 57,
   "metadata": {},
   "outputs": [
    {
     "data": {
      "text/html": [
       "<ol class=list-inline>\n",
       "\t<li>64655</li>\n",
       "\t<li>3</li>\n",
       "</ol>\n"
      ],
      "text/latex": [
       "\\begin{enumerate*}\n",
       "\\item 64655\n",
       "\\item 3\n",
       "\\end{enumerate*}\n"
      ],
      "text/markdown": [
       "1. 64655\n",
       "2. 3\n",
       "\n",
       "\n"
      ],
      "text/plain": [
       "[1] 64655     3"
      ]
     },
     "metadata": {},
     "output_type": "display_data"
    }
   ],
   "source": [
    "dim(gdp_us)"
   ]
  },
  {
   "cell_type": "code",
   "execution_count": 46,
   "metadata": {},
   "outputs": [
    {
     "data": {
      "text/html": [
       "<ol class=list-inline>\n",
       "\t<li>1200</li>\n",
       "\t<li>2</li>\n",
       "</ol>\n"
      ],
      "text/latex": [
       "\\begin{enumerate*}\n",
       "\\item 1200\n",
       "\\item 2\n",
       "\\end{enumerate*}\n"
      ],
      "text/markdown": [
       "1. 1200\n",
       "2. 2\n",
       "\n",
       "\n"
      ],
      "text/plain": [
       "[1] 1200    2"
      ]
     },
     "metadata": {},
     "output_type": "display_data"
    }
   ],
   "source": [
    "dim(dict)"
   ]
  },
  {
   "cell_type": "code",
   "execution_count": 47,
   "metadata": {},
   "outputs": [
    {
     "data": {
      "text/html": [
       "24"
      ],
      "text/latex": [
       "24"
      ],
      "text/markdown": [
       "24"
      ],
      "text/plain": [
       "[1] 24"
      ]
     },
     "metadata": {},
     "output_type": "display_data"
    }
   ],
   "source": [
    "1200/50"
   ]
  },
  {
   "cell_type": "code",
   "execution_count": 63,
   "metadata": {},
   "outputs": [
    {
     "data": {
      "text/html": [
       "<table>\n",
       "<thead><tr><th scope=col>date</th><th scope=col>series_id</th><th scope=col>value</th></tr></thead>\n",
       "<tbody>\n",
       "\t<tr><td>2005-01-01</td><td>ALRQGSP   </td><td>179355.5  </td></tr>\n",
       "\t<tr><td>2005-04-01</td><td>ALRQGSP   </td><td>181373.0  </td></tr>\n",
       "\t<tr><td>2005-07-01</td><td>ALRQGSP   </td><td>181292.6  </td></tr>\n",
       "\t<tr><td>2005-10-01</td><td>ALRQGSP   </td><td>183522.6  </td></tr>\n",
       "\t<tr><td>2006-01-01</td><td>ALRQGSP   </td><td>183884.5  </td></tr>\n",
       "\t<tr><td>2006-04-01</td><td>ALRQGSP   </td><td>185071.6  </td></tr>\n",
       "</tbody>\n",
       "</table>\n"
      ],
      "text/latex": [
       "\\begin{tabular}{r|lll}\n",
       " date & series\\_id & value\\\\\n",
       "\\hline\n",
       "\t 2005-01-01 & ALRQGSP    & 179355.5  \\\\\n",
       "\t 2005-04-01 & ALRQGSP    & 181373.0  \\\\\n",
       "\t 2005-07-01 & ALRQGSP    & 181292.6  \\\\\n",
       "\t 2005-10-01 & ALRQGSP    & 183522.6  \\\\\n",
       "\t 2006-01-01 & ALRQGSP    & 183884.5  \\\\\n",
       "\t 2006-04-01 & ALRQGSP    & 185071.6  \\\\\n",
       "\\end{tabular}\n"
      ],
      "text/markdown": [
       "\n",
       "date | series_id | value | \n",
       "|---|---|---|---|---|---|\n",
       "| 2005-01-01 | ALRQGSP    | 179355.5   | \n",
       "| 2005-04-01 | ALRQGSP    | 181373.0   | \n",
       "| 2005-07-01 | ALRQGSP    | 181292.6   | \n",
       "| 2005-10-01 | ALRQGSP    | 183522.6   | \n",
       "| 2006-01-01 | ALRQGSP    | 183884.5   | \n",
       "| 2006-04-01 | ALRQGSP    | 185071.6   | \n",
       "\n",
       "\n"
      ],
      "text/plain": [
       "  date       series_id value   \n",
       "1 2005-01-01 ALRQGSP   179355.5\n",
       "2 2005-04-01 ALRQGSP   181373.0\n",
       "3 2005-07-01 ALRQGSP   181292.6\n",
       "4 2005-10-01 ALRQGSP   183522.6\n",
       "5 2006-01-01 ALRQGSP   183884.5\n",
       "6 2006-04-01 ALRQGSP   185071.6"
      ]
     },
     "metadata": {},
     "output_type": "display_data"
    }
   ],
   "source": [
    "head(gdp_us)"
   ]
  },
  {
   "cell_type": "code",
   "execution_count": 64,
   "metadata": {},
   "outputs": [],
   "source": [
    "write.csv(dict, file = \"dictionary.csv\")\n",
    "\n",
    "write.csv(gdp_us, file = \"naus_unlabelled.csv\")"
   ]
  },
  {
   "cell_type": "code",
   "execution_count": 65,
   "metadata": {},
   "outputs": [],
   "source": [
    "library(purrr)\n",
    "\n",
    "gdp_us_1 = map_dfr(id_list, fredr) "
   ]
  },
  {
   "cell_type": "code",
   "execution_count": null,
   "metadata": {},
   "outputs": [],
   "source": [
    "gdp_us_1"
   ]
  },
  {
   "cell_type": "code",
   "execution_count": null,
   "metadata": {},
   "outputs": [],
   "source": []
  }
 ],
 "metadata": {
  "kernelspec": {
   "display_name": "R",
   "language": "R",
   "name": "ir"
  },
  "language_info": {
   "codemirror_mode": "r",
   "file_extension": ".r",
   "mimetype": "text/x-r-source",
   "name": "R",
   "pygments_lexer": "r",
   "version": "3.5.1"
  }
 },
 "nbformat": 4,
 "nbformat_minor": 2
}
