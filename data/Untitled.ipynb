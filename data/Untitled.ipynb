{
 "cells": [
  {
   "cell_type": "markdown",
   "metadata": {},
   "source": [
    "After following gross domestic product (GDP) for many years, policy makers have now also started looking at gross value added (GVA). \n"
   ]
  },
  {
   "cell_type": "markdown",
   "metadata": {},
   "source": [
    "In economics, gross value added (GVA) is the measure of the value of goods and services produced in an area, industry or sector of an economy. In national accounts GVA is output minus intermediate consumption;[1] it is a balancing item of the national accounts' production account.[2]\n",
    "\n",
    "\n",
    "Contents\n",
    "1.\tRelationship to gross domestic product\n",
    "1.1.\tDisadvantages of GVA\n",
    "1.2.\tAdvantages of GVA\n",
    "2.\tSee also\n",
    "3.\tReferences\n",
    "\n",
    "\n",
    "GVA is linked as a measurement to gross domestic product (gdp), as both are measures of output. The relationship is defined as:\n",
    "\n",
    "GVA + taxes on products - subsidies on products = GDP\n",
    "As the total aggregates of taxes on products and subsidies on products are only available at whole economy level,[3] Gross value added is used for measuring gross regional domestic product and other measures of the output of entities smaller than a whole economy. Restated,\n",
    "\n",
    "GVA = GDP + subsidies - (direct, sales) taxes\n",
    "\n",
    "Over-simplistically, GVA is the grand total of all revenues, from final sales and (net) subsidies, which are incomes into businesses. Those incomes are then used to cover expenses (wages & salaries, dividends), savings (profits, depreciation), and (indirect) taxes.\n",
    "\n",
    "GVA is sector specific, and GDP is calculated by summation of GVA of all sectors of economy with taxes added and subsidies are deducted.\n",
    "\n",
    "Disadvantages of GVA\n",
    "\n",
    "Comparison over time is difficult.\n",
    "\n",
    "Advantages of GVA\n",
    "\n",
    "Better coverage.\n",
    "Internationally comparable figure.\n",
    "Better market condition projection globally, especially in case of FIIs.\n",
    "\n",
    "\n",
    "\n",
    "How is it measured?\n",
    "\n",
    "At the macro level, from national accounting perspective, it is the sum \n",
    "of a country’s GDP and net of subsidies and taxes in the economy. When measured from the production side, it is a balancing item of the national accounts. \n"
   ]
  },
  {
   "cell_type": "markdown",
   "metadata": {},
   "source": [
    "What is the difference between the two? \n",
    "\n",
    "While GVA gives a picture of the state of economic activity from the producers’ side or supply side, the GDP gives the picture from the consumers’ side or demand perspective. Both measures need not match because of the difference in treatment of net taxes. \n",
    "\n",
    "Why did policy makers decide to also give weight to GVA?\n",
    "\n",
    "A sector-wise breakdown provided by the GVA measure can better help the policymakers to decide which sectors need incentives/stimulus or vice versa. Some consider GVA as a better gauge of the economy because a sharp increase in the output, only due to higher tax collections which could be on account of better compliance or coverage, may distort the real output situation. \n"
   ]
  },
  {
   "cell_type": "markdown",
   "metadata": {},
   "source": [
    "Which of the two measures is considered more appropriate gauge of the economy?\n",
    "\n",
    "A sector-wise breakdown provided by the GVA measure helps policymakers decide which sectors need incentives or stimulus and accordingly formulate sectorspecific policies. But GDP is a key measure when it comes to making cross-country analysis and comparing the incomes of different economies. \n"
   ]
  }
 ],
 "metadata": {
  "kernelspec": {
   "display_name": "Python 3",
   "language": "python",
   "name": "python3"
  },
  "language_info": {
   "codemirror_mode": {
    "name": "ipython",
    "version": 3
   },
   "file_extension": ".py",
   "mimetype": "text/x-python",
   "name": "python",
   "nbconvert_exporter": "python",
   "pygments_lexer": "ipython3",
   "version": "3.6.5"
  }
 },
 "nbformat": 4,
 "nbformat_minor": 2
}
