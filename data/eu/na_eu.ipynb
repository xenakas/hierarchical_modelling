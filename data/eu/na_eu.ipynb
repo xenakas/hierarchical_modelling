{
 "cells": [
  {
   "cell_type": "code",
   "execution_count": null,
   "metadata": {},
   "outputs": [],
   "source": [
    "library(eurostat)\n",
    "library(lubridate)"
   ]
  },
  {
   "cell_type": "code",
   "execution_count": null,
   "metadata": {},
   "outputs": [],
   "source": [
    "dat <- get_eurostat(id=\"namq_10_a10\", time_format=\"date\")"
   ]
  },
  {
   "cell_type": "code",
   "execution_count": null,
   "metadata": {},
   "outputs": [],
   "source": [
    "head(dat)"
   ]
  },
  {
   "cell_type": "code",
   "execution_count": null,
   "metadata": {},
   "outputs": [],
   "source": [
    "label_eurostat_tables(\"namq_10_a10\", lang = \"en\")"
   ]
  },
  {
   "cell_type": "code",
   "execution_count": null,
   "metadata": {},
   "outputs": [],
   "source": [
    "colname = label_eurostat_vars(dat, lang = \"en\")\n",
    "colname"
   ]
  },
  {
   "cell_type": "code",
   "execution_count": null,
   "metadata": {},
   "outputs": [],
   "source": [
    "name = label_eurostat(dat)\n",
    "name"
   ]
  },
  {
   "cell_type": "code",
   "execution_count": null,
   "metadata": {},
   "outputs": [],
   "source": [
    "na_item <- unique(name$na_item)\n",
    "na_item "
   ]
  },
  {
   "cell_type": "code",
   "execution_count": null,
   "metadata": {},
   "outputs": [],
   "source": [
    "na_item <- unique(dat$na_item)\n",
    "na_item "
   ]
  },
  {
   "cell_type": "code",
   "execution_count": null,
   "metadata": {},
   "outputs": [],
   "source": [
    "s_adj <- unique(name$s_adj, incomparables = FALSE)\n",
    "s_adj"
   ]
  },
  {
   "cell_type": "code",
   "execution_count": null,
   "metadata": {},
   "outputs": [],
   "source": [
    "s_adj <- unique(dat$s_adj, incomparables = FALSE)\n",
    "s_adj"
   ]
  },
  {
   "cell_type": "code",
   "execution_count": null,
   "metadata": {},
   "outputs": [],
   "source": [
    "unit <- unique(name$unit, incomparables = FALSE)\n",
    "unit "
   ]
  },
  {
   "cell_type": "code",
   "execution_count": null,
   "metadata": {},
   "outputs": [],
   "source": [
    "unit <- unique(dat$unit, incomparables = FALSE)\n",
    "unit "
   ]
  },
  {
   "cell_type": "code",
   "execution_count": null,
   "metadata": {},
   "outputs": [],
   "source": [
    "#dat_ca <- subset(dat, dat$s_adj==s_adj[1])  # Calendar adjusted data, not seasonally adjusted data\n",
    "dat_ua <- subset(dat, dat$s_adj==s_adj[2])  # Unadjusted data (i.e. neither seasonally adjusted nor calendar adjusted data)\n",
    "#dat_sa <- subset(dat, dat$s_adj==s_adj[3]) # Seasonally adjusted data, not calendar adjusted data                         \n",
    "#dat_sca <- subset(dat, dat$s_adj==s_adj[4]) # Seasonally and calendar adjusted data  \n",
    "head(dat_ua)"
   ]
  },
  {
   "cell_type": "code",
   "execution_count": null,
   "metadata": {},
   "outputs": [],
   "source": [
    "dat_1 <- subset(dat_ua, dat_ua$unit==unit[1])  # [1] Chain linked volumes (2005), million euro                                                                     \n",
    "#dat_2 <- subset(dat_ua, dat_ua$unit==unit[2]) # [2] Chain linked volumes (2005), million units of national currency                                               \n",
    "#dat_3 <- subset(dat_ua, dat_ua$unit==unit[3]) # [3] Chain linked volumes (2010), million euro                                                                     \n",
    "#dat_4 <- subset(dat_ua, dat_ua$unit==unit[4]) # [4] Chain linked volumes (2010), million units of national currency \n",
    "head(dat_1)"
   ]
  },
  {
   "cell_type": "code",
   "execution_count": null,
   "metadata": {},
   "outputs": [],
   "source": [
    "geo <- unique(name$geo, incomparables = FALSE) \n",
    "geo"
   ]
  },
  {
   "cell_type": "code",
   "execution_count": null,
   "metadata": {},
   "outputs": [],
   "source": [
    "geo <- unique(dat$geo, incomparables = FALSE) \n",
    "geo"
   ]
  },
  {
   "cell_type": "code",
   "execution_count": null,
   "metadata": {},
   "outputs": [],
   "source": [
    "nace <- unique(name$nace_r2, incomparables = FALSE)\n",
    "nace"
   ]
  },
  {
   "cell_type": "code",
   "execution_count": null,
   "metadata": {},
   "outputs": [],
   "source": [
    "nace <- unique(dat$nace_r2, incomparables = FALSE)\n",
    "nace"
   ]
  },
  {
   "cell_type": "code",
   "execution_count": null,
   "metadata": {},
   "outputs": [],
   "source": [
    "#### Chain linked volumes (2005), million euro + Unadjusted data ####\n",
    "dat_1$unit <- NULL\n",
    "dat_1$s_adj <- NULL\n",
    "dat_1$na_item <- NULL\n",
    "head(dat_1)"
   ]
  },
  {
   "cell_type": "code",
   "execution_count": null,
   "metadata": {},
   "outputs": [],
   "source": [
    "write.csv(dat_1, file = \"gdp_eu.csv\")"
   ]
  },
  {
   "cell_type": "code",
   "execution_count": null,
   "metadata": {},
   "outputs": [],
   "source": [
    "# nace_list <- list()\n",
    "# for (i  in 1:length(nace) ) {\n",
    "#   nace_list[[nace[i]]] <-  subset(dat_1, dat_1$nace_r2 == nace[i])\n",
    "#   nace_list[[nace[i]]]$nace_r2 <- NULL\n",
    "#       }\n",
    "\n",
    "geo_list <- list()\n",
    "for (i  in 1:length(geo) ) {\n",
    "  geo_list[[geo[i]]] <-  subset(dat_1, dat_1$geo == geo[i])\n",
    "  geo_list[[geo[i]]]$geo <- NULL\n",
    "}"
   ]
  },
  {
   "cell_type": "code",
   "execution_count": null,
   "metadata": {},
   "outputs": [],
   "source": [
    "library(zoo)\n",
    "library(xts)"
   ]
  },
  {
   "cell_type": "code",
   "execution_count": null,
   "metadata": {},
   "outputs": [],
   "source": [
    "main_list <- list()\n",
    "for (i  in 1:length(geo) ) {\n",
    "  main_list[[i]] <- list()\n",
    "  for (j in 1:length(nace)){\n",
    "  main_list[[i]][[j]] <- subset(geo_list[[i]], geo_list[[i]]$nace_r2 == nace[j])\n",
    "  main_list[[i]][[j]]$nace_r2 <- NULL\n",
    "  }\n",
    "}"
   ]
  },
  {
   "cell_type": "code",
   "execution_count": null,
   "metadata": {},
   "outputs": [],
   "source": [
    "main_list[[11]][[2]]"
   ]
  },
  {
   "cell_type": "code",
   "execution_count": null,
   "metadata": {},
   "outputs": [],
   "source": [
    "library(forecast)\n",
    "ggtsdisplay(main_list[[3]][[2]][2])\n",
    "library(ggplot2)"
   ]
  },
  {
   "cell_type": "code",
   "execution_count": null,
   "metadata": {},
   "outputs": [],
   "source": [
    "date <- rev(seq(as.Date(\"1980-01-01\"), as.Date(\"2018-04-01\"), by=\"quarters\") )"
   ]
  },
  {
   "cell_type": "code",
   "execution_count": null,
   "metadata": {},
   "outputs": [],
   "source": [
    "for(i in 1:length(geo)){\n",
    "  the_main_list[[i]] <- matrix(ncol = length(nace)+1, nrow = length(main_list[[i]][[1]]$values))\n",
    "  for (j in 1:length(nace)){\n",
    "    the_main_list[[i]][,j+1] <- main_list[[i]][[j]]$values\n",
    "  }\n",
    "  the_main_list[[i]] <- data.frame(the_main_list[[i]])\n",
    "  colnames(the_main_list[[i]]) <- c(\"time\", as.character(nace))\n",
    "  the_main_list[[i]]$time <- main_list[[i]][[1]]$time    \n",
    "  }"
   ]
  },
  {
   "cell_type": "code",
   "execution_count": null,
   "metadata": {},
   "outputs": [],
   "source": [
    "ts.plot(the_main_list[[15]])"
   ]
  },
  {
   "cell_type": "code",
   "execution_count": null,
   "metadata": {},
   "outputs": [],
   "source": [
    "main_list[[i]][[j]]<-xts(main_list[[i]][[j]]$values, as.Date(main_list[[i]][[j]]$time, format='%Y-%m-%d'))\n",
    "\n",
    "#http://ec.europa.eu/eurostat/ramon/nomenclatures/index.cfm?TargetUrl=LST_NOM_DTL&StrNom=CL_NACE2&StrLanguageCode=EN&IntPcKey=&StrLayoutCode=HIERARCHIC"
   ]
  }
 ],
 "metadata": {
  "kernelspec": {
   "display_name": "R",
   "language": "R",
   "name": "ir"
  },
  "language_info": {
   "codemirror_mode": "r",
   "file_extension": ".r",
   "mimetype": "text/x-r-source",
   "name": "R",
   "pygments_lexer": "r",
   "version": "3.5.1"
  }
 },
 "nbformat": 4,
 "nbformat_minor": 2
}
