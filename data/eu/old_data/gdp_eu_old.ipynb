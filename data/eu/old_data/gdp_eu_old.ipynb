{
 "cells": [
  {
   "cell_type": "code",
   "execution_count": null,
   "metadata": {},
   "outputs": [],
   "source": [
    "import pandas as pd\n",
    "import numpy as np"
   ]
  },
  {
   "cell_type": "code",
   "execution_count": null,
   "metadata": {
    "scrolled": true
   },
   "outputs": [],
   "source": [
    "df_gdp = pd.read_csv('/home/xenakas/Desktop/Git/hierarchical_modelling/data/eu/namq_labelled.csv')\n",
    "del df_gdp['Unnamed: 0']"
   ]
  },
  {
   "cell_type": "code",
   "execution_count": null,
   "metadata": {},
   "outputs": [],
   "source": [
    "df_gdp['na_item'].unique()"
   ]
  },
  {
   "cell_type": "markdown",
   "metadata": {},
   "source": [
    "Compensation of employees dataset:"
   ]
  },
  {
   "cell_type": "code",
   "execution_count": null,
   "metadata": {},
   "outputs": [],
   "source": [
    "comp = df_gdp[df_gdp['na_item'] == 'Compensation of employees']\n",
    "pivot_comp = pd.pivot_table(comp, index='time', columns=['unit', 'geo', 'nace_r2',  's_adj',  'na_item'], values = 'values')\n",
    "pivot_comp\n",
    "pivot_comp.to_csv(\"comp_labelled.csv\")"
   ]
  },
  {
   "cell_type": "markdown",
   "metadata": {},
   "source": [
    "Wages and salaries dataset:"
   ]
  },
  {
   "cell_type": "code",
   "execution_count": null,
   "metadata": {},
   "outputs": [],
   "source": [
    "wage = df_gdp[df_gdp['na_item'] == 'Wages and salaries']\n",
    "pivot_wage = pd.pivot_table(wage, index='time', columns=['unit', 'geo', 'nace_r2',  's_adj',  'na_item'], values = 'values')\n",
    "pivot_wage\n",
    "pivot_wage.to_csv(\"wage_labelled.csv\")"
   ]
  },
  {
   "cell_type": "markdown",
   "metadata": {},
   "source": [
    "Employers' social contributions dataset:"
   ]
  },
  {
   "cell_type": "code",
   "execution_count": null,
   "metadata": {},
   "outputs": [],
   "source": [
    "contr = df_gdp[df_gdp['na_item'] == \"Employers' social contributions\"]\n",
    "pivot_contr = pd.pivot_table(contr, index='time', columns=['unit', 'geo', 'nace_r2',  's_adj',  'na_item'], values = 'values')\n",
    "pivot_contr\n",
    "pivot_contr.to_csv(\"contr_labelled.csv\")"
   ]
  },
  {
   "cell_type": "markdown",
   "metadata": {},
   "source": [
    "Price related dataset:"
   ]
  },
  {
   "cell_type": "code",
   "execution_count": null,
   "metadata": {},
   "outputs": [],
   "source": [
    "df_gdp = df_gdp[df_gdp['na_item'] == 'Value added, gross']\n",
    "del df_gdp['na_item']"
   ]
  },
  {
   "cell_type": "code",
   "execution_count": null,
   "metadata": {},
   "outputs": [],
   "source": [
    "df_gdp['unit'].unique()"
   ]
  },
  {
   "cell_type": "code",
   "execution_count": null,
   "metadata": {},
   "outputs": [],
   "source": [
    "price_related = [\n",
    "       'Price index (implicit deflator), 2005=100, euro',\n",
    "       'Price index (implicit deflator), 2005=100, national currency',\n",
    "       'Price index (implicit deflator), 2010=100, euro',\n",
    "       'Price index (implicit deflator), 2010=100, national currency',\n",
    "       'Price index (implicit deflator), percentage change on previous period, euro',\n",
    "       'Price index (implicit deflator), percentage change on previous period, national currency',\n",
    "       'Price index (implicit deflator), percentage change compared to same period in previous year, euro',\n",
    "       'Price index (implicit deflator), percentage change compared to same period in previous year, national currency',\n",
    "        ]"
   ]
  },
  {
   "cell_type": "code",
   "execution_count": null,
   "metadata": {},
   "outputs": [],
   "source": [
    "prices = df_gdp[df_gdp['unit'].isin(price_related)]\n",
    "pivot_prices = pd.pivot_table(prices, index='time', columns=['unit', 'geo', 'nace_r2',  's_adj'], values = 'values')\n",
    "pivot_prices\n",
    "pivot_prices.to_csv(\"prices_labelled.csv\")"
   ]
  },
  {
   "cell_type": "markdown",
   "metadata": {},
   "source": [
    "GDP related dataset:"
   ]
  },
  {
   "cell_type": "code",
   "execution_count": null,
   "metadata": {},
   "outputs": [],
   "source": [
    "gdp_related    =    ['Chain linked volumes (2005), million euro',\n",
    "       'Chain linked volumes (2005), million units of national currency',\n",
    "       'Chain linked volumes (2010), million euro',\n",
    "       'Chain linked volumes (2010), million units of national currency',\n",
    "       'Chain linked volumes, index 2005=100',\n",
    "       'Chain linked volumes, index 2010=100',\n",
    "       'Current prices, million euro',\n",
    "       'Current prices, million units of national currency',\n",
    "       'Percentage of gross domestic product (GDP)',\n",
    "       'Percentage of total',\n",
    "       'Previous year prices, million euro',\n",
    "       'Previous year prices, million units of national currency'] #  w/o  percentage change \n",
    "df_gdp = df_gdp[df_gdp['unit'].isin(gdp_related)]\n",
    "df_gdp"
   ]
  },
  {
   "cell_type": "code",
   "execution_count": null,
   "metadata": {},
   "outputs": [],
   "source": [
    "df_gdp['geo'].unique()\n",
    "\n",
    "countries = ['France', 'Austria', 'Spain', 'United Kingdom', 'Belgium',\n",
    "       'Switzerland', 'Cyprus', 'Czechia', 'Finland', 'Italy',\n",
    "       'Lithuania', 'Luxembourg', 'Latvia', 'Hungary', 'Netherlands',\n",
    "       'Bulgaria', 'Germany (until 1990 former territory of the FRG)',\n",
    "       'Denmark', 'Estonia',\n",
    "       'Greece',  'Croatia', 'Ireland',\n",
    "       'Former Yugoslav Republic of Macedonia, the', 'Norway', 'Poland',\n",
    "       'Portugal', 'Romania', 'Serbia', 'Sweden', 'Slovenia', 'Slovakia',\n",
    "       'Turkey', 'Albania', 'Malta',\n",
    "       'Kosovo (under United Nations Security Council Resolution 1244/99)',\n",
    "       'Bosnia and Herzegovina', 'Montenegro']\n",
    "\n",
    "clear_gdp = df_gdp[df_gdp['geo'].isin(countries)]\n",
    "clear_gdp"
   ]
  },
  {
   "cell_type": "code",
   "execution_count": null,
   "metadata": {},
   "outputs": [],
   "source": [
    "df_gdp['nace_r2'].unique()\n",
    "\n",
    "nace = ['Agriculture, forestry and fishing',\n",
    "       'Industry (except construction)', 'Manufacturing', 'Construction',\n",
    "       'Wholesale and retail trade, transport, accomodation and food service activities',\n",
    "       'Information and communication',\n",
    "       'Financial and insurance activities', 'Real estate activities',\n",
    "       'Professional, scientific and technical activities; administrative and support service activities',\n",
    "       'Public administration, defence, education, human health and social work activities',\n",
    "       'Arts, entertainment and recreation; other service activities; activities of household and extra-territorial organizations and bodies']\n",
    "\n",
    "clear_gdp = clear_gdp[clear_gdp['nace_r2'].isin(nace)]\n",
    "clear_gdp\n",
    "\n"
   ]
  },
  {
   "cell_type": "code",
   "execution_count": null,
   "metadata": {},
   "outputs": [],
   "source": [
    "df_gdp['s_adj'].unique()"
   ]
  },
  {
   "cell_type": "code",
   "execution_count": null,
   "metadata": {},
   "outputs": [],
   "source": [
    "current    =    [\n",
    "       'Current prices, million euro'] #,       'Current prices, million units of national currency'] #  w/o  percentage change \n",
    "clear_gdp = clear_gdp[clear_gdp['unit'].isin(current)]\n",
    "del clear_gdp['unit']"
   ]
  },
  {
   "cell_type": "code",
   "execution_count": null,
   "metadata": {},
   "outputs": [],
   "source": [
    "adj    =    [\n",
    "       'Unadjusted data (i.e. neither seasonally adjusted nor calendar adjusted data)'] #,       'Current prices, million units of national currency'] #  w/o  percentage change \n",
    "clear_gdp = clear_gdp[clear_gdp['s_adj'].isin(adj)]\n",
    "del clear_gdp['s_adj']\n",
    "\n"
   ]
  },
  {
   "cell_type": "code",
   "execution_count": null,
   "metadata": {},
   "outputs": [],
   "source": [
    "clear_gdp.time = pd.to_datetime(clear_gdp.time)"
   ]
  },
  {
   "cell_type": "code",
   "execution_count": null,
   "metadata": {},
   "outputs": [],
   "source": [
    "pivot_gdp = pd.pivot_table(df_gdp, index='time', columns=['unit', 'geo', 'nace_r2',  's_adj'], values = 'values')\n",
    "\n",
    "# pivot_gdp.to_csv(\"val_labelled.csv\")\n",
    "pivot_gdp"
   ]
  },
  {
   "cell_type": "code",
   "execution_count": null,
   "metadata": {},
   "outputs": [],
   "source": [
    "gdp_count = pd.pivot_table(df_gdp, index='time', columns='geo', aggfunc='count', margins=True)\n"
   ]
  },
  {
   "cell_type": "code",
   "execution_count": null,
   "metadata": {},
   "outputs": [],
   "source": [
    "pivot_clear = pd.pivot_table(clear_gdp, index='time', columns=[ 'geo', 'nace_r2'], values = 'values')\n",
    "#pivot_clear.to_csv(\"clear_labelled.csv\")"
   ]
  },
  {
   "cell_type": "code",
   "execution_count": null,
   "metadata": {},
   "outputs": [],
   "source": [
    "#pivot_clear.plot(figsize=(16, 9))"
   ]
  },
  {
   "cell_type": "code",
   "execution_count": null,
   "metadata": {},
   "outputs": [],
   "source": [
    "import matplotlib.pyplot as pp\n",
    "\n",
    "pp.figure(figsize = (18, 8))\n",
    "pp.plot(pivot_clear)\n",
    "\n"
   ]
  },
  {
   "cell_type": "code",
   "execution_count": null,
   "metadata": {},
   "outputs": [],
   "source": [
    "pivot_geosum = pd.pivot_table(clear_gdp, index='time', columns='geo', aggfunc=np.sum) \n",
    "\n",
    "pivot_geosum\n",
    "pp.figure(figsize = (30, 15))\n",
    "pp.plot(pivot_geosum)\n",
    "pp.legend(countries)\n",
    "\n",
    "time = pp.gca()\n",
    "time.set_xticks(pd.date_range(start=min(clear_gdp.time), end=max(clear_gdp.time), freq = '5Y'))\n",
    "time.set_xticklabels(np.arange(1978,2018,5),rotation=20)"
   ]
  },
  {
   "cell_type": "code",
   "execution_count": null,
   "metadata": {},
   "outputs": [],
   "source": [
    "pivot_geosum.describe()"
   ]
  },
  {
   "cell_type": "markdown",
   "metadata": {},
   "source": [
    "``clear_labelled``:\n",
    "- Current prices, million euro\n",
    "- Unadjusted data (i.e. neither seasonally adjusted nor calendar adjusted data)\n"
   ]
  },
  {
   "cell_type": "code",
   "execution_count": null,
   "metadata": {},
   "outputs": [],
   "source": []
  }
 ],
 "metadata": {
  "kernelspec": {
   "display_name": "Python 3",
   "language": "python",
   "name": "python3"
  },
  "language_info": {
   "codemirror_mode": {
    "name": "ipython",
    "version": 3
   },
   "file_extension": ".py",
   "mimetype": "text/x-python",
   "name": "python",
   "nbconvert_exporter": "python",
   "pygments_lexer": "ipython3",
   "version": "3.6.5"
  }
 },
 "nbformat": 4,
 "nbformat_minor": 2
}
