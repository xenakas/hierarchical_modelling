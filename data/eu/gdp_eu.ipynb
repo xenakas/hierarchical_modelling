{
 "cells": [
  {
   "cell_type": "code",
   "execution_count": 1,
   "metadata": {},
   "outputs": [],
   "source": [
    "import pandas as pd\n",
    "import numpy as np"
   ]
  },
  {
   "cell_type": "code",
   "execution_count": 3,
   "metadata": {
    "scrolled": true
   },
   "outputs": [],
   "source": [
    "a10 = pd.read_csv('eu_gdp_a10_unstacked.csv')\n",
    "del a10['Unnamed: 0']"
   ]
  },
  {
   "cell_type": "code",
   "execution_count": 5,
   "metadata": {},
   "outputs": [
    {
     "data": {
      "text/html": [
       "<div>\n",
       "<style scoped>\n",
       "    .dataframe tbody tr th:only-of-type {\n",
       "        vertical-align: middle;\n",
       "    }\n",
       "\n",
       "    .dataframe tbody tr th {\n",
       "        vertical-align: top;\n",
       "    }\n",
       "\n",
       "    .dataframe thead th {\n",
       "        text-align: right;\n",
       "    }\n",
       "</style>\n",
       "<table border=\"1\" class=\"dataframe\">\n",
       "  <thead>\n",
       "    <tr style=\"text-align: right;\">\n",
       "      <th></th>\n",
       "      <th>nace_r2</th>\n",
       "      <th>geo</th>\n",
       "      <th>time</th>\n",
       "      <th>values</th>\n",
       "    </tr>\n",
       "  </thead>\n",
       "  <tbody>\n",
       "    <tr>\n",
       "      <th>0</th>\n",
       "      <td>A</td>\n",
       "      <td>FR</td>\n",
       "      <td>2018-10-01</td>\n",
       "      <td>9169.0</td>\n",
       "    </tr>\n",
       "    <tr>\n",
       "      <th>1</th>\n",
       "      <td>A</td>\n",
       "      <td>LT</td>\n",
       "      <td>2018-10-01</td>\n",
       "      <td>161.8</td>\n",
       "    </tr>\n",
       "    <tr>\n",
       "      <th>2</th>\n",
       "      <td>B-E</td>\n",
       "      <td>FR</td>\n",
       "      <td>2018-10-01</td>\n",
       "      <td>73053.0</td>\n",
       "    </tr>\n",
       "    <tr>\n",
       "      <th>3</th>\n",
       "      <td>B-E</td>\n",
       "      <td>LT</td>\n",
       "      <td>2018-10-01</td>\n",
       "      <td>2406.0</td>\n",
       "    </tr>\n",
       "    <tr>\n",
       "      <th>4</th>\n",
       "      <td>C</td>\n",
       "      <td>FR</td>\n",
       "      <td>2018-10-01</td>\n",
       "      <td>58967.0</td>\n",
       "    </tr>\n",
       "  </tbody>\n",
       "</table>\n",
       "</div>"
      ],
      "text/plain": [
       "  nace_r2 geo        time   values\n",
       "0       A  FR  2018-10-01   9169.0\n",
       "1       A  LT  2018-10-01    161.8\n",
       "2     B-E  FR  2018-10-01  73053.0\n",
       "3     B-E  LT  2018-10-01   2406.0\n",
       "4       C  FR  2018-10-01  58967.0"
      ]
     },
     "execution_count": 5,
     "metadata": {},
     "output_type": "execute_result"
    }
   ],
   "source": [
    "a10.head()"
   ]
  },
  {
   "cell_type": "code",
   "execution_count": 13,
   "metadata": {},
   "outputs": [
    {
     "data": {
      "text/plain": [
       "array(['FR', 'LT', 'NL', 'AT', 'ES', 'NO', 'UK', 'CH', 'CY', 'CZ', 'FI',\n",
       "       'IT', 'LU', 'LV', 'HU', 'BE', 'BG', 'DE', 'DK', 'EA', 'EA12',\n",
       "       'EA19', 'EE', 'EL', 'EU15', 'EU27_2019', 'EU28', 'HR', 'IE', 'MK',\n",
       "       'MT', 'PL', 'PT', 'RO', 'RS', 'SE', 'SI', 'SK', 'TR', 'XK', 'AL',\n",
       "       'BA', 'ME'], dtype=object)"
      ]
     },
     "execution_count": 13,
     "metadata": {},
     "output_type": "execute_result"
    }
   ],
   "source": [
    "a10.geo.unique()"
   ]
  },
  {
   "cell_type": "code",
   "execution_count": null,
   "metadata": {},
   "outputs": [],
   "source": [
    "eu_indexes = ['EA', 'EA12', 'EA19', 'EU15', 'EU27_2019', 'EU28']"
   ]
  },
  {
   "cell_type": "code",
   "execution_count": 20,
   "metadata": {},
   "outputs": [],
   "source": [
    "eu_a10 = a10[a10.geo.isin(eu_indexes)]"
   ]
  },
  {
   "cell_type": "code",
   "execution_count": 24,
   "metadata": {},
   "outputs": [
    {
     "data": {
      "text/html": [
       "<div>\n",
       "<style scoped>\n",
       "    .dataframe tbody tr th:only-of-type {\n",
       "        vertical-align: middle;\n",
       "    }\n",
       "\n",
       "    .dataframe tbody tr th {\n",
       "        vertical-align: top;\n",
       "    }\n",
       "\n",
       "    .dataframe thead th {\n",
       "        text-align: right;\n",
       "    }\n",
       "</style>\n",
       "<table border=\"1\" class=\"dataframe\">\n",
       "  <thead>\n",
       "    <tr style=\"text-align: right;\">\n",
       "      <th></th>\n",
       "      <th>nace_r2</th>\n",
       "      <th>time</th>\n",
       "      <th>values</th>\n",
       "    </tr>\n",
       "    <tr>\n",
       "      <th>geo</th>\n",
       "      <th></th>\n",
       "      <th></th>\n",
       "      <th></th>\n",
       "    </tr>\n",
       "  </thead>\n",
       "  <tbody>\n",
       "    <tr>\n",
       "      <th>EA</th>\n",
       "      <td>2280</td>\n",
       "      <td>2280</td>\n",
       "      <td>2280</td>\n",
       "    </tr>\n",
       "    <tr>\n",
       "      <th>EA12</th>\n",
       "      <td>2280</td>\n",
       "      <td>2280</td>\n",
       "      <td>2280</td>\n",
       "    </tr>\n",
       "    <tr>\n",
       "      <th>EA19</th>\n",
       "      <td>2280</td>\n",
       "      <td>2280</td>\n",
       "      <td>2280</td>\n",
       "    </tr>\n",
       "    <tr>\n",
       "      <th>EU15</th>\n",
       "      <td>2280</td>\n",
       "      <td>2280</td>\n",
       "      <td>2280</td>\n",
       "    </tr>\n",
       "    <tr>\n",
       "      <th>EU27_2019</th>\n",
       "      <td>2280</td>\n",
       "      <td>2280</td>\n",
       "      <td>2280</td>\n",
       "    </tr>\n",
       "    <tr>\n",
       "      <th>EU28</th>\n",
       "      <td>2280</td>\n",
       "      <td>2280</td>\n",
       "      <td>2280</td>\n",
       "    </tr>\n",
       "  </tbody>\n",
       "</table>\n",
       "</div>"
      ],
      "text/plain": [
       "           nace_r2  time  values\n",
       "geo                             \n",
       "EA            2280  2280    2280\n",
       "EA12          2280  2280    2280\n",
       "EA19          2280  2280    2280\n",
       "EU15          2280  2280    2280\n",
       "EU27_2019     2280  2280    2280\n",
       "EU28          2280  2280    2280"
      ]
     },
     "execution_count": 24,
     "metadata": {},
     "output_type": "execute_result"
    }
   ],
   "source": [
    "eu_a10.groupby('geo').count()"
   ]
  },
  {
   "cell_type": "code",
   "execution_count": 28,
   "metadata": {},
   "outputs": [],
   "source": [
    "eu_a10 = a10[a10.geo == 'EU28']"
   ]
  },
  {
   "cell_type": "code",
   "execution_count": 29,
   "metadata": {},
   "outputs": [],
   "source": [
    "del eu_a10['geo']"
   ]
  },
  {
   "cell_type": "code",
   "execution_count": 31,
   "metadata": {},
   "outputs": [],
   "source": [
    "piv_eu_a10 = pd.pivot_table(eu_a10, index='time', columns=['nace_r2'], values = 'values')\n",
    "piv_eu_a10\n",
    "#piv_eu_a10.to_csv(\"a10_eu28_stacked.csv\")"
   ]
  },
  {
   "cell_type": "code",
   "execution_count": 55,
   "metadata": {},
   "outputs": [],
   "source": [
    "co_a10 = a10[~a10.geo.isin(eu_indexes)]"
   ]
  },
  {
   "cell_type": "code",
   "execution_count": 33,
   "metadata": {},
   "outputs": [],
   "source": [
    "co_a10 = co_a10[co_a10.nace_r2 != 'TOTAL']"
   ]
  },
  {
   "cell_type": "code",
   "execution_count": 35,
   "metadata": {},
   "outputs": [],
   "source": [
    "pivot_a10 = pd.pivot_table(co_a10, index='time', columns=['geo', 'nace_r2'], values = 'values')\n",
    "pivot_a10\n",
    "#pivot_a10.to_csv(\"a10_by_country_stacked.csv\")"
   ]
  },
  {
   "cell_type": "code",
   "execution_count": 37,
   "metadata": {},
   "outputs": [],
   "source": [
    "co_a10 = co_a10[co_a10.nace_r2 == 'TOTAL']"
   ]
  },
  {
   "cell_type": "code",
   "execution_count": 39,
   "metadata": {},
   "outputs": [],
   "source": [
    "del co_a10['nace_r2']\n",
    "pivot_a10 = pd.pivot_table(co_a10, index='time', columns=['geo'], values = 'values')\n",
    "pivot_a10.to_csv(\"a10_total_stacked.csv\")"
   ]
  },
  {
   "cell_type": "code",
   "execution_count": 57,
   "metadata": {},
   "outputs": [],
   "source": [
    "gdp = pd.read_csv('eu_gdp_unstacked.csv')\n",
    "del gdp['Unnamed: 0']"
   ]
  },
  {
   "cell_type": "code",
   "execution_count": 58,
   "metadata": {},
   "outputs": [
    {
     "data": {
      "text/plain": [
       "array(['AT', 'ES', 'FR', 'LT', 'NL', 'NO', 'UK', 'BE', 'BG', 'CH', 'CY',\n",
       "       'CZ', 'DE', 'DK', 'EA', 'EA12', 'EA19', 'EE', 'EL', 'EU15',\n",
       "       'EU27_2019', 'EU28', 'FI', 'HR', 'HU', 'IE', 'IT', 'LU', 'LV',\n",
       "       'MK', 'MT', 'PL', 'PT', 'RO', 'RS', 'SE', 'SI', 'SK', 'TR', 'XK',\n",
       "       'AL', 'BA', 'ME'], dtype=object)"
      ]
     },
     "execution_count": 58,
     "metadata": {},
     "output_type": "execute_result"
    }
   ],
   "source": [
    "gdp.geo.unique()"
   ]
  },
  {
   "cell_type": "code",
   "execution_count": null,
   "metadata": {},
   "outputs": [],
   "source": [
    "eu_indexes = ['EA', 'EA12', 'EA19', 'EU15', 'EU27_2019', 'EU28']"
   ]
  },
  {
   "cell_type": "code",
   "execution_count": 60,
   "metadata": {},
   "outputs": [],
   "source": [
    "eu_a10 = gdp[gdp.geo == 'EU28']\n",
    "del eu_a10['geo']\n",
    "piv_eu_a10 = pd.pivot_table(eu_a10, index='time',  values = 'values')\n",
    "piv_eu_a10.to_csv(\"a_gdp_eu28_stacked.csv\")"
   ]
  },
  {
   "cell_type": "code",
   "execution_count": 62,
   "metadata": {},
   "outputs": [],
   "source": [
    "co_a10 = gdp[~gdp.geo.isin(eu_indexes)]\n",
    "pivot_a10 = pd.pivot_table(co_a10, index='time', columns=['geo'], values = 'values')\n",
    "pivot_a10\n",
    "pivot_a10.to_csv(\"a_gdp_by_country_stacked.csv\")"
   ]
  },
  {
   "cell_type": "markdown",
   "metadata": {},
   "source": [
    "``clear_labelled``:\n",
    "- Current prices, million euro\n",
    "- Unadjusted data (i.e. neither seasonally adjusted nor calendar adjusted data)\n"
   ]
  }
 ],
 "metadata": {
  "kernelspec": {
   "display_name": "Python 3",
   "language": "python",
   "name": "python3"
  },
  "language_info": {
   "codemirror_mode": {
    "name": "ipython",
    "version": 3
   },
   "file_extension": ".py",
   "mimetype": "text/x-python",
   "name": "python",
   "nbconvert_exporter": "python",
   "pygments_lexer": "ipython3",
   "version": "3.6.5"
  }
 },
 "nbformat": 4,
 "nbformat_minor": 2
}
