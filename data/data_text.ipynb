{
 "cells": [
  {
   "cell_type": "markdown",
   "metadata": {},
   "source": [
    "### For intro"
   ]
  },
  {
   "cell_type": "markdown",
   "metadata": {},
   "source": [
    "After following gross domestic product (GDP) for many years, policy makers have now also started looking at gross value added (GVA). \n"
   ]
  },
  {
   "cell_type": "markdown",
   "metadata": {},
   "source": [
    "In economics, gross value added (GVA) is the measure of the value of goods and services produced in an area, industry or sector of an economy. In national accounts GVA is output minus intermediate consumption; it is a balancing item of the national accounts' production account.\n",
    "\n",
    "GVA is linked as a measurement to gross domestic product (gdp), as both are measures of output. The relationship is defined as:\n",
    "\n",
    "GVA + taxes on products - subsidies on products = GDP\n",
    "As the total aggregates of taxes on products and subsidies on products are only available at whole economy level,[3] Gross value added is used for measuring gross regional domestic product and other measures of the output of entities smaller than a whole economy. Restated,\n",
    "\n",
    "GVA = GDP + subsidies - (direct, sales) taxes\n",
    "\n",
    "Over-simplistically, GVA is the grand total of all revenues, from final sales and (net) subsidies, which are incomes into businesses. Those incomes are then used to cover expenses (wages & salaries, dividends), savings (profits, depreciation), and (indirect) taxes.\n",
    "\n",
    "GVA is sector specific, and GDP is calculated by summation of GVA of all sectors of economy with taxes added and subsidies are deducted.\n",
    "\n",
    "Disadvantages of GVA\n",
    "\n",
    "- Comparison over time is difficult.\n",
    "\n",
    "Advantages of GVA\n",
    "\n",
    "- Better coverage.\n",
    "- Internationally comparable figure.\n",
    "- Better market condition projection globally, especially in case of FIIs.\n",
    "\n",
    "How is it measured?\n",
    "\n",
    "At the macro level, from national accounting perspective, it is the sum \n",
    "of a country’s GDP and net of subsidies and taxes in the economy. When measured from the production side, it is a balancing item of the national accounts. \n"
   ]
  },
  {
   "cell_type": "markdown",
   "metadata": {},
   "source": [
    "What is the difference between the two? \n",
    "\n",
    "While GVA gives a picture of the state of economic activity from the producers’ side or supply side, the GDP gives the picture from the consumers’ side or demand perspective. Both measures need not match because of the difference in treatment of net taxes. \n",
    "\n",
    "Why did policy makers decide to also give weight to GVA?\n",
    "\n",
    "A sector-wise breakdown provided by the GVA measure can better help the policymakers to decide which sectors need incentives/stimulus or vice versa. Some consider GVA as a better gauge of the economy because a sharp increase in the output, only due to higher tax collections which could be on account of better compliance or coverage, may distort the real output situation. \n"
   ]
  },
  {
   "cell_type": "markdown",
   "metadata": {},
   "source": [
    "Which of the two measures is considered more appropriate gauge of the economy?\n",
    "\n",
    "A sector-wise breakdown provided by the GVA measure helps policymakers decide which sectors need incentives or stimulus and accordingly formulate sectorspecific policies. But GDP is a key measure when it comes to making cross-country analysis and comparing the incomes of different economies. \n"
   ]
  },
  {
   "cell_type": "markdown",
   "metadata": {},
   "source": [
    "### USA Data"
   ]
  },
  {
   "cell_type": "markdown",
   "metadata": {},
   "source": [
    "### [An Overview of BEA's Source Data and Estimating Methods for Quarterly GDP](https://www.bea.gov/system/files/papers/P2006-8.pdf)"
   ]
  },
  {
   "cell_type": "markdown",
   "metadata": {},
   "source": [
    "These\n",
    "monthly data are used to produce the monthly and quarterly estimates of several components of\n",
    "GDP. These estimates are revised when more reports become available from the monthly\n",
    "samples, when data from the annual surveys become available, and when data from the economic\n",
    "census become available; thus, based on available source data, a given component of GDP may\n",
    "be revised as many as six times over a 5-year period. \n",
    "\n",
    "Each quarterly estimate is subject to three successive annual revisions (customarily\n",
    "released in July). The first annual revision incorporates further revisions in the monthly or\n",
    "quarterly source data and introduces some annual source data. The second and third annual\n",
    "revisions incorporate a broad range of annual source data. Each quarterly estimate is also subject\n",
    "to one or more comprehensive revisions, in which information from the economic and\n",
    "demographic censuses is incorporated. \n",
    "\n"
   ]
  },
  {
   "cell_type": "markdown",
   "metadata": {},
   "source": [
    "The source data used to estimate quarterly GDP can be grouped into four general\n",
    "categories based on their quality, availability, and use. The four categories are as\n",
    "follows:\n",
    "- Revised data. These data are based on revised estimates of monthly or quarterly source\n",
    "data; they are presumed to be more accurate than preliminary data.\n",
    "- Monthly or quarterly data. These data include either monthly data for all 3 months of a\n",
    "quarter or data for a complete quarter.\n",
    "- Monthly and trend-based data. These data typically include 2 months of source data but\n",
    "limited or no data for the third month, necessitating a calculation for the third month.\n",
    "- Trend-based data. These data are typically calculated by BEA from previous estimates\n",
    "and trends, using moving averages of various lengths, regressions, and judgment by BEA\n",
    "economists.\n",
    "\n",
    "The advance estimates are based on source data in the last three categories. The most common\n",
    "types of source data are “monthly or quarterly” data and “monthly and trend-based data.” These\n",
    "two categories account for about 75 percent of the source data used to calculate the advance\n",
    "estimates. Trend-based data account for the remainder. "
   ]
  },
  {
   "cell_type": "markdown",
   "metadata": {},
   "source": [
    "##### Estimating Methods for Current-Price GDP"
   ]
  },
  {
   "cell_type": "markdown",
   "metadata": {},
   "source": [
    "###### General methods"
   ]
  },
  {
   "cell_type": "markdown",
   "metadata": {},
   "source": [
    "To derive the quarterly current-price estimates for most GDP components, BEA relies on\n",
    "“expenditure data” in current prices. \n",
    "\n",
    "Three general types of adjustments for concepts and definitions are made. \n",
    "- The first\n",
    "consists of adjustments needed to obtain the proper concept. For example, Internal Revenue\n",
    "Service Corporate Returns data include estimates of depreciation (consumption of fixed capital);\n",
    "however, these estimates are based on historical-cost valuation and tax service lives. BEA\n",
    "replaces these estimates with ones based on current-cost valuation and economic service lives.\n",
    "- The second type of adjustment involves filling gaps in coverage. For example, Census Bureau\n",
    "censuses and surveys of trade do not include inventories of nonmerchant wholesalers. BEA\n",
    "estimates the change in the inventories of these wholesalers to provide full coverage for the\n",
    "change in private inventories component of GDP. \n",
    "- The third type of adjustment involves time of\n",
    "recording and valuation. For example, data on imports from Canada, as received by the Census\n",
    "Bureau in a data exchange with Canada, are often valued at the point of manufacture. BEA adds\n",
    "the cost of inland transport to provide the valuation at the point of foreign export to be consistent\n",
    "with other trade data.\n",
    "\n",
    "The adjusted monthly or quarterly data are used as indicator series to estimate the\n",
    "components of quarterly GDP. Generally, monthly and quarterly data are not as comprehensive\n",
    "or as reliable as annual source data, so BEA interpolates and extrapolates the annual data using\n",
    "the monthly or quarterly indicator series. Specifically, for periods for which annual data exist,\n",
    "quarterly estimates are forced to average to the annual totals; the quarterly pattern is estimated by interpolation techniques. For estimates beyond the period covered by annual estimates,\n",
    "including those for the most recent or current quarter, estimates are made by extrapolation. "
   ]
  },
  {
   "cell_type": "markdown",
   "metadata": {},
   "source": [
    "#### Seasonal Adj (p.66) [Concepts and Methods of the U.S. National Income and Product Accounts](https://www.bea.gov/sites/default/files/methodologies/nipa-handbook-all-chapters.pdf) "
   ]
  },
  {
   "cell_type": "markdown",
   "metadata": {},
   "source": [
    "__Finally, quarterly and monthly NIPA estimates are seasonally adjusted at the detailed\n",
    "series level when the series demonstrate statistically significant seasonal patterns.__ For most of\n",
    "the series that are seasonally adjusted by the source agency, BEA adopts the corresponding\n",
    "seasonal adjustment factors. Seasonal adjustment removes from the time series the average\n",
    "effect of variations that normally occur at about the same time and in about the same magnitude\n",
    "each year—for example, weather and holidays. After seasonal adjustment, cyclical and other\n",
    "short term changes in the economy stand out more clearly. "
   ]
  },
  {
   "cell_type": "markdown",
   "metadata": {},
   "source": [
    "##### Special procedures\n",
    "\n",
    "In some cases, BEA also uses other methods to prepare the current-price estimates of\n",
    "quarterly GDP. These methods include the commodity-flow method, the retail control method,\n",
    "the fiscal year analysis method, and a procedure for estimating the change in private inventories."
   ]
  },
  {
   "cell_type": "markdown",
   "metadata": {},
   "source": [
    "_Commodity-flow method_\n",
    "\n",
    "The \"commodity-flow method\" involves estimating values based on various measures of\n",
    "output. In general, this method is used to derive GDP estimates in economic census years for\n",
    "various components of consumer spending, equipment and software, and the commodity detail\n",
    "for state and local government consumption expenditures and gross investment. An abbreviated\n",
    "form of this method is used to prepare estimates of investment in equipment in nonbenchmark years, and an even more abbreviated form is used to prepare the current quarterly estimates of\n",
    "investment in equipment.\n",
    "\n",
    "__For a detailed component of investment in equipment, the first step in the commodityflow method is to convert domestic shipments—the value of shipments of a commodity\n",
    "produced by domestic firms at producers' prices—to net supply, by adding imports and\n",
    "subtracting exports, government purchases, and change in inventories.__ Net supply is then\n",
    "allocated among intermediate purchases and consumer spending, based primarily on\n",
    "relationships from the most recent economic census. Investment in equipment (prior to\n",
    "adjustments for transportation costs and wholesale and retail trade margins) is then computed as\n",
    "the difference between net supply and the sum of business intermediate purchases and consumer\n",
    "spending. "
   ]
  },
  {
   "cell_type": "markdown",
   "metadata": {},
   "source": [
    "_Retail control method_\n",
    "\n",
    "The \"retail control method\" uses retail sales data, compiled by the Census Bureau, to\n",
    "estimate annual and quarterly consumer spending on goods in nonbenchmark years. In general,\n",
    "product-based data on consumer spending are not available in nonbenchmark years; the retail\n",
    "control method converts industry-based retail sales data to estimates of consumer spending by\n",
    "product. The method applies to most consumer goods, except motor vehicles, tobacco products,\n",
    "gasoline and oil, and prescription drugs.\n",
    "The method involves three broad steps. First, a retail control—that is, a control total—is\n",
    "estimated based on retail sales data from the Census Bureau’s monthly and annual surveys.\n",
    "Second, detailed (product-based) estimates of consumer goods are prepared using relationships based on data on retail sales by kind of business from the most recent economic census. Finally,\n",
    "the detailed estimates are adjusted to sum to the retail control."
   ]
  },
  {
   "cell_type": "markdown",
   "metadata": {},
   "source": [
    "_Fiscal year analysis method_\n",
    "\n",
    "The \"fiscal year analysis method\" is used to estimate annual and quarterly estimates of\n",
    "consumption expenditures and gross investment by the Federal Government. \n",
    "\n",
    "\n",
    "_Change in private inventories_\n",
    "\n",
    "For most industries, current-dollar estimates of the change in private inventories are\n",
    "prepared by re-valuing Census Bureau data to a current-cost basis. The Census Bureau\n",
    "inventories are on a \"book value\" basis the values reported in company reports. They reflect a\n",
    "mix of accounting methods that differ in assumptions about when goods enter and leave\n",
    "inventories.\n",
    " Book values are re-valued to a current-cost basis by the following 4-step procedure.\n"
   ]
  },
  {
   "cell_type": "markdown",
   "metadata": {},
   "source": [
    "####  Estimating Methods for Constant-Price GDP"
   ]
  },
  {
   "cell_type": "markdown",
   "metadata": {},
   "source": [
    "##### General methods \n",
    "\n",
    "BEA uses three methods to estimate constant-price (inflation-adjusted) GDP. The\n",
    "\"deflation method\" is used for most components of GDP. For this method, a volume index is\n",
    "derived by dividing the current-price index by an appropriate price index that has the reference\n",
    "year equal to 100. The result is then multiplied by 100. The \"quantity\n",
    "extrapolation method\" uses volume indexes that are obtained by using a volume indicator to\n",
    "extrapolate from the reference-year value of 100. The \"direct valuation method\" uses volume\n",
    "indexes that are obtained by multiplying the reference-year price by actual volume data for the\n",
    "index period. The result is then expressed as an index with the reference year equal to 100. "
   ]
  },
  {
   "cell_type": "markdown",
   "metadata": {},
   "source": [
    "##### Volume and price indexes\n",
    "\n",
    "Changes in current-price GDP measure the changes in the market value of the goods,\n",
    "services, and structures produced in the economy in a particular period. These changes can be\n",
    "decomposed into volume and price components that, in turn, can be expressed as index numbers\n",
    "with the reference year—at present, the year 2000—equal to 100. These are referred to as\n",
    "“chain-type” indexes. Percent changes in constant-price GDP and its components are equal to\n",
    "the percent changes of the volume indexes; percent changes in prices are equal to the percent\n",
    "changes of the price indexes.\n",
    "\n",
    "The annual changes in volumes and prices in the NIPAs are calculated using a Fisher\n",
    "formula that incorporates weights from 2 adjacent years. Quarterly changes in volumes and\n",
    "prices are calculated using a Fisher formula that incorporates weights from two adjacent\n",
    "quarters; quarterly indexes are adjusted for consistency to the annual indexes before percent\n",
    "changes are calculated.\n",
    "\n",
    "The Fisher formula produces percent changes in volumes and prices that are not affected\n",
    "by the choice of reference year. In addition, the use of the Fisher formula has several other\n",
    "advantages over fixed-weighted measures:\n",
    "\n",
    "- It eliminates substitution bias in constant-price GDP growth that tends to cause an understatement of growth for periods before the reference\n",
    "year and an overstatement of growth for periods after the reference year; \n",
    "- it eliminates the\n",
    "distortion of growth in components and in industries that result from the fixed-weighted indexes;\n",
    "- it eliminates the anomalies that arise from using recent-period price weights to measure periods in the past when a far different set of prices prevailed.\n",
    "\n",
    "BEA also prepares another price index, the implicit price deflator (IPD), which is\n",
    "calculated as the ratio of the current-price value to the corresponding chained-dollar value,\n",
    "multiplied by 100. The values of the IPD are very close to the values of the corresponding\n",
    "chain-type price index for all periods. "
   ]
  },
  {
   "cell_type": "markdown",
   "metadata": {},
   "source": [
    "##### Chained-dollar measures\n",
    "\n",
    "BEA also prepares measures of constant-price GDP and its components in a dollardenominated form, designated “chained (2000) dollar estimates.” For GDP and most other\n",
    "series, these estimates are computed by multiplying the current-price value in 2000 by a\n",
    "corresponding volume index number and then dividing by 100. \n",
    "\n",
    "The chained (2000) dollar estimates provide measures to calculate the percent changes\n",
    "for GDP and its components that are consistent with those calculated from the chain-type volume\n",
    "indexes; any differences will be small and due to rounding. For most components of GDP, the\n",
    "chained-dollar estimates also provide rough approximations of their relative importance and of\n",
    "their contributions to constant-price GDP growth for years close to 2000. \n",
    "\n",
    "\n",
    "__In addition, chained-dollar values for the detailed GDP components will not necessarily\n",
    "sum to the chained-dollar estimate of GDP (or any intermediate aggregate) because the relative\n",
    "prices used as weights for any period other than the reference year differ from those used for the\n",
    "reference year.__ BEA provides a measure of the extent of such differences by showing a\n",
    "“residual” line on chained-dollar tables that indicates the difference between GDP (and other\n",
    "major aggregate) and the sum of the most detailed components in the table. \n",
    "\n",
    "\n",
    "__For periods close to the reference year, when there usually has not been much change in\n",
    "the relative prices that are used as the weights for calculating the chain-type index, the residuals\n",
    "tend to be small, and the chained (2000) dollar estimates can be used to approximate the\n",
    "contributions to growth and to aggregate the detailed estimates.__ However, it is preferable to use\n",
    "the exact contributions estimates that are described in the next section. \n",
    "\n",
    "\n",
    "Some exceptions to the above methodology have to be made for a few components of\n",
    "GDP. When the components of an aggregate include large negative values, the Fisher formula\n",
    "may require taking the square root of a negative number. For these aggregates, another method\n",
    "for calculating chained dollars must be used. The inability to calculate a particular Fisher\n",
    "volume index (for example, change in private inventories) because of negative values usually\n",
    "does not extend to the calculation of higher level aggregates (for example, volume indexes for\n",
    "gross private domestic investment and for GDP can be computed). The calculation of\n",
    "contributions to percent change is not affected by negative values, so they can be calculated for\n",
    "all components. "
   ]
  },
  {
   "cell_type": "markdown",
   "metadata": {},
   "source": [
    "### Contributions\n",
    "\n",
    "For periods further from the reference year, the residual tends to become larger, and the\n",
    "chained-dollar estimates are less useful for analyses of contributions to growth. For this reason,\n",
    "BEA also shows contributions of major components to the percent change in constant-price GDP\n",
    "(and to the percent change in other major aggregates) that use exact formulas for attributing\n",
    "growth.\n",
    " "
   ]
  },
  {
   "cell_type": "markdown",
   "metadata": {},
   "source": [
    "#### Calculation of Component Contributions to the Change in GDP and Other Major Aggregates\n",
    "\n",
    "__The contributions to percent change in a real aggregate, such as real GDP, provide\n",
    "a measure of the composition of growth in the aggregate that is not affected by the\n",
    "nonadditivity of its components. This property makes contributions to percent change a\n",
    "valuable tool for economic analysis.__ The contribution to percent change in an\n",
    "aggregate in period t that is attributable to the quantity change in component i is defined\n",
    "by the formula\n",
    "\n",
    "$$ C\\% Δ_{i,t} = 100 * \\dfrac{(\\frac{p_{i,t}}{P_t^F} + p_{i,t-1})(q_{i,t}-q_{i,t-1}) }{\\sum_j(\\frac{p_{j,t}}{P_t^F} + p_{j,t-1})(q_{j,t-1})} $$\n",
    "\n",
    "\n",
    "where\n",
    "- $P_t^F$ is the Fisher price index for the aggregate in period $t$ relative to period $t-1$;\n",
    "- $p_{i,t}$ is the price of the component $i$ in period $t$; \n",
    "- $q_{i,t}$ is the quantity of the component $i$ in period $t$.\n",
    "\n",
    "The summation with subscript $j$ in the denominator includes all the deflation level\n",
    "components of the aggregate. Contributions of subaggregates (such as PCE goods) to the\n",
    "percent change of the aggregate (say, PCE or GDP) are calculated by summing the\n",
    "contributions of all the deflation level components contained in the subaggregate.\n",
    "For annual estimates, no adjustments are required for contributions to sum exactly to the\n",
    "percent change in the aggregate. For quarterly estimates, adjustments are required to\n",
    "offset the effects of adjustments made to published aggregates and their quarterly percent\n",
    "change: namely, conforming quarterly estimates to average to the corresponding annual\n",
    "estimates, and expressing percent change at annual rate. The same formula is used for\n",
    "both annual and quarterly estimates of contributions to percent change in all periods. The\n",
    "only variation in the method of calculation is that when the annual contributions for the\n",
    "most recent year are first calculated, they are based on a weighted average of the\n",
    "quarterly contributions until the next annual revision. "
   ]
  },
  {
   "cell_type": "markdown",
   "metadata": {},
   "source": [
    "### [Gross Domestic Product by State Estimation Methodology ](https://www.bea.gov/sites/default/files/methodologies/0417_GDP_by_State_Methodology.pdf)"
   ]
  },
  {
   "cell_type": "code",
   "execution_count": null,
   "metadata": {},
   "outputs": [],
   "source": []
  }
 ],
 "metadata": {
  "kernelspec": {
   "display_name": "Python 3",
   "language": "python",
   "name": "python3"
  },
  "language_info": {
   "codemirror_mode": {
    "name": "ipython",
    "version": 3
   },
   "file_extension": ".py",
   "mimetype": "text/x-python",
   "name": "python",
   "nbconvert_exporter": "python",
   "pygments_lexer": "ipython3",
   "version": "3.6.5"
  }
 },
 "nbformat": 4,
 "nbformat_minor": 2
}
