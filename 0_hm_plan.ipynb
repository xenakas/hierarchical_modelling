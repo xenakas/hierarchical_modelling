{
 "cells": [
  {
   "cell_type": "markdown",
   "metadata": {},
   "source": [
    "## Plan:"
   ]
  },
  {
   "cell_type": "markdown",
   "metadata": {},
   "source": [
    "- Метрики: ME, RMSE, MAPE\n",
    "- CV:\n",
    "    - EU: 48 (6)\n",
    "    - US: 28 (6)\n",
    "    - RUS: 84 (5)"
   ]
  },
  {
   "cell_type": "markdown",
   "metadata": {},
   "source": [
    "Hypotheses:\n",
    "\n",
    "- various time series react differently on various covariates\n",
    "    - look for new regressors (adding closest (by different   metrics) neighbor helps)\n",
    "    - [add stuctural change dummy](https://datascienceplus.com/dummy-variable-for-examining-structural-instability-in-regression-an-alternative-to-chow-test/), [Testing for unit roots and\n",
    "structural breaks](https://www.resakss-asia.org/files/2017/02/Day8_Session4_Structural-Breaks.pdf), [модели  марковскими переключениями](http://quantile.ru/11/11-Literacy.pdf) \n",
    "- compare optimal weights combination, [BU, TD](https://otexts.com/fpp2/top-down.html) and HB\n",
    "    - dummy for structural change to prior for $\\theta's$    \n",
    "    - check error correlation\n",
    "    \n",
    "    \n",
    "    \n",
    "    \n"
   ]
  },
  {
   "cell_type": "markdown",
   "metadata": {},
   "source": [
    "To do: \n",
    "\n",
    "- check rw and rw with drift, theta as benchmarks\n",
    "- check coefs > 1\n",
    "- forecast e,t,s separately \n",
    "- for three-level structure choose best second level  \n"
   ]
  },
  {
   "cell_type": "markdown",
   "metadata": {},
   "source": [
    "https://cran.r-project.org/web/packages/hts/vignettes/hts.pdf"
   ]
  },
  {
   "cell_type": "code",
   "execution_count": 17,
   "metadata": {},
   "outputs": [],
   "source": [
    "require(svMisc)"
   ]
  },
  {
   "cell_type": "code",
   "execution_count": 23,
   "metadata": {
    "scrolled": true
   },
   "outputs": [
    {
     "name": "stdout",
     "output_type": "stream",
     "text": [
      "          0%---------25%---------50%---------75%--------100%\n",
      "Progress: ||||||||||||||||||||||||||||||||||||||||||||||||||\n"
     ]
    }
   ],
   "source": [
    "for (i in 0:150) {\n",
    "    k = as.integer(i/150*100)+1\n",
    "    progress(k, progress.bar = TRUE)\n",
    "#     Sys.sleep(0.01)\n",
    "#     if (i == 101) cat(\"Done!\\n\")\n",
    "}"
   ]
  },
  {
   "cell_type": "code",
   "execution_count": null,
   "metadata": {},
   "outputs": [],
   "source": [
    "library(xtable)\n",
    "print(xtable(df_acc_test[order(df_acc_test$RMSE),]))\n",
    "\n",
    "mat <- round(matrix(c(0.9, 0.89, 200, 0.045, 2.0), c(1, 5)), 4)\n",
    "rownames(mat) <- \"$y_{t-1}$\"colnames(mat) <- c(\"$R^2$\", \"$\\\\bar{x}$\", \"F-stat\", \"S.E.E\", \"DW\")mat <- xtable(mat)print(mat, sanitize.text.function = function(x){x})\n",
    "\n",
    "align(tli.table) <- \"|rrl|l|lr|\"tli.table\n",
    "display(tli.table)[c(2,6)] <- \"f\"digits(tli.table) <- 3tli.table\n",
    "print(xtable(anova(fm3)), hline.after = c(1))"
   ]
  },
  {
   "cell_type": "code",
   "execution_count": null,
   "metadata": {},
   "outputs": [],
   "source": [
    "# Save a single object to a file\n",
    "saveRDS(mtcars, \"mtcars.rds\")\n",
    "# Restore it under a different name\n",
    "my_data <- readRDS(\"mtcars.rds\")"
   ]
  },
  {
   "cell_type": "code",
   "execution_count": 1,
   "metadata": {},
   "outputs": [
    {
     "data": {
      "text/html": [
       "<table>\n",
       "<thead><tr><th></th><th scope=col>Квартальные</th><th scope=col>Сезонно сглаженные</th><th scope=col>Месячные</th></tr></thead>\n",
       "<tbody>\n",
       "\t<tr><th scope=row>AR_1 (лин.тренд)</th><td>order=c(2,0,0), \n",
       "    seasonal=c(1,0,0), include.drift = TRUE, include.constant = TRUE                                                      </td><td>order=c(2,0,0), \n",
       "     include.drift = TRUE, include.constant = TRUE                                                                        </td><td>order=c(2,0,0),\n",
       "    seasonal=c(1,0,0), include.drift = TRUE, include.constant = TRUE)                                                      </td></tr>\n",
       "\t<tr><th scope=row>AR_2 (лин.тренд)</th><td>order=c(3,0,0),\n",
       "    seasonal=c(2,0,0), include.drift = TRUE, include.constant = TRUE                                                       </td><td>order=c(4,0,0),\n",
       "    include.drift = TRUE, include.constant = TRUE                                                                          </td><td>order=c(11,0,0),\n",
       "    seasonal=c(2,0,0), include.drift = TRUE, include.constant = TRUE                                                      </td></tr>\n",
       "\t<tr><th scope=row>AR_2 (квадр. тренд)</th><td>order=c(3,0,0),\n",
       "    seasonal=c(2,0,0), include.drift = TRUE, include.constant = TRUE                                                       </td><td>order=c(4,0,0),\n",
       "    include.drift = TRUE, include.constant = TRUE                                                                          </td><td>order=c(11,0,0),\n",
       "    seasonal=c(2,0,0), include.drift = TRUE, include.constant = TRUE                                                      </td></tr>\n",
       "\t<tr><th scope=row>ARI</th><td>order=c(3,1,0),\n",
       "    seasonal=c(2,1,0), include.drift = FALSE, include.constant = FALSE                                                     </td><td>order=c(4,1,0),\n",
       "    include.drift = FALSE, include.constant = FALSE                                                                        </td><td>order=c(4,0,0),\n",
       "    seasonal=c(1,1,0), include.drift = FALSE, include.constant = FALSE                                                     </td></tr>\n",
       "\t<tr><th scope=row>ARMA (лин.тренд)</th><td>order=c(3,0,1),\n",
       "    seasonal=c(2,0,1), include.drift = TRUE, include.constant = TRUE                                                       </td><td>order=c(4,0,1),\n",
       "     include.drift = TRUE, include.constant = TRUE                                                                         </td><td>order=c(4,0,1),\n",
       "    seasonal=c(1,0,1), include.drift = TRUE, include.constant = TRUE)                                                      </td></tr>\n",
       "\t<tr><th scope=row>ARIMA</th><td>order=c(3,1,1),\n",
       "    seasonal=c(2,1,1), include.drift = FALSE, include.constant = FALSE                                                     </td><td>order=c(4,1,1),\n",
       "  include.drift = FALSE, include.constant = FALSE                                                                          </td><td>order=c(4,1,1),\n",
       "    seasonal=c(1,1,1), include.drift = FALSE, include.constant = FALSE                                                     </td></tr>\n",
       "\t<tr><th scope=row>ARIMA (автом. подбор)</th><td>    stationary = FALSE, seasonal = TRUE, lambda=NULL, parallel=TRUE                                                                         </td><td>    stationary = FALSE, seasonal = FALSE, lambda=NULL, parallel=TRUE                                                                        </td><td>    stationary = FALSE, seasonal = TRUE, lambda=NULL, parallel=TRUE                                                                         </td></tr>\n",
       "\t<tr><th scope=row>ETS</th><td>model=\"MMM\", damped = FALSE , lambda=NULL                                                                                                   </td><td>model=\"AAA\", damped = FALSE , lambda=NULL                                                                                                   </td><td>model=\"AAA\", damped = TRUE , lambda=NULL                                                                                                    </td></tr>\n",
       "\t<tr><th scope=row>ETS (автом. подбор)</th><td>lambda=NULL                                                                                                                                 </td><td>lambda=NULL                                                                                                                                 </td><td>lambda=NULL                                                                                                                                 </td></tr>\n",
       "\t<tr><th scope=row>TBATS</th><td>use.trend = TRUE, seasonal.periods = var_freq,\n",
       "       use.arma.errors=TRUE, use.parallel=TRUE , use.box.cox=FALSE,   use.damped.trend=FALSE</td><td>use.trend = TRUE, \n",
       "       use.arma.errors=TRUE, use.parallel=TRUE , use.box.cox=FALSE,   use.damped.trend=FALSE                            </td><td>use.trend = TRUE, seasonal.periods = var_freq,\n",
       "       use.arma.errors=TRUE, use.parallel=TRUE , use.box.cox=FALSE,   use.damped.trend=TRUE </td></tr>\n",
       "</tbody>\n",
       "</table>\n"
      ],
      "text/latex": [
       "\\begin{tabular}{r|lll}\n",
       "  & Квартальные & Сезонно сглаженные & Месячные\\\\\n",
       "\\hline\n",
       "\tAR\\_1 (лин.тренд) & order=c(2,0,0), \n",
       "    seasonal=c(1,0,0), include.drift = TRUE, include.constant = TRUE                                                       & order=c(2,0,0), \n",
       "     include.drift = TRUE, include.constant = TRUE                                                                         & order=c(2,0,0),\n",
       "    seasonal=c(1,0,0), include.drift = TRUE, include.constant = TRUE)                                                      \\\\\n",
       "\tAR\\_2 (лин.тренд) & order=c(3,0,0),\n",
       "    seasonal=c(2,0,0), include.drift = TRUE, include.constant = TRUE                                                        & order=c(4,0,0),\n",
       "    include.drift = TRUE, include.constant = TRUE                                                                           & order=c(11,0,0),\n",
       "    seasonal=c(2,0,0), include.drift = TRUE, include.constant = TRUE                                                      \\\\\n",
       "\tAR\\_2 (квадр. тренд) & order=c(3,0,0),\n",
       "    seasonal=c(2,0,0), include.drift = TRUE, include.constant = TRUE                                                        & order=c(4,0,0),\n",
       "    include.drift = TRUE, include.constant = TRUE                                                                           & order=c(11,0,0),\n",
       "    seasonal=c(2,0,0), include.drift = TRUE, include.constant = TRUE                                                      \\\\\n",
       "\tARI & order=c(3,1,0),\n",
       "    seasonal=c(2,1,0), include.drift = FALSE, include.constant = FALSE                                                      & order=c(4,1,0),\n",
       "    include.drift = FALSE, include.constant = FALSE                                                                         & order=c(4,0,0),\n",
       "    seasonal=c(1,1,0), include.drift = FALSE, include.constant = FALSE                                                     \\\\\n",
       "\tARMA (лин.тренд) & order=c(3,0,1),\n",
       "    seasonal=c(2,0,1), include.drift = TRUE, include.constant = TRUE                                                        & order=c(4,0,1),\n",
       "     include.drift = TRUE, include.constant = TRUE                                                                          & order=c(4,0,1),\n",
       "    seasonal=c(1,0,1), include.drift = TRUE, include.constant = TRUE)                                                      \\\\\n",
       "\tARIMA & order=c(3,1,1),\n",
       "    seasonal=c(2,1,1), include.drift = FALSE, include.constant = FALSE                                                      & order=c(4,1,1),\n",
       "  include.drift = FALSE, include.constant = FALSE                                                                           & order=c(4,1,1),\n",
       "    seasonal=c(1,1,1), include.drift = FALSE, include.constant = FALSE                                                     \\\\\n",
       "\tARIMA (автом. подбор) &     stationary = FALSE, seasonal = TRUE, lambda=NULL, parallel=TRUE                                                                          &     stationary = FALSE, seasonal = FALSE, lambda=NULL, parallel=TRUE                                                                         &     stationary = FALSE, seasonal = TRUE, lambda=NULL, parallel=TRUE                                                                         \\\\\n",
       "\tETS & model=\"MMM\", damped = FALSE , lambda=NULL                                                                                                    & model=\"AAA\", damped = FALSE , lambda=NULL                                                                                                    & model=\"AAA\", damped = TRUE , lambda=NULL                                                                                                    \\\\\n",
       "\tETS (автом. подбор) & lambda=NULL                                                                                                                                  & lambda=NULL                                                                                                                                  & lambda=NULL                                                                                                                                 \\\\\n",
       "\tTBATS & use.trend = TRUE, seasonal.periods = var\\_freq,\n",
       "       use.arma.errors=TRUE, use.parallel=TRUE , use.box.cox=FALSE,   use.damped.trend=FALSE & use.trend = TRUE, \n",
       "       use.arma.errors=TRUE, use.parallel=TRUE , use.box.cox=FALSE,   use.damped.trend=FALSE                               & use.trend = TRUE, seasonal.periods = var\\_freq,\n",
       "       use.arma.errors=TRUE, use.parallel=TRUE , use.box.cox=FALSE,   use.damped.trend=TRUE \\\\\n",
       "\\end{tabular}\n"
      ],
      "text/markdown": [
       "\n",
       "| <!--/--> | Квартальные | Сезонно сглаженные | Месячные | \n",
       "|---|---|---|---|---|---|---|---|---|---|\n",
       "| AR_1 (лин.тренд) | order=c(2,0,0), \n",
       "    seasonal=c(1,0,0), include.drift = TRUE, include.constant = TRUE                                                       | order=c(2,0,0), \n",
       "     include.drift = TRUE, include.constant = TRUE                                                                         | order=c(2,0,0),\n",
       "    seasonal=c(1,0,0), include.drift = TRUE, include.constant = TRUE)                                                       | \n",
       "| AR_2 (лин.тренд) | order=c(3,0,0),\n",
       "    seasonal=c(2,0,0), include.drift = TRUE, include.constant = TRUE                                                        | order=c(4,0,0),\n",
       "    include.drift = TRUE, include.constant = TRUE                                                                           | order=c(11,0,0),\n",
       "    seasonal=c(2,0,0), include.drift = TRUE, include.constant = TRUE                                                       | \n",
       "| AR_2 (квадр. тренд) | order=c(3,0,0),\n",
       "    seasonal=c(2,0,0), include.drift = TRUE, include.constant = TRUE                                                        | order=c(4,0,0),\n",
       "    include.drift = TRUE, include.constant = TRUE                                                                           | order=c(11,0,0),\n",
       "    seasonal=c(2,0,0), include.drift = TRUE, include.constant = TRUE                                                       | \n",
       "| ARI | order=c(3,1,0),\n",
       "    seasonal=c(2,1,0), include.drift = FALSE, include.constant = FALSE                                                      | order=c(4,1,0),\n",
       "    include.drift = FALSE, include.constant = FALSE                                                                         | order=c(4,0,0),\n",
       "    seasonal=c(1,1,0), include.drift = FALSE, include.constant = FALSE                                                      | \n",
       "| ARMA (лин.тренд) | order=c(3,0,1),\n",
       "    seasonal=c(2,0,1), include.drift = TRUE, include.constant = TRUE                                                        | order=c(4,0,1),\n",
       "     include.drift = TRUE, include.constant = TRUE                                                                          | order=c(4,0,1),\n",
       "    seasonal=c(1,0,1), include.drift = TRUE, include.constant = TRUE)                                                       | \n",
       "| ARIMA | order=c(3,1,1),\n",
       "    seasonal=c(2,1,1), include.drift = FALSE, include.constant = FALSE                                                      | order=c(4,1,1),\n",
       "  include.drift = FALSE, include.constant = FALSE                                                                           | order=c(4,1,1),\n",
       "    seasonal=c(1,1,1), include.drift = FALSE, include.constant = FALSE                                                      | \n",
       "| ARIMA (автом. подбор) |     stationary = FALSE, seasonal = TRUE, lambda=NULL, parallel=TRUE                                                                          |     stationary = FALSE, seasonal = FALSE, lambda=NULL, parallel=TRUE                                                                         |     stationary = FALSE, seasonal = TRUE, lambda=NULL, parallel=TRUE                                                                          | \n",
       "| ETS | model=\"MMM\", damped = FALSE , lambda=NULL                                                                                                    | model=\"AAA\", damped = FALSE , lambda=NULL                                                                                                    | model=\"AAA\", damped = TRUE , lambda=NULL                                                                                                     | \n",
       "| ETS (автом. подбор) | lambda=NULL                                                                                                                                  | lambda=NULL                                                                                                                                  | lambda=NULL                                                                                                                                  | \n",
       "| TBATS | use.trend = TRUE, seasonal.periods = var_freq,\n",
       "       use.arma.errors=TRUE, use.parallel=TRUE , use.box.cox=FALSE,   use.damped.trend=FALSE | use.trend = TRUE, \n",
       "       use.arma.errors=TRUE, use.parallel=TRUE , use.box.cox=FALSE,   use.damped.trend=FALSE                             | use.trend = TRUE, seasonal.periods = var_freq,\n",
       "       use.arma.errors=TRUE, use.parallel=TRUE , use.box.cox=FALSE,   use.damped.trend=TRUE  | \n",
       "\n",
       "\n"
      ],
      "text/plain": [
       "                      Квартальные                                                                                                                                 \n",
       "AR_1 (лин.тренд)      order=c(2,0,0), \\n    seasonal=c(1,0,0), include.drift = TRUE, include.constant = TRUE                                                      \n",
       "AR_2 (лин.тренд)      order=c(3,0,0),\\n    seasonal=c(2,0,0), include.drift = TRUE, include.constant = TRUE                                                       \n",
       "AR_2 (квадр. тренд)   order=c(3,0,0),\\n    seasonal=c(2,0,0), include.drift = TRUE, include.constant = TRUE                                                       \n",
       "ARI                   order=c(3,1,0),\\n    seasonal=c(2,1,0), include.drift = FALSE, include.constant = FALSE                                                     \n",
       "ARMA (лин.тренд)      order=c(3,0,1),\\n    seasonal=c(2,0,1), include.drift = TRUE, include.constant = TRUE                                                       \n",
       "ARIMA                 order=c(3,1,1),\\n    seasonal=c(2,1,1), include.drift = FALSE, include.constant = FALSE                                                     \n",
       "ARIMA (автом. подбор)     stationary = FALSE, seasonal = TRUE, lambda=NULL, parallel=TRUE                                                                         \n",
       "ETS                   model=\"MMM\", damped = FALSE , lambda=NULL                                                                                                   \n",
       "ETS (автом. подбор)   lambda=NULL                                                                                                                                 \n",
       "TBATS                 use.trend = TRUE, seasonal.periods = var_freq,\\n       use.arma.errors=TRUE, use.parallel=TRUE , use.box.cox=FALSE,   use.damped.trend=FALSE\n",
       "                      Сезонно сглаженные                                                                                              \n",
       "AR_1 (лин.тренд)      order=c(2,0,0), \\n     include.drift = TRUE, include.constant = TRUE                                            \n",
       "AR_2 (лин.тренд)      order=c(4,0,0),\\n    include.drift = TRUE, include.constant = TRUE                                              \n",
       "AR_2 (квадр. тренд)   order=c(4,0,0),\\n    include.drift = TRUE, include.constant = TRUE                                              \n",
       "ARI                   order=c(4,1,0),\\n    include.drift = FALSE, include.constant = FALSE                                            \n",
       "ARMA (лин.тренд)      order=c(4,0,1),\\n     include.drift = TRUE, include.constant = TRUE                                             \n",
       "ARIMA                 order=c(4,1,1),\\n  include.drift = FALSE, include.constant = FALSE                                              \n",
       "ARIMA (автом. подбор)     stationary = FALSE, seasonal = FALSE, lambda=NULL, parallel=TRUE                                            \n",
       "ETS                   model=\"AAA\", damped = FALSE , lambda=NULL                                                                       \n",
       "ETS (автом. подбор)   lambda=NULL                                                                                                     \n",
       "TBATS                 use.trend = TRUE, \\n       use.arma.errors=TRUE, use.parallel=TRUE , use.box.cox=FALSE,   use.damped.trend=FALSE\n",
       "                      Месячные                                                                                                                                   \n",
       "AR_1 (лин.тренд)      order=c(2,0,0),\\n    seasonal=c(1,0,0), include.drift = TRUE, include.constant = TRUE)                                                     \n",
       "AR_2 (лин.тренд)      order=c(11,0,0),\\n    seasonal=c(2,0,0), include.drift = TRUE, include.constant = TRUE                                                     \n",
       "AR_2 (квадр. тренд)   order=c(11,0,0),\\n    seasonal=c(2,0,0), include.drift = TRUE, include.constant = TRUE                                                     \n",
       "ARI                   order=c(4,0,0),\\n    seasonal=c(1,1,0), include.drift = FALSE, include.constant = FALSE                                                    \n",
       "ARMA (лин.тренд)      order=c(4,0,1),\\n    seasonal=c(1,0,1), include.drift = TRUE, include.constant = TRUE)                                                     \n",
       "ARIMA                 order=c(4,1,1),\\n    seasonal=c(1,1,1), include.drift = FALSE, include.constant = FALSE                                                    \n",
       "ARIMA (автом. подбор)     stationary = FALSE, seasonal = TRUE, lambda=NULL, parallel=TRUE                                                                        \n",
       "ETS                   model=\"AAA\", damped = TRUE , lambda=NULL                                                                                                   \n",
       "ETS (автом. подбор)   lambda=NULL                                                                                                                                \n",
       "TBATS                 use.trend = TRUE, seasonal.periods = var_freq,\\n       use.arma.errors=TRUE, use.parallel=TRUE , use.box.cox=FALSE,   use.damped.trend=TRUE"
      ]
     },
     "metadata": {},
     "output_type": "display_data"
    }
   ],
   "source": [
    "readRDS(\"df_params.rds\")"
   ]
  },
  {
   "cell_type": "markdown",
   "metadata": {},
   "source": [
    "### Text"
   ]
  },
  {
   "cell_type": "markdown",
   "metadata": {},
   "source": [
    "One way to improve accuracy is through aggregation of data. This\n",
    "can mean aggregating the historical data prior to making a forecast, or\n",
    "aggregating the forecasts themselves. The purpose is to use information at\n",
    "one level of aggregation to improve forecasts at another level of aggregation.\n",
    "\n",
    "\n",
    "For the most common approaches to forecasting (ARIMA, state space,\n",
    "exponential smoothing) such methods or models are available:\n",
    "- Vector autoregressive (VAR) models, where time series share common\n",
    "parameters (e.g., Chatfield, 2000)\n",
    "- Multivariate state space models (e.g., Harvey, 1989), including\n",
    "Bayesian approaches (Pole et al., 1994).\n",
    "- Multivariate (or vector) exponential smoothing (Jones, 1966; Enns\n",
    "et al., 1982; Harvey, 1986).\n",
    "- Analogous series. In Duncan et al. (1993, 2001) a Bayesian approach\n",
    "is taken to pooling analogous time series. \n",
    "\n",
    "Parameters estimated\n",
    "from the group model are combined with conventional parameters.\n",
    "Empirical results showed that accuracy can be improved.\n",
    "Because these methods use the covariance structure between the time series,\n",
    "they can, at least theoretically, make better forecasts than simple BU, TD\n",
    "or GSI approaches. For example, in Wei and Abraham (1981) it is shown\n",
    "that a joint modeling approach always gives better linear forecasts than a\n",
    "BU approach for weakly stationary series."
   ]
  },
  {
   "cell_type": "markdown",
   "metadata": {},
   "source": [
    "#### to do \n",
    "\n",
    "1. Duncan (analogous TS)  в текст"
   ]
  },
  {
   "cell_type": "markdown",
   "metadata": {},
   "source": [
    "#### Модель 4: bvarr/BMR\n",
    "\n",
    "###### [Shrinkage and Regularized Regression](https://jrnold.github.io/bayesian_notes/shrinkage-and-regularized-regression.html)\n",
    "\n",
    "https://www.sciencedirect.com/science/article/pii/0304407689900365\n",
    "\n",
    "https://www.ecb.europa.eu/pub/pdf/scpwps/ecbwp966.pdf"
   ]
  },
  {
   "cell_type": "markdown",
   "metadata": {},
   "source": [
    "- [bvarr](https://github.com/bdemeshev/bvarr), [bvarrKK](https://github.com/bdemeshev/bvarrKK), [bvar_om](https://github.com/bdemeshev/bvar_om)\n",
    "\n",
    "- [BMR: documantation](https://www.kthohr.com/bmr.html), [pdf](https://www.kthohr.com/bmr/BMR.pdf)\n",
    "\n",
    "- https://github.com/joergrieger/bvar\n",
    "\n",
    "- [bvarsv](https://cran.r-project.org/web/packages/bvarsv/bvarsv.pdf)\n",
    "\n",
    "- [MSBVAR: Markov-switching Bayesian VAR](https://cran.r-project.org/package=MSBVAR)\n",
    "\n",
    "[Панели](http://bdemeshev.github.io/r_cycle/cycle_files/09_panel_regression.html)\n",
    "\n",
    "[BVAR](http://bdemeshev.github.io/r_cycle/cycle_files/21_bayesian_var.html)\n",
    "\n",
    "[STAN](http://bdemeshev.github.io/r_cycle/cycle_files/33_stan_intro.html)\n",
    "\n",
    "[MCMC](http://bdemeshev.github.io/r_cycle/cycle_files/15_mcmc_pack.html)\n",
    "\n",
    "[HB](http://bdemeshev.github.io/r_cycle/cycle_files/32_bayesian_hierarchical_logit.html)"
   ]
  }
 ],
 "metadata": {
  "hide_input": false,
  "kernelspec": {
   "display_name": "R 3.5.1",
   "language": "R",
   "name": "ir"
  },
  "language_info": {
   "codemirror_mode": "r",
   "file_extension": ".r",
   "mimetype": "text/x-r-source",
   "name": "R",
   "pygments_lexer": "r",
   "version": "3.5.2"
  },
  "latex_envs": {
   "LaTeX_envs_menu_present": true,
   "autoclose": true,
   "autocomplete": true,
   "bibliofile": "biblio.bib",
   "cite_by": "apalike",
   "current_citInitial": 1,
   "eqLabelWithNumbers": true,
   "eqNumInitial": 1,
   "hotkeys": {
    "equation": "Ctrl-E",
    "itemize": "Ctrl-I"
   },
   "labels_anchors": false,
   "latex_user_defs": false,
   "report_style_numbering": false,
   "user_envs_cfg": false
  },
  "toc": {
   "base_numbering": 1,
   "nav_menu": {},
   "number_sections": true,
   "sideBar": true,
   "skip_h1_title": false,
   "title_cell": "Table of Contents",
   "title_sidebar": "Contents",
   "toc_cell": false,
   "toc_position": {},
   "toc_section_display": true,
   "toc_window_display": false
  },
  "varInspector": {
   "cols": {
    "lenName": 16,
    "lenType": 16,
    "lenVar": 40
   },
   "kernels_config": {
    "python": {
     "delete_cmd_postfix": "",
     "delete_cmd_prefix": "del ",
     "library": "var_list.py",
     "varRefreshCmd": "print(var_dic_list())"
    },
    "r": {
     "delete_cmd_postfix": ") ",
     "delete_cmd_prefix": "rm(",
     "library": "var_list.r",
     "varRefreshCmd": "cat(var_dic_list()) "
    }
   },
   "types_to_exclude": [
    "module",
    "function",
    "builtin_function_or_method",
    "instance",
    "_Feature"
   ],
   "window_display": false
  }
 },
 "nbformat": 4,
 "nbformat_minor": 2
}
