{
 "cells": [
  {
   "cell_type": "markdown",
   "metadata": {},
   "source": [
    "###  R Packages for DM test: \n",
    "\n",
    "- [`multDM`](https://cran.r-project.org/web/packages/multDM/multDM.pdf) Allows to perform the multivariate version of the Diebold-Mariano test for equal predictive ability of multiple forecast comparison.\n",
    "\n",
    "- `dm.test` from [`forecast`](https://www.rdocumentation.org/packages/forecast/versions/8.5/topics/dm.test) This function implements the modified test proposed by Harvey, Leybourne and Newbold (1997). The null hypothesis is that the two methods have the same forecast accuracy. "
   ]
  },
  {
   "cell_type": "markdown",
   "metadata": {},
   "source": [
    "### [Comparing Predictive Accuracy of two Forecasts: The Diebold-Mariano Test](http://www.phdeconomics.sssup.it/documents/Lesson19.pdf)"
   ]
  },
  {
   "cell_type": "markdown",
   "metadata": {},
   "source": [
    "In empirical applications it is often the case that two or more\n",
    "time series models are available for forecasting a particular\n",
    "variable of interest.\n",
    "\n",
    "Question: Are the forecasts equally good?"
   ]
  },
  {
   "cell_type": "markdown",
   "metadata": {},
   "source": [
    "The loss associated with forecast $i$ is assumed to be a function\n",
    "of the forecast error, $e_{it}$, and is denoted by $g(e_{it})$.\n",
    "\n",
    "A problem with these loss function is that they are symmetric\n",
    "functions (squared-error loss, absolute error loss)\n",
    "\n",
    "When it is more costly to underpredict $y_t$ than to overpredict\n",
    "it, the following loss function can be used:\n",
    "$$g(e_{it}) = \\exp (λe_{it}) − 1 − λe_{it}$$\n",
    "\n",
    "We define the loss differential between the two forecasts by\n",
    "$$d_t = g(e_{1t}) − g(e_{2t})$$\n",
    "and say that the two forecasts have equal accuracy if and only\n",
    "if the loss differential has zero expectation for all $t$.'\n",
    "\n",
    "So, we would like to test the null hypothesis\n",
    "$$H_0 : E(d_t) = 0,  ∀t$$\n",
    "versus the alternative hypothesis\n",
    "$$H_1 : E(d_t) \\neq 0$$\n",
    "The null hypothesis is that the two forecasts have the same\n",
    "accuracy. The alternative hypothesis is that the two forecasts\n",
    "have different levels of accuracy\n",
    "\n",
    "\n",
    "Suppose that the forecasts are h(> 1)-step-ahead. In order to\n",
    "test the null hypotesis that the two forecasts have the same\n",
    "accuracy, Diebold-Mariano utilize the following statistic\n",
    "\n",
    "$$DM = \\frac{\\bar{d}}{\\sqrt{\\frac{2\\pi\\hat{f}_d(0)}{T}}} \\sim N(0;1)$$\n",
    "\n",
    "where\n",
    "\n",
    "$f_d (0) = \\frac{1}{2π} \\sum^{\\infty}_{k=-\\infty} γ_d (k)$ is the spectral density of the loss differential at frequency 0, \n",
    "$γ_d(k)$ is the autocovariance of the loss differential at lag $k$\n",
    "\n",
    "$\\hat{f}_d (0) =  \\frac{1}{2π} \\sum^{T−1}_{k=−(T−1)} I(\\frac{k}{h − 1}) \\hat{γ}_d (k)$\n",
    "is a consistent estimate of $f_d (0)$\n",
    "\n",
    "$\\hat{γ}_d (k) = 1/T \\sum^T_{t=|k|+1} (d_t − \\bar{d})(d_{t−|k|} − \\bar{d})$\n",
    "\n",
    "$I(\\frac{k}{h − 1}) =  \\begin{cases} 1, \\  \\ if\\  |\\frac{k}{h − 1}| \\leq 1 \\\\ 0, \\  otherwise \\end{cases}$\n",
    "\n",
    "\n",
    "As the simulation experiments in Diebold and Mariano (1995)\n",
    "show, the normal distribution can be a very poor\n",
    "approximation of the DM test’s finite-sample null distribution.\n",
    "Their results show that the DM test can have the wrong size,\n",
    "rejecting the null too often, depending on the degree of serial\n",
    "correlation among the forecast errors and the sample size, $T$.\n"
   ]
  },
  {
   "cell_type": "markdown",
   "metadata": {},
   "source": [
    "Harvey, Leybourne, and Newbold (1997) (HLN) suggest that\n",
    "improved small-sample properties can be obtained by:\n",
    "1. making a bias correction to the DM test statistic, and\n",
    "2. comparing the corrected statistic with a Student-t distribution with (T-1) degrees of freedom, rather than the standard normal.\n",
    "\n",
    "\n",
    "$$HLN = DM\\sqrt{(n+1-2h+h(h-1))/n} \\sim T(n-1)$$\n",
    "\n",
    "\n",
    "__A problem:__\n",
    "\n",
    "The Diebold-Mariano test should not be applied\n",
    "to situations where the competing forecasts are obtained using\n",
    "two nested models\n",
    "\n",
    "The root of the problem is that, at the population level, if the\n",
    "null hypothesis of equal predictive accuracy is true, the forecast\n",
    "errors from the competing models are exactly the same and\n",
    "perfectly correlated, which means that the numerator and\n",
    "denominator of a Diebold-Mariano test are each limiting to\n",
    "zero as the estimation sample and prediction sample grow.\n",
    "\n",
    "However, when the size of the estimation sample remains finite\n",
    "as the size of the prediction sample grows, parameter\n",
    "estimates are prevented from reaching their probability limits\n",
    "and the Diebold-Mariano test remains asymptotically valid\n",
    "even for nested models, under some regularity assumptions\n",
    "(see Giacomini and White 2003)."
   ]
  },
  {
   "cell_type": "markdown",
   "metadata": {},
   "source": [
    "> ##### [Nested model](http://quantile.ru/12/12-AT.pdf) \n",
    "\n",
    "> Когда модель A является частным случаем модели B, т. е. A можно получить из B, наложив\n",
    "на параметры некоторые ограничения (и, возможно, сделав замену переменных), то говорят,\n",
    "что модель A вложена (nested) в модель B. Если же A и B не сводятся друг к другу с помощью наложения ограничений на параметры, то говорят, что A и B являются невложенными\n",
    "(non-nested); примером могут служить модели логит и пробит. Если правильность спецификации одной модели проверяют на основе сопоставления с невложенной альтернативной\n",
    "моделью, то говорят о невложенных гипотезах. \n",
    "\n",
    "\n",
    "> В том же контексте выбора модели есть похожий термин encompassing (охват). Принцип\n",
    "охвата заключается в том, что если модель правильно специфицирована, то она должна\n",
    "быть способна объяснять результаты использования альтернативной модели. О выборе мо-\n",
    "дели, невложенных и охватывающих моделях см. Gourieroux & Monfort (1994), Pesaran &\n",
    "Weeks (2001), Greene (2012)."
   ]
  },
  {
   "cell_type": "markdown",
   "metadata": {},
   "source": [
    "Additional information:\n",
    "\n",
    "\n",
    "- [Statistical Tests for Multiple Forecast Comparison](http://statweb.stanford.edu/~ckirby/ted/conference/Roberto%20Mariano.pdf): other  tests like:\n",
    "    - Morgan-Granger-Newbold (MGN) Test (1977), \n",
    "    - Meese-Rogoff (MR) Test (1988), \n",
    "    - Diebold-Mariano (DM) Test (1995), \n",
    "    - HLN (1997): Small-Sample Modification of DM Test \n",
    "    - A Multivariate Test "
   ]
  },
  {
   "cell_type": "markdown",
   "metadata": {},
   "source": []
  },
  {
   "cell_type": "markdown",
   "metadata": {},
   "source": []
  },
  {
   "cell_type": "markdown",
   "metadata": {},
   "source": []
  }
 ],
 "metadata": {
  "kernelspec": {
   "display_name": "Python 3",
   "language": "python",
   "name": "python3"
  },
  "language_info": {
   "codemirror_mode": {
    "name": "ipython",
    "version": 3
   },
   "file_extension": ".py",
   "mimetype": "text/x-python",
   "name": "python",
   "nbconvert_exporter": "python",
   "pygments_lexer": "ipython3",
   "version": "3.6.5"
  }
 },
 "nbformat": 4,
 "nbformat_minor": 2
}
