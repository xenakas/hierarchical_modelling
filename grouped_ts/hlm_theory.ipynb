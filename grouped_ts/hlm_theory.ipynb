{
 "cells": [
  {
   "cell_type": "markdown",
   "metadata": {},
   "source": [
    "### HLM"
   ]
  },
  {
   "cell_type": "markdown",
   "metadata": {},
   "source": [
    "- [Three‐Level Models (Part 2): Models for Clustered Longitudinal Data](https://jonathantemplin.com/files/mlm/mlm13icpsr/mlm13icpsr_lecture10.pdf)\n",
    "\n",
    "- [The 3-Level HLM Model](http://www.statpower.net/Content/MLRM/Lecture%20Slides/HLM3.pdf)\n",
    "\n"
   ]
  },
  {
   "cell_type": "markdown",
   "metadata": {},
   "source": [
    "### RE and FE models for TS\n",
    "\n",
    "-  [Number of Subjects and Time Points Needed for Multilevel Time-Series Analysis: A Simulation Study of Dynamic Structural Equation Modeling](https://www.tandfonline.com/doi/abs/10.1080/10705511.2017.1392862?journalCode=hsem20)\n",
    "\n",
    "- [Slides: MIXED EFFECTS MODELS FOR TIME SERIES](https://www.cimat.mx/~jortega/Ombao/Ombao_MixedEffects.pdf)\n",
    "\n",
    "- [Michael J. Crawley: The R Book](https://onlinelibrary.wiley.com/doi/10.1002/9780470515075.ch19): Time Series Analysis in Mixed-Effects Models (page 645)\n",
    "\n",
    "ARIMA models can be implemented as State Space models (R's arima does this, under the hood), also known as Dynamic Linear models (DLMs). DLMs are also extensions from regression (in a different way than Mixed Effects), so I'd guess that there is a deep-down relationship between ARIMA and Mixed-effect models.\n",
    "\n",
    "- [How Many Countries for Multilevel Modeling? A Comparison of Frequentist and Bayesian Approaches](https://onlinelibrary.wiley.com/doi/abs/10.1111/ajps.12001)\n",
    "\n",
    "- [Explaining Fixed Effects: Random Effects Modeling of Time-Series Cross-Sectional and Panel Data](https://www.researchgate.net/publication/233756428_Explaining_Fixed_Effects_Random_Effects_Modeling_of_Time-Series_Cross-Sectional_and_Panel_Data)\n",
    "\n",
    "Multilevel modelling is a name for models that have both fixed and random effects \n",
    "\n",
    "If you mean RE, yes you are right, and yes the Mundlak formulation will help if there are unobserved country-level factors linked to GDP that you want to control for. But this also uses up degrees of freedom. Without Mundlak, RE uses less degrees of freedom (because the random effects are assumed part of a distribution, only the variance of that distribution needs to be estimated, and you don't need a parameter for each RE).\n",
    "\n",
    "\n",
    "- [A Multilevel Multiset Time-Series Model for Describing Complex Developmental Processes](https://www.ncbi.nlm.nih.gov/pmc/articles/PMC5978585/)\n",
    "\n",
    "- [Mixed Models Approach to Estimate Time Series: Modeling the Environmental Effect on the Honeybee Egg Laying Activity](http://www.unavarra.es/metma3/Papers/PDFS_ORAL/Cabral.pdf)\n",
    "\n",
    "- [Fitting Linear Mixed-Effects Models Using lme4](https://cran.r-project.org/web/packages/lme4//vignettes/lmer.pdf): [???](https://stackoverflow.com/questions/35628204/incorporating-time-series-into-a-mixed-effects-model-in-r-using-lme4)\n",
    "\n"
   ]
  },
  {
   "cell_type": "markdown",
   "metadata": {},
   "source": [
    "### DLM\n",
    "\n",
    "Dynamic Linear Models (DLMs) or state space models\n",
    "define a very general class of non-stationary time series\n",
    "models.\n",
    "\n",
    "Dynamic Bayesian models are developed for application in\n",
    "nonlinear, non-normal time series and regression problems,\n",
    "providing dynamic extensions of standard generalized linear\n",
    "models\n",
    "\n",
    "Bayesian\n",
    "analysis of Normal linear State Space models, also known as\n",
    "Dynamic Linear Models\n",
    "\n",
    "- [Introduction to Dynamic Linear Models](https://www.math.unm.edu/~ghuerta/tseries/dlmch2.pdf)\n",
    "\n",
    "-  [Time series and dynamic linear models](http://halweb.uc3m.es/esp/Personal/personas/mwiper/docencia/English/PhD_Bayesian_Statistics/ch11_2009.pdf)\n",
    "\n",
    "- [Dynamic Generalized Linear Models and Bayesian Forecasting](http://www2.stat.duke.edu/~mw/MWextrapubs/West1985a.pdf)\n",
    "\n",
    "- [DLM with R book](http://people.bordeaux.inria.fr/pierre.delmoral/dynamics-linear-models.petris_et_al.pdf)\n",
    "\n",
    "- [ A Bayesian Multivariate Functional Dynamic Linear Model ](https://arxiv.org/pdf/1411.0764.pdf): To model MFTS, we extend the hierarchical dynamic linear model (DLM) framework of\n",
    "Gamerman and Migon (1993) and West and Harrison (1997) for multivariate time series to\n",
    "the functional data setting\n",
    "\n",
    "\n",
    "\n",
    "\n",
    "\n"
   ]
  },
  {
   "cell_type": "code",
   "execution_count": null,
   "metadata": {},
   "outputs": [],
   "source": []
  }
 ],
 "metadata": {
  "kernelspec": {
   "display_name": "Python 3",
   "language": "python",
   "name": "python3"
  },
  "language_info": {
   "codemirror_mode": {
    "name": "ipython",
    "version": 3
   },
   "file_extension": ".py",
   "mimetype": "text/x-python",
   "name": "python",
   "nbconvert_exporter": "python",
   "pygments_lexer": "ipython3",
   "version": "3.6.5"
  }
 },
 "nbformat": 4,
 "nbformat_minor": 2
}
