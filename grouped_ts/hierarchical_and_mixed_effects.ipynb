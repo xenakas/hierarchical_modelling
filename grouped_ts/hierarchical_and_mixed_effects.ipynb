{
 "cells": [
  {
   "cell_type": "markdown",
   "metadata": {},
   "source": [
    "# Hierarchical and Mixed Effects Models"
   ]
  },
  {
   "cell_type": "markdown",
   "metadata": {},
   "source": [
    "- Hierarchical models: Nested models, Multi-level models\n",
    "- Regression framework: \"Pool\" information, \"Random-effect\" versus a \"fixed-effect\", \"Mixed-effect\" (linear mixed-effect model; LMM), Linear mixed-effect regression (lmer)\n",
    "- Repeated sampling: \"Repeated-measures\", \"Paired-tests\""
   ]
  },
  {
   "cell_type": "code",
   "execution_count": null,
   "metadata": {},
   "outputs": [],
   "source": []
  }
 ],
 "metadata": {
  "kernelspec": {
   "display_name": "R",
   "language": "R",
   "name": "ir"
  },
  "language_info": {
   "codemirror_mode": "r",
   "file_extension": ".r",
   "mimetype": "text/x-r-source",
   "name": "R",
   "pygments_lexer": "r",
   "version": "3.5.1"
  }
 },
 "nbformat": 4,
 "nbformat_minor": 2
}
