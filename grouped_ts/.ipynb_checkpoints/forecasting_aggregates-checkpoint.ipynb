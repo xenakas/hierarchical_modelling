{
 "cells": [
  {
   "cell_type": "markdown",
   "metadata": {},
   "source": [
    "### [Forecasting Economic Aggregates Using Dynamic Component Grouping](https://mpra.ub.uni-muenchen.de/81585/1/MPRA_paper_81585.pdf)"
   ]
  },
  {
   "cell_type": "markdown",
   "metadata": {},
   "source": [
    "__Abstract__\n",
    "\n",
    "In terms of aggregate accuracy, whether it is worth the effort of modelling a disaggregate process, instead of forecasting the aggregate directly, depends on the\n",
    "properties of the data. Forecasting the aggregate directly and forecasting each of\n",
    "the components separately, however, are not the only options. This paper develops\n",
    "a framework to forecast an aggregate that dynamically chooses groupings of components based on the properties of the data to benefit from both the advantages\n",
    "of aggregation and disaggregation. With this objective in mind, the dimension of\n",
    "the problem is reduced by selecting a subset of possible groupings through the use\n",
    "of agglomerative hierarchical clustering. The definitive forecast is then produced\n",
    "based on this subset. The results from an empirical application using CPI data for\n",
    "France, Germany and the UK suggest that the grouping methods can improve both\n",
    "aggregate and disaggregate accuracy"
   ]
  },
  {
   "cell_type": "markdown",
   "metadata": {},
   "source": [
    "#### Intro"
   ]
  },
  {
   "cell_type": "markdown",
   "metadata": {},
   "source": [
    "The usual argument behind using the components is that\n",
    "allowing for different specifications across disaggregate variables may capture more\n",
    "precisely the dynamics of a process that becomes too complex through aggregation.\n",
    "Favouring forecasting directly is that it would be less affected by disaggregate misspecification, data measurement error and structural breaks. Ultimately, whether it is\n",
    "better to forecast components together or separately depends on the particular forecasting models and data. \n",
    "\n",
    "\n",
    "In this context, it might be\n",
    "possible to find specific groupings that avoid the problems associated with disaggregate\n",
    "forecasting while still allowing for distinct disaggregate dynamics to be picked up in the\n",
    "process. With this objective we develop a two-stage method that combines statistical\n",
    "learning techniques and traditional economic forecasting evaluation. \n",
    "\n",
    "- In the first stage, we use agglomerative hierarchical clustering to reduce the dimension of the problem by choosing a subset of feasible groupings based on the commonality among the different components. \n",
    "- In the second stage, we try different selection procedures on the resulting hierarchy to produce the final aggregate forecast. These selection procedures include choosing a single grouping based on some criterion and combining the whole subset of groups.\n",
    "\n",
    "The results from an empirical application using CPI data for France, Germany and the\n",
    "UK show that the grouping method can improve overall accuracy. \n",
    "The results show\n",
    "that some of the methods that selected a unique grouping performed better than the\n",
    "best performing non-grouping method, both in terms of aggregate and disaggregate\n",
    "accuracy.  "
   ]
  },
  {
   "cell_type": "markdown",
   "metadata": {},
   "source": [
    "The options available for forecasting are many, even when only the level of disaggregation is considered. \n",
    "The usual argument behind using the components to forecast an aggregate is that allowing for different specifications across disaggregate variables may capture more precisely the dynamics of a process that becomes too complex through aggregation. In support of this view, Granger (1990) show that the summing\n",
    "many simple stationary processes can produce a fractional integrated aggregate, while\n",
    "Bermingham and D’Agostino (2014) show that the dispersion of the persistence of individual series has an accelerating effect on the increase of complexity in the aggregate.\n",
    "\n",
    "Favouring forecasting the aggregate directly is that, in practical applications, it is likely\n",
    "that the disaggregate processes may suffer from misspecification. For example, if the\n",
    "disaggregate models neglect that a number of components share common factors, the\n",
    "forecasting errors will tend to cluster having a negative effect on the aggregate forecast. The direct aggregate forecast would be less affected by these features\n",
    "in the data and other problems, like those resulting from data measurement error and\n",
    "structural breaks.\n",
    "\n",
    "The theoretical literature supports using the disaggregate forecasts, or bottom-up approach, but the results in the empirical literature are mixed. Ultimately, whether the\n",
    "magnitude of the aggregation error compensates the specification errors in the disaggregate model depends on the particular forecasting models and data.\n",
    "\n",
    "An option to improve forecasting performance in this setting, is to work on the modelling, that include disaggregate information in a direct aggregate approach or include common factors\n",
    "in a bottom-up approach. Another less obvious way, is to look for data transformations\n",
    "that allow existing models to perform better.\n",
    "\n",
    "> Examples: Marcellino et al. (2003), Hahn and Skudelny (2008), Burriel (2012) and Esteves\n",
    "(2013) for European GDP growth; and Zellner and Tobias (2000), Perevalov and Maier (2010) and Drechsel\n",
    "and Scheufele (2013) for GDP growth in specific industrialized countries."
   ]
  },
  {
   "cell_type": "markdown",
   "metadata": {},
   "source": [
    "__As mentioned before, adding components together results in new series with characteristics that may differ quite significantly from those of the originating ones. In this\n",
    "context, it may be possible to purposefully find specific groupings that show more desirable properties than those of the individual components and the aggregate.__\n",
    "\n",
    "Some authors have proposed using purpose-built groupings to increase overall forecasting accuracy, but it would seem that, at least in economic forecasting, it has had\n",
    "little impact. A reason for this may be that the number of possible\n",
    "groupings grows exponentially with the number of components meaning that traditional methods, that would usually rely on evaluating all possible outcomes, are really only usable for problems with relatively few components. For larger problems, a different\n",
    "approach becomes necessary.\n",
    "\n",
    "One that has been relatively successful recently, particularly given the increase in popularity of methods for Big Data, is one that performs grouping conditional on some feature of the original data. The success of these methods, however, depends on the chosen feature being useful in obtaining the desired outcome. \n",
    "- The assumption upon which many of these models are built on, is that by grouping series that behave in a similar way, the idiosyncratic errors within groups will tend to offset each other while the more relevant individual dynamics will be retained to be modelled.\n",
    "Although these problems are set in a different context, the purpose of the methods are\n",
    "very similar to those of grouping components to increase the forecasting accuracy of an\n",
    "economic aggregate. They belong, however, to an area of research of statistical learning\n",
    "that has focused almost exclusively on extracting information from very large datasets.\n",
    "Many relevant economic aggregates, like GDP and CPI, do not fall in this category and\n",
    "it is unclear whether these methods will work with relatively small samples."
   ]
  },
  {
   "cell_type": "markdown",
   "metadata": {},
   "source": []
  },
  {
   "cell_type": "markdown",
   "metadata": {},
   "source": []
  },
  {
   "cell_type": "markdown",
   "metadata": {},
   "source": []
  },
  {
   "cell_type": "markdown",
   "metadata": {},
   "source": []
  },
  {
   "cell_type": "markdown",
   "metadata": {},
   "source": []
  },
  {
   "cell_type": "markdown",
   "metadata": {},
   "source": []
  },
  {
   "cell_type": "markdown",
   "metadata": {},
   "source": []
  },
  {
   "cell_type": "markdown",
   "metadata": {},
   "source": []
  }
 ],
 "metadata": {
  "kernelspec": {
   "display_name": "Python 3",
   "language": "python",
   "name": "python3"
  },
  "language_info": {
   "codemirror_mode": {
    "name": "ipython",
    "version": 3
   },
   "file_extension": ".py",
   "mimetype": "text/x-python",
   "name": "python",
   "nbconvert_exporter": "python",
   "pygments_lexer": "ipython3",
   "version": "3.6.5"
  }
 },
 "nbformat": 4,
 "nbformat_minor": 2
}
