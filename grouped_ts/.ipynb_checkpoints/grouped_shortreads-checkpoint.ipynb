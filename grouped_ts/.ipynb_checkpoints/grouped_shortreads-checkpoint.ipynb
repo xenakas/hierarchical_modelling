{
 "cells": [
  {
   "cell_type": "markdown",
   "metadata": {},
   "source": [
    "# [Forecasting hierarchical or grouped time series](https://otexts.org/fpp2/hierarchical.html)\n",
    "\n",
    "Time series can often be naturally disaggregated by various attributes of interest. In this chapter we discuss forecasting large collections of time series that must add up in some way. The challenge is that we require forecasts that are coherent across the aggregation structure. That is, we require forecasts to add up in a manner that is consistent with the aggregation structure of the collection of time series. \n",
    "\n",
    "In Bayesian decision theory the coherency principle  is the assumption that personal probabilities follow the ordinary rules for probability calculations  and thus that consistent decisions can be obtained from these probabilities.\n"
   ]
  },
  {
   "cell_type": "markdown",
   "metadata": {},
   "source": [
    "\n",
    "## Hierarchical time series\n",
    "\n"
   ]
  },
  {
   "cell_type": "markdown",
   "metadata": {},
   "source": []
  },
  {
   "cell_type": "markdown",
   "metadata": {},
   "source": [
    "### "
   ]
  },
  {
   "cell_type": "markdown",
   "metadata": {},
   "source": []
  }
 ],
 "metadata": {
  "kernelspec": {
   "display_name": "Python 3",
   "language": "python",
   "name": "python3"
  },
  "language_info": {
   "codemirror_mode": {
    "name": "ipython",
    "version": 3
   },
   "file_extension": ".py",
   "mimetype": "text/x-python",
   "name": "python",
   "nbconvert_exporter": "python",
   "pygments_lexer": "ipython3",
   "version": "3.6.5"
  }
 },
 "nbformat": 4,
 "nbformat_minor": 2
}
