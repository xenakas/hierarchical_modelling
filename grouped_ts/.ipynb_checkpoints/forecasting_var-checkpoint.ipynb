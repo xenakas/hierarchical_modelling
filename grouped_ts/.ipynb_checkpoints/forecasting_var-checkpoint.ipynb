{
 "cells": [
  {
   "cell_type": "markdown",
   "metadata": {},
   "source": [
    "### VAR"
   ]
  },
  {
   "cell_type": "markdown",
   "metadata": {},
   "source": [
    "\n",
    "R: there is a package called \"vars\" which deals with VAR models.\n",
    "\n",
    "Python: PyFlux has support for VARs and Bayesian VARs."
   ]
  },
  {
   "cell_type": "markdown",
   "metadata": {},
   "source": [
    "Фактически VAR — это система эконометрических уравнений, каждая из которых представляет собой модель авторегрессии и распределенного лага (ADL).\n",
    "\n",
    "Векторные модели авторегрессии (Vector Autoregression – VAR) можно рассматривать как некий гибрид моделей одномерных временных рядов и систем одновременных уравнений. При их применении не приходится решать вопросы отнесения той или иной переменной к эндогенным или экзогенным переменным, что порой не совсем просто. Кроме того, эти модели позволяют исследовать зависимости с более сложной структурой, чем в анализе одномерных временных рядов или с использованием более сложных систем одновременных систем уравнений, что во многих случаях обеспечивает более высокое качество прогнозов.\n",
    "\n",
    "К недостаткам VAR-моделей можно отнести неопределённость в выборе подходящей длины лага, значительное число оцениваемых параметров и то, что все переменные в модели должны быть стационарными.\n",
    "\n",
    "- All variables have to be of the same order of integration. \n",
    "\n",
    "- All the variables are I(0) (stationary): this is in the standard case, i.e. a VAR in level\n",
    "- All the variables are I(d) (non-stationary) with d > 0:\n",
    "    - The variables are cointegrated: the error correction term has to be included in the VAR. The model becomes a __Vector error correction model (VECM)__ which can be seen as a restricted VAR.\n",
    "    - The variables are not cointegrated: the variables have first to be differenced d times and one has a VAR in difference.\n",
    "    \n",
    "Because of the parameter identification problem, ordinary least squares estimation of the structural VAR would yield inconsistent parameter estimates. This problem can be overcome by rewriting the VAR in reduced form.\n",
    "\n",
    "- ADL\n",
    "- Parameter identification problem\n",
    "- Structural vs. reduced form\n",
    "- Granger causality, impulse responses, and forecast error variance decompositions\n",
    "\n",
    "\n"
   ]
  },
  {
   "cell_type": "markdown",
   "metadata": {},
   "source": [
    "To use VAR model for non-stationary series, you have to test the cointegration If there is cointegration you use the model VECM Otherwise a VAR on the first differences of the variables\n"
   ]
  },
  {
   "cell_type": "markdown",
   "metadata": {},
   "source": [
    "#### [VAR or VECM for a mix of stationary and nonstationary variables](https://stats.stackexchange.com/questions/148994/var-or-vecm-for-a-mix-of-stationary-and-nonstationary-variables)"
   ]
  },
  {
   "cell_type": "markdown",
   "metadata": {},
   "source": [
    "Suppose you have three nonstationary series of a unit-root kind and one stationary series. That is, each of $x_1, x_2, x_3$ is integrated of order one, $I(1)$. You can determine the order of integration using, for example, the augmented Dickey-Fuller test (ADF test).\n",
    "\n",
    "Test each pair of the nonstationary series for cointegration using the Johansen or the Engle-Granger test. \n",
    "\n",
    "Then test all three series for cointegration using the Johansen test. \n",
    "\n",
    "Depending on the results of the tests, you may find yourself in one of the following situations:\n",
    "\n",
    "- No cointegration \n",
    "    - If no cointegration  then first-difference each of the three variables $(x_1, x_2, x_3)$, and use them together with the stationary variable $x_4$ to build a VAR model.\n",
    "- Two of the variables are cointegrated while the third variable is not \n",
    "    - then build a model where:\n",
    "        - $Δx_1, Δx_2, x_4$ depends on the error correction term and lags of $Δx_1,Δx_2, Δx_3, x_4$; \n",
    "        -  $Δx_3$ depends on lags of $Δx_1, Δx_2, Δx_3, x_4$; \n",
    "\n",
    "- The three variables are cointegrated\n",
    "    - then build a model where:\n",
    "        - $Δx_1, Δx_2, Δx_3, x_4$ depends on the error correction term and lags of $Δx_1,Δx_2, Δx_3, x_4$; \n",
    "\n",
    "\n",
    "In general, you want the following:\n",
    "\n",
    "Models for cointegrated variables should have an error-correction representation; otherwise the model would be misspecified (cointegration goes hand-in-hand with the error correction representation).\n",
    "\n",
    "Models for stationary dependent variables should not have nonstationary explanatory variables (except perhaps for stationary combinations of cointegrated nonstationary variables); otherwise the linear combination of the regressors would diverge from the regressand.\n",
    "\n",
    "Models for nonstationary dependent variables should have at least one nonstationary explanatory variable; otherwise the regressand would diverge from the linear combination of the regressors. Mind nonstandard distributions of estimators for the integrated variables.\n",
    "\n",
    "\n"
   ]
  },
  {
   "cell_type": "markdown",
   "metadata": {},
   "source": [
    "- If your variables are cointegrated and you used a VAR model: you could have done better by estimating a VECM model. Your estimations are still consistent (in fact superconsistent), but inefficient.\n",
    "- If your variables are not cointegrated and you use a VECM: You have used wrong information. The estimations are not consistent.\n",
    "\n",
    "\n",
    "__If the goal is forecast, estimate as much possible model as you can and compare their forecast performance. If the goal is to estimate the structure of the model, sure, you should test for cointegration.__ Of course, in this case you should do sensitivity analysis by estimating other unrestricted VAR models, because the power of statistical tests are limited."
   ]
  },
  {
   "cell_type": "markdown",
   "metadata": {},
   "source": [
    "### Literature\n",
    "\n",
    "Slides:\n",
    "\n",
    "- [Vector error correction model, VECM\n",
    "Cointegrated VAR](http://statmath.wu.ac.at/~hauser/LVs/FinEtricsQF/FEtrics_Chp4.pdf)\n",
    "\n",
    "Longreads:\n",
    "\n",
    "- [Probabilistic Forecasting with Stationary VAR Models](https://papers.ssrn.com/sol3/papers.cfm?abstract_id=2818213)"
   ]
  },
  {
   "cell_type": "code",
   "execution_count": null,
   "metadata": {},
   "outputs": [],
   "source": []
  }
 ],
 "metadata": {
  "kernelspec": {
   "display_name": "R 3.5.1",
   "language": "R",
   "name": "ir"
  },
  "language_info": {
   "codemirror_mode": "r",
   "file_extension": ".r",
   "mimetype": "text/x-r-source",
   "name": "R",
   "pygments_lexer": "r",
   "version": "3.5.2"
  }
 },
 "nbformat": 4,
 "nbformat_minor": 2
}
