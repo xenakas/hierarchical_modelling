{
 "cells": [
  {
   "cell_type": "markdown",
   "metadata": {},
   "source": [
    "### VAR"
   ]
  },
  {
   "cell_type": "markdown",
   "metadata": {},
   "source": [
    "\n",
    "R: there is a package called \"vars\" which deals with VAR models.\n",
    "\n",
    "Python: PyFlux has support for VARs and Bayesian VARs."
   ]
  },
  {
   "cell_type": "markdown",
   "metadata": {},
   "source": [
    "Фактически VAR — это система эконометрических уравнений, каждая из которых представляет собой модель авторегрессии и распределенного лага (ADL).\n",
    "\n",
    "Векторные модели авторегрессии (Vector Autoregression – VAR) можно рассматривать как некий гибрид моделей одномерных временных рядов и систем одновременных уравнений. При их применении не приходится решать вопросы отнесения той или иной переменной к эндогенным или экзогенным переменным, что порой не совсем просто. Кроме того, эти модели позволяют исследовать зависимости с более сложной структурой, чем в анализе одномерных временных рядов или с использованием более сложных систем одновременных систем уравнений, что во многих случаях обеспечивает более высокое качество прогнозов.\n",
    "\n",
    "К недостаткам VAR-моделей можно отнести неопределённость в выборе подходящей длины лага, значительное число оцениваемых параметров и то, что все переменные в модели должны быть стационарными.\n",
    "\n",
    "- All variables have to be of the same order of integration. \n",
    "\n",
    "- All the variables are I(0) (stationary): this is in the standard case, i.e. a VAR in level\n",
    "- All the variables are I(d) (non-stationary) with d > 0:\n",
    "    - The variables are cointegrated: the error correction term has to be included in the VAR. The model becomes a __Vector error correction model (VECM)__ which can be seen as a restricted VAR.\n",
    "    - The variables are not cointegrated: the variables have first to be differenced d times and one has a VAR in difference.\n",
    "    \n",
    "Because of the parameter identification problem, ordinary least squares estimation of the structural VAR would yield inconsistent parameter estimates. This problem can be overcome by rewriting the VAR in reduced form.\n",
    "\n",
    "- ADL\n",
    "- Parameter identification problem\n",
    "- Structural vs. reduced form\n",
    "- Granger causality, impulse responses, and forecast error variance decompositions\n",
    "\n",
    "\n"
   ]
  },
  {
   "cell_type": "markdown",
   "metadata": {},
   "source": [
    "To use VAR model for non-stationary series, you have to test the cointegration If there is cointegration you use the model VECM Otherwise a VAR on the first differences of the variables\n"
   ]
  },
  {
   "cell_type": "markdown",
   "metadata": {},
   "source": [
    "#### [VAR or VECM for a mix of stationary and nonstationary variables](https://stats.stackexchange.com/questions/148994/var-or-vecm-for-a-mix-of-stationary-and-nonstationary-variables)"
   ]
  },
  {
   "cell_type": "markdown",
   "metadata": {},
   "source": [
    "Suppose you have three nonstationary series of a unit-root kind and one stationary series. That is, each of $x_1, x_2, x_3$ is integrated of order one, $I(1)$. You can determine the order of integration using, for example, the augmented Dickey-Fuller test (ADF test).\n",
    "\n",
    "Test each pair of the nonstationary series for cointegration using the Johansen or the Engle-Granger test. \n",
    "\n",
    "Then test all three series for cointegration using the Johansen test. \n",
    "\n",
    "Depending on the results of the tests, you may find yourself in one of the following situations:\n",
    "\n",
    "- No cointegration \n",
    "    - If no cointegration  then first-difference each of the three variables $(x_1, x_2, x_3)$, and use them together with the stationary variable $x_4$ to build a VAR model.\n",
    "- Two of the variables are cointegrated while the third variable is not \n",
    "    - then build a model where:\n",
    "        - $Δx_1, Δx_2, x_4$ depends on the error correction term and lags of $Δx_1,Δx_2, Δx_3, x_4$; \n",
    "        -  $Δx_3$ depends on lags of $Δx_1, Δx_2, Δx_3, x_4$; \n",
    "\n",
    "- The three variables are cointegrated\n",
    "    - then build a model where:\n",
    "        - $Δx_1, Δx_2, Δx_3, x_4$ depends on the error correction term and lags of $Δx_1,Δx_2, Δx_3, x_4$; \n",
    "\n",
    "\n",
    "In general, you want the following:\n",
    "\n",
    "Models for cointegrated variables should have an error-correction representation; otherwise the model would be misspecified (cointegration goes hand-in-hand with the error correction representation).\n",
    "\n",
    "Models for stationary dependent variables should not have nonstationary explanatory variables (except perhaps for stationary combinations of cointegrated nonstationary variables); otherwise the linear combination of the regressors would diverge from the regressand.\n",
    "\n",
    "Models for nonstationary dependent variables should have at least one nonstationary explanatory variable; otherwise the regressand would diverge from the linear combination of the regressors. Mind nonstandard distributions of estimators for the integrated variables.\n",
    "\n",
    "\n"
   ]
  },
  {
   "cell_type": "markdown",
   "metadata": {},
   "source": [
    "- If your variables are cointegrated and you used a VAR model: you could have done better by estimating a VECM model. Your estimations are still consistent (in fact superconsistent), but inefficient.\n",
    "- If your variables are not cointegrated and you use a VECM: You have used wrong information. The estimations are not consistent.\n",
    "\n",
    "\n",
    "__If the goal is forecast, estimate as much possible model as you can and compare their forecast performance. If the goal is to estimate the structure of the model, sure, you should test for cointegration.__ Of course, in this case you should do sensitivity analysis by estimating other unrestricted VAR models, because the power of statistical tests are limited."
   ]
  },
  {
   "cell_type": "markdown",
   "metadata": {},
   "source": [
    "### Literature\n",
    "\n",
    "Slides:\n",
    "\n",
    "- [Vector error correction model, VECM\n",
    "Cointegrated VAR](http://statmath.wu.ac.at/~hauser/LVs/FinEtricsQF/FEtrics_Chp4.pdf)\n",
    "\n",
    "Longreads:\n",
    "\n",
    "- [Probabilistic Forecasting with Stationary VAR Models](https://papers.ssrn.com/sol3/papers.cfm?abstract_id=2818213)"
   ]
  },
  {
   "cell_type": "markdown",
   "metadata": {},
   "source": [
    "### RE and FE models for TS\n",
    "\n",
    "-  [Number of Subjects and Time Points Needed for Multilevel Time-Series Analysis: A Simulation Study of Dynamic Structural Equation Modeling](https://www.tandfonline.com/doi/abs/10.1080/10705511.2017.1392862?journalCode=hsem20)\n",
    "\n",
    "- [Slides: MIXED EFFECTS MODELS FOR TIME SERIES](https://www.cimat.mx/~jortega/Ombao/Ombao_MixedEffects.pdf)\n",
    "\n",
    "- [Michael J. Crawley: The R Book](https://onlinelibrary.wiley.com/doi/10.1002/9780470515075.ch19): Time Series Analysis in Mixed-Effects Models (page 645)\n",
    "\n",
    "ARIMA models can be implemented as State Space models (R's arima does this, under the hood), also known as Dynamic Linear models (DLMs). DLMs are also extensions from regression (in a different way than Mixed Effects), so I'd guess that there is a deep-down relationship between ARIMA and Mixed-effect models.\n",
    "\n",
    "- [How Many Countries for Multilevel Modeling? A Comparison of Frequentist and Bayesian Approaches](https://onlinelibrary.wiley.com/doi/abs/10.1111/ajps.12001)\n",
    "\n",
    "- [Explaining Fixed Effects: Random Effects Modeling of Time-Series Cross-Sectional and Panel Data](https://www.researchgate.net/publication/233756428_Explaining_Fixed_Effects_Random_Effects_Modeling_of_Time-Series_Cross-Sectional_and_Panel_Data)\n",
    "\n",
    "Multilevel modelling is a name for models that have both fixed and random effects \n",
    "\n",
    "If you mean RE, yes you are right, and yes the Mundlak formulation will help if there are unobserved country-level factors linked to GDP that you want to control for. But this also uses up degrees of freedom. Without Mundlak, RE uses less degrees of freedom (because the random effects are assumed part of a distribution, only the variance of that distribution needs to be estimated, and you don't need a parameter for each RE).\n",
    "\n",
    "\n",
    "- [A Multilevel Multiset Time-Series Model for Describing Complex Developmental Processes](https://www.ncbi.nlm.nih.gov/pmc/articles/PMC5978585/)\n",
    "\n",
    "- [Mixed Models Approach to Estimate Time Series: Modeling the Environmental Effect on the Honeybee Egg Laying Activity](http://www.unavarra.es/metma3/Papers/PDFS_ORAL/Cabral.pdf)\n",
    "\n",
    "- [Fitting Linear Mixed-Effects Models Using lme4](https://cran.r-project.org/web/packages/lme4//vignettes/lmer.pdf): [???](https://stackoverflow.com/questions/35628204/incorporating-time-series-into-a-mixed-effects-model-in-r-using-lme4)\n",
    "\n"
   ]
  },
  {
   "cell_type": "markdown",
   "metadata": {},
   "source": [
    "### DLM\n",
    "\n",
    "Dynamic Linear Models (DLMs) or state space models\n",
    "define a very general class of non-stationary time series\n",
    "models.\n",
    "\n",
    "Dynamic Bayesian models are developed for application in\n",
    "nonlinear, non-normal time series and regression problems,\n",
    "providing dynamic extensions of standard generalized linear\n",
    "models\n",
    "\n",
    "Bayesian\n",
    "analysis of Normal linear State Space models, also known as\n",
    "Dynamic Linear Models\n",
    "\n",
    "- [Introduction to Dynamic Linear Models](https://www.math.unm.edu/~ghuerta/tseries/dlmch2.pdf)\n",
    "\n",
    "-  [Time series and dynamic linear models](http://halweb.uc3m.es/esp/Personal/personas/mwiper/docencia/English/PhD_Bayesian_Statistics/ch11_2009.pdf)\n",
    "\n",
    "- [Dynamic Generalized Linear Models and Bayesian Forecasting](http://www2.stat.duke.edu/~mw/MWextrapubs/West1985a.pdf)\n",
    "\n",
    "- [DLM with R book](http://people.bordeaux.inria.fr/pierre.delmoral/dynamics-linear-models.petris_et_al.pdf)\n",
    "\n",
    "- [ A Bayesian Multivariate Functional Dynamic Linear Model ](https://arxiv.org/pdf/1411.0764.pdf): To model MFTS, we extend the hierarchical dynamic linear model (DLM) framework of\n",
    "Gamerman and Migon (1993) and West and Harrison (1997) for multivariate time series to\n",
    "the functional data setting\n",
    "\n",
    "\n",
    "\n",
    "\n",
    "\n"
   ]
  },
  {
   "cell_type": "code",
   "execution_count": null,
   "metadata": {},
   "outputs": [],
   "source": []
  }
 ],
 "metadata": {
  "kernelspec": {
   "display_name": "R 3.5.1",
   "language": "R",
   "name": "ir"
  },
  "language_info": {
   "codemirror_mode": "r",
   "file_extension": ".r",
   "mimetype": "text/x-r-source",
   "name": "R",
   "pygments_lexer": "r",
   "version": "3.5.2"
  }
 },
 "nbformat": 4,
 "nbformat_minor": 2
}
