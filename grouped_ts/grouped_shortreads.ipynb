{
 "cells": [
  {
   "cell_type": "markdown",
   "metadata": {},
   "source": [
    "# [Forecasting hierarchical or grouped time series](https://otexts.org/fpp2/hierarchical.html)\n",
    "\n",
    "Time series can often be naturally disaggregated by various attributes of interest. In this chapter we discuss forecasting large collections of time series that must add up in some way. The challenge is that we require forecasts that are coherent across the aggregation structure. That is, we require forecasts to add up in a manner that is consistent with the aggregation structure of the collection of time series. \n",
    "\n",
    "In Bayesian decision theory the coherency principle  is the assumption that personal probabilities follow the ordinary rules for probability calculations  and thus that consistent decisions can be obtained from these probabilities.\n"
   ]
  },
  {
   "cell_type": "markdown",
   "metadata": {},
   "source": [
    "\n",
    "## Hierarchical time series\n",
    "\n"
   ]
  },
  {
   "cell_type": "markdown",
   "metadata": {},
   "source": [
    "\n",
    "## [Forecasting by analogy](https://otexts.com/fpp2/analogies.html#fn8) "
   ]
  },
  {
   "cell_type": "markdown",
   "metadata": {},
   "source": [
    "One of the methods that works very well is the use of structured analogies  where you look for similar/analogous products in the category that you are trying to forecast and use them to forecast short term forecasting.  One limitation is that forecast by analogies will work only of you have good analogies otherwise you could rely on judgemental forecasting.\n",
    "\n",
    "Obviously, forecasting by analogy comes with challenges. We should aspire to base forecasts on multiple analogies rather than a single analogy, which may create biases. However, these may be challenging to identify. Similarly, we should aspire to consider multiple attributes. Identifying or even comparing these may not always be straightforward. As always, we suggest performing these comparisons and the forecasting process using a systematic approach. Developing a detailed scoring mechanism to rank attributes and record the process of ranking will always be useful.\n",
    "\n",
    "[Structured analogies for forecasting](https://repository.upenn.edu/cgi/viewcontent.cgi?referer=&httpsredir=1&article=1166&context=marketing_papers)"
   ]
  },
  {
   "cell_type": "markdown",
   "metadata": {},
   "source": []
  },
  {
   "cell_type": "markdown",
   "metadata": {},
   "source": []
  },
  {
   "cell_type": "markdown",
   "metadata": {},
   "source": []
  }
 ],
 "metadata": {
  "kernelspec": {
   "display_name": "Python 3",
   "language": "python",
   "name": "python3"
  },
  "language_info": {
   "codemirror_mode": {
    "name": "ipython",
    "version": 3
   },
   "file_extension": ".py",
   "mimetype": "text/x-python",
   "name": "python",
   "nbconvert_exporter": "python",
   "pygments_lexer": "ipython3",
   "version": "3.6.5"
  }
 },
 "nbformat": 4,
 "nbformat_minor": 2
}
