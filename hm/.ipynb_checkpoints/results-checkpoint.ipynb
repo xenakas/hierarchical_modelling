{
 "cells": [
  {
   "cell_type": "markdown",
   "metadata": {},
   "source": [
    "### 1. Данные."
   ]
  },
  {
   "cell_type": "markdown",
   "metadata": {},
   "source": [
    "Для работы с агреграриванными рядами подойдут:\n",
    "\n",
    "- для  eu: \n",
    "    - 3-уровневая: eu28 по странам по a10 (+)э\n",
    "        - без 'Costruction'\n",
    "        - разность в отдельный ряд\n",
    "    - 2 уровневая: eu28 стран по ввп 28 стран (+)\n",
    "        - расхождение около 0.12%\n",
    "    - 2-уровневая: ввп по каждой из стран по a10 (?)\n",
    "\n",
    "- для rus:\n",
    "    - 2 уровневая: только по отраслям (произведенный по оквэд)\n",
    "    - 2 уровневая: только по использованию\n",
    "    \n",
    "- для us:\n",
    "    - 2 уровневая: ввп по штатам (+)\n",
    "        - разность между ВВП и суммой по штатам в отделный ряд\n",
    "    "
   ]
  },
  {
   "cell_type": "markdown",
   "metadata": {},
   "source": [
    "### 2. Выбор модели"
   ]
  },
  {
   "cell_type": "markdown",
   "metadata": {},
   "source": [
    "### Планы-планы"
   ]
  },
  {
   "cell_type": "markdown",
   "metadata": {},
   "source": [
    "- hts: [pdf](https://cran.r-project.org/web/packages/hts/vignettes/hts.pdf)\n",
    "\n",
    "- [dtwclust](https://cran.r-project.org/web/packages/dtwclust/dtwclust.pdf): [pdf](https://cran.r-project.org/web/packages/dtwclust/vignettes/dtwclust.pdf), [git](https://github.com/asardaes/dtwclust), [examples](http://www.imsbio.co.jp/RGM-files/R_CC/download/dtwclust/inst/dtwclust-examples.R)\n",
    "\n",
    "- [Forecasting of Time Series’ Groups with\n",
    "Application of Fuzzy c-Mean Algorithm](http://www.m-hikari.com/ces/ces2015/ces33-36-2015/p/nikulchevCES33-36-2015.pdf)\n",
    "\n",
    "- [tsboot](https://stat.ethz.ch/R-manual/R-patched/library/boot/html/tsboot.html), [arima.boot](https://rdrr.io/cran/TSA/man/arima.boot.html)"
   ]
  },
  {
   "cell_type": "markdown",
   "metadata": {},
   "source": [
    "#### Модель 0: RW with drift"
   ]
  },
  {
   "cell_type": "markdown",
   "metadata": {},
   "source": [
    "#### Модель 00: Theta\n",
    "\n",
    "``library(foreast)``\n",
    "\n",
    "$\\sim$ ETS(AAdN)\n",
    "\n",
    "- [Unmasking the Theta method](https://robjhyndman.com/papers/Theta.pdf)\n",
    "\n",
    "- [The theta model: a decomposition approach to forecasting](https://www.sciencedirect.com/science/article/pii/S0169207000000662)"
   ]
  },
  {
   "cell_type": "markdown",
   "metadata": {},
   "source": [
    "#### Модель 2: RF\n",
    "\n",
    "Пара-тройка регрессоров:\n",
    "\n",
    "- лаг [-1] \n",
    "- лаг сезонный [-1] для eu/us\n",
    "- близкие ряды \n",
    "- прочие?"
   ]
  },
  {
   "cell_type": "markdown",
   "metadata": {},
   "source": [
    "#### Модель 3: лучшие предикторы - близкие ряды?\n",
    "\n"
   ]
  },
  {
   "cell_type": "markdown",
   "metadata": {},
   "source": [
    "### EU & US"
   ]
  },
  {
   "cell_type": "markdown",
   "metadata": {},
   "source": [
    "#### Модель 4: bvarr/BMR"
   ]
  },
  {
   "cell_type": "markdown",
   "metadata": {},
   "source": [
    "- [bvarr](https://github.com/bdemeshev/bvarr), [bvarrKK](https://github.com/bdemeshev/bvarrKK), [bvar_om](https://github.com/bdemeshev/bvar_om)\n",
    "\n",
    "- [BMR: documantation](https://www.kthohr.com/bmr.html), [pdf](https://www.kthohr.com/bmr/BMR.pdf)\n",
    "\n",
    "- https://github.com/joergrieger/bvar\n",
    "\n",
    "- [bvarsv](https://cran.r-project.org/web/packages/bvarsv/bvarsv.pdf)\n",
    "\n",
    "- [MSBVAR: Markov-switching Bayesian VAR](https://cran.r-project.org/package=MSBVAR)\n"
   ]
  },
  {
   "cell_type": "markdown",
   "metadata": {},
   "source": [
    "#### Модель 5: VAR"
   ]
  },
  {
   "cell_type": "markdown",
   "metadata": {},
   "source": [
    "Фактически VAR — это система эконометрических уравнений, каждая из которых представляет собой модель авторегрессии и распределенного лага (ADL).\n",
    "\n",
    "Векторные модели авторегрессии (Vector Autoregression – VAR) можно рассматривать как некий гибрид моделей одномерных временных рядов и систем одновременных уравнений. При их применении не приходится решать вопросы отнесения той или иной переменной к эндогенным или экзогенным переменным, что порой не совсем просто. Кроме того, эти модели позволяют исследовать зависимости с более сложной структурой, чем в анализе одномерных временных рядов или с использованием более сложных систем одновременных систем уравнений, что во многих случаях обеспечивает более высокое качество прогнозов.\n",
    "\n",
    "К недостаткам VAR-моделей можно отнести неопределённость в выборе подходящей длины лага, значительное число оцениваемых параметров и то, что все переменные в модели должны быть стационарными.\n",
    "\n",
    "- All variables have to be of the same order of integration. \n",
    "\n",
    "- All the variables are I(0) (stationary): this is in the standard case, i.e. a VAR in level\n",
    "- All the variables are I(d) (non-stationary) with d > 0:\n",
    "    - The variables are cointegrated: the error correction term has to be included in the VAR. The model becomes a __Vector error correction model (VECM)__ which can be seen as a restricted VAR.\n",
    "    - The variables are not cointegrated: the variables have first to be differenced d times and one has a VAR in difference.\n",
    "    \n",
    "Because of the parameter identification problem, ordinary least squares estimation of the structural VAR would yield inconsistent parameter estimates. This problem can be overcome by rewriting the VAR in reduced form.\n",
    "\n",
    "- ADL\n",
    "- Parameter identification problem\n",
    "- Structural vs. reduced form\n",
    "- Granger causality, impulse responses, and forecast error variance decompositions\n",
    "\n",
    "\n",
    "R: there is a package called \"vars\" which deals with VAR models.\n",
    "\n",
    "Python: PyFlux has support for VARs and Bayesian VARs."
   ]
  },
  {
   "cell_type": "markdown",
   "metadata": {},
   "source": [
    "### Offtop"
   ]
  },
  {
   "cell_type": "markdown",
   "metadata": {},
   "source": [
    "#### Модель 6: LSTM"
   ]
  },
  {
   "cell_type": "markdown",
   "metadata": {},
   "source": [
    "### Проверка\n",
    "\n",
    "RMSFE\n",
    "\n",
    "10%\n",
    "\n",
    "- rus: прогноз на 1/2 \n",
    "- eu/us: прогноз на 4/8"
   ]
  },
  {
   "cell_type": "markdown",
   "metadata": {},
   "source": [
    "- eu - каждое 4, зависимость точности вычислений и метода для рядов разной длины?"
   ]
  }
 ],
 "metadata": {
  "kernelspec": {
   "display_name": "Python 3",
   "language": "python",
   "name": "python3"
  },
  "language_info": {
   "codemirror_mode": {
    "name": "ipython",
    "version": 3
   },
   "file_extension": ".py",
   "mimetype": "text/x-python",
   "name": "python",
   "nbconvert_exporter": "python",
   "pygments_lexer": "ipython3",
   "version": "3.6.5"
  }
 },
 "nbformat": 4,
 "nbformat_minor": 2
}
