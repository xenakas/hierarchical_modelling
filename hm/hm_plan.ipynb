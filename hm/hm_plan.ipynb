{
 "cells": [
  {
   "cell_type": "markdown",
   "metadata": {},
   "source": [
    "### Планы-планы"
   ]
  },
  {
   "cell_type": "markdown",
   "metadata": {},
   "source": [
    "- hts: [pdf](https://cran.r-project.org/web/packages/hts/vignettes/hts.pdf)\n",
    "\n",
    "- [dtwclust](https://cran.r-project.org/web/packages/dtwclust/dtwclust.pdf): [pdf](https://cran.r-project.org/web/packages/dtwclust/vignettes/dtwclust.pdf), [git](https://github.com/asardaes/dtwclust), [examples](http://www.imsbio.co.jp/RGM-files/R_CC/download/dtwclust/inst/dtwclust-examples.R)\n",
    "\n",
    "- [Forecasting of Time Series’ Groups with\n",
    "Application of Fuzzy c-Mean Algorithm](http://www.m-hikari.com/ces/ces2015/ces33-36-2015/p/nikulchevCES33-36-2015.pdf)\n",
    "\n",
    "- [tsboot](https://stat.ethz.ch/R-manual/R-patched/library/boot/html/tsboot.html), [arima.boot](https://rdrr.io/cran/TSA/man/arima.boot.html)"
   ]
  },
  {
   "cell_type": "markdown",
   "metadata": {},
   "source": [
    "## I. Forecasting"
   ]
  },
  {
   "cell_type": "markdown",
   "metadata": {},
   "source": [
    "#### Модель 0: RW with drift\n",
    "\n",
    "The random walk with drift model is\n",
    "\n",
    "$$Y_t=c + Y_{t-1} + Z_t$$\n",
    "\n",
    "``rwf(y, h, drift=TRUE)``\n",
    "\n",
    "? a seasonal random walk (i.e., the observation from one year back)\n",
    "\n",
    "https://people.duke.edu/~rnau/411searw.htm"
   ]
  },
  {
   "cell_type": "markdown",
   "metadata": {},
   "source": [
    "#### Модель 1: Theta\n",
    "\n",
    "``library(foreast)``\n",
    "\n",
    "Equivalent to simple exponential smoothing with drift \n",
    "\n",
    "$\\sim$ ETS(AAdN)\n",
    "\n",
    "- [Unmasking the Theta method](https://robjhyndman.com/papers/Theta.pdf)\n",
    "\n",
    "- [The theta model: a decomposition approach to forecasting](https://www.sciencedirect.com/science/article/pii/S0169207000000662)"
   ]
  },
  {
   "cell_type": "markdown",
   "metadata": {},
   "source": [
    "#### Модель 2: RF\n",
    "\n",
    "Пара-тройка регрессоров:\n",
    "\n",
    "- лаг [-1] \n",
    "- лаг сезонный [-1] для eu/us\n",
    "- близкие ряды \n",
    "- прочие?"
   ]
  },
  {
   "cell_type": "markdown",
   "metadata": {},
   "source": [
    "#### Модель 3: лучшие предикторы - близкие ряды?\n",
    "\n",
    "https://cran.r-project.org/web/packages/dse/dse.pdf\n",
    "\n",
    "https://forecasters.org/wp-content/uploads/gravity_forms/7-2a51b93047891f1ec3608bdbd77ca58d/2013/07/Kongcharoen_Chaleampong_ISF2013.pdf\n",
    "\n",
    "https://arxiv.org/pdf/1507.01978.pdf"
   ]
  },
  {
   "cell_type": "markdown",
   "metadata": {},
   "source": [
    "### EU & US"
   ]
  },
  {
   "cell_type": "markdown",
   "metadata": {},
   "source": [
    "#### Модель 4: bvarr/BMR\n",
    "\n",
    "###### [Shrinkage and Regularized Regression](https://jrnold.github.io/bayesian_notes/shrinkage-and-regularized-regression.html)\n",
    "\n",
    "https://www.sciencedirect.com/science/article/pii/0304407689900365\n",
    "\n",
    "https://www.ecb.europa.eu/pub/pdf/scpwps/ecbwp966.pdf"
   ]
  },
  {
   "cell_type": "markdown",
   "metadata": {},
   "source": [
    "- [bvarr](https://github.com/bdemeshev/bvarr), [bvarrKK](https://github.com/bdemeshev/bvarrKK), [bvar_om](https://github.com/bdemeshev/bvar_om)\n",
    "\n",
    "- [BMR: documantation](https://www.kthohr.com/bmr.html), [pdf](https://www.kthohr.com/bmr/BMR.pdf)\n",
    "\n",
    "- https://github.com/joergrieger/bvar\n",
    "\n",
    "- [bvarsv](https://cran.r-project.org/web/packages/bvarsv/bvarsv.pdf)\n",
    "\n",
    "- [MSBVAR: Markov-switching Bayesian VAR](https://cran.r-project.org/package=MSBVAR)\n",
    "\n",
    "[Панели](http://bdemeshev.github.io/r_cycle/cycle_files/09_panel_regression.html)\n",
    "\n",
    "[BVAR](http://bdemeshev.github.io/r_cycle/cycle_files/21_bayesian_var.html)\n",
    "\n",
    "[STAN](http://bdemeshev.github.io/r_cycle/cycle_files/33_stan_intro.html)\n",
    "\n",
    "[MCMC](http://bdemeshev.github.io/r_cycle/cycle_files/15_mcmc_pack.html)\n",
    "\n",
    "[HB](http://bdemeshev.github.io/r_cycle/cycle_files/32_bayesian_hierarchical_logit.html)"
   ]
  },
  {
   "cell_type": "markdown",
   "metadata": {},
   "source": [
    "#### Модель 5: VAR"
   ]
  },
  {
   "cell_type": "markdown",
   "metadata": {},
   "source": [
    "\n",
    "R: there is a package called \"vars\" which deals with VAR models.\n",
    "\n",
    "Python: PyFlux has support for VARs and Bayesian VARs."
   ]
  },
  {
   "cell_type": "markdown",
   "metadata": {},
   "source": [
    "Фактически VAR — это система эконометрических уравнений, каждая из которых представляет собой модель авторегрессии и распределенного лага (ADL).\n",
    "\n",
    "Векторные модели авторегрессии (Vector Autoregression – VAR) можно рассматривать как некий гибрид моделей одномерных временных рядов и систем одновременных уравнений. При их применении не приходится решать вопросы отнесения той или иной переменной к эндогенным или экзогенным переменным, что порой не совсем просто. Кроме того, эти модели позволяют исследовать зависимости с более сложной структурой, чем в анализе одномерных временных рядов или с использованием более сложных систем одновременных систем уравнений, что во многих случаях обеспечивает более высокое качество прогнозов.\n",
    "\n",
    "К недостаткам VAR-моделей можно отнести неопределённость в выборе подходящей длины лага, значительное число оцениваемых параметров и то, что все переменные в модели должны быть стационарными.\n",
    "\n",
    "- All variables have to be of the same order of integration. \n",
    "\n",
    "- All the variables are I(0) (stationary): this is in the standard case, i.e. a VAR in level\n",
    "- All the variables are I(d) (non-stationary) with d > 0:\n",
    "    - The variables are cointegrated: the error correction term has to be included in the VAR. The model becomes a __Vector error correction model (VECM)__ which can be seen as a restricted VAR.\n",
    "    - The variables are not cointegrated: the variables have first to be differenced d times and one has a VAR in difference.\n",
    "    \n",
    "Because of the parameter identification problem, ordinary least squares estimation of the structural VAR would yield inconsistent parameter estimates. This problem can be overcome by rewriting the VAR in reduced form.\n",
    "\n",
    "- ADL\n",
    "- Parameter identification problem\n",
    "- Structural vs. reduced form\n",
    "- Granger causality, impulse responses, and forecast error variance decompositions\n",
    "\n",
    "\n"
   ]
  },
  {
   "cell_type": "markdown",
   "metadata": {},
   "source": [
    "### Offtop"
   ]
  },
  {
   "cell_type": "markdown",
   "metadata": {},
   "source": [
    "#### Модель 6: LSTM"
   ]
  },
  {
   "cell_type": "markdown",
   "metadata": {},
   "source": [
    "### Проверка\n",
    "\n",
    "- [RMSFE](https://otexts.com/fpp2/accuracy.html) \n",
    "- [Methods used in M3](https://www.sciencedirect.com/science/article/pii/S0169207006000239)\n",
    "- [Regression and time series model selection in small samples](https://www.stat.berkeley.edu/~binyu/summer08/Hurvich.AICc.pdf): KL information\n",
    "\n",
    "\n",
    "10% наблюдений\n",
    "\n",
    "- rus: прогноз на 1/2 \n",
    "- eu/us: прогноз на 4/8"
   ]
  },
  {
   "cell_type": "markdown",
   "metadata": {},
   "source": [
    "- eu - каждое 4, зависимость точности вычислений и метода для рядов разной длины?"
   ]
  },
  {
   "cell_type": "markdown",
   "metadata": {},
   "source": [
    "## II. Weighthed combination"
   ]
  },
  {
   "cell_type": "markdown",
   "metadata": {},
   "source": [
    "HTS:\n",
    "\n",
    "https://www.rdocumentation.org/packages/hts/versions/5.1.5\n",
    "\n",
    "https://cran.r-project.org/web/packages/hts/index.html\n",
    "\n",
    "https://github.com/earowang/hts\n",
    "\n",
    "https://otexts.com/fpp2/hts.html\n",
    "\n",
    "GEOMCOMB:\n",
    "\n",
    "https://cran.r-project.org/web/packages/GeomComb/GeomComb.pdf\n",
    "\n",
    "NLME?\n",
    "\n",
    "https://stat.ethz.ch/education/semesters/ss2010/seminar/09_Slides.pdf"
   ]
  },
  {
   "cell_type": "markdown",
   "metadata": {},
   "source": [
    "## III. DM Test"
   ]
  },
  {
   "cell_type": "markdown",
   "metadata": {},
   "source": [
    "https://stats.stackexchange.com/questions/230566/diebold-mariano-test-in-case-of-nested-models-clark-mccracken-2001\n",
    "\n",
    "https://files.stlouisfed.org/files/htdocs/wp/2009/2009-050.pdf\n",
    "\n",
    "http://citeseerx.ist.psu.edu/viewdoc/download?doi=10.1.1.194.8459&rep=rep1&type=pdf"
   ]
  },
  {
   "cell_type": "markdown",
   "metadata": {},
   "source": [
    "###### Research questions?\n",
    "\n",
    "- [Many relevant economic aggregates, like GDP and CPI, do not fall in this category and it is unclear whether these methods will work with relatively small samples.](https://mpra.ub.uni-muenchen.de/81585/1/MPRA_paper_81585.pdf)\n",
    "- На сколько уровней разбивать агрегат?\n",
    "- A very attractive feature of forecast combination is that simple combination schemes are surprisingly effective. In fact, the equal-weighted forecast combination performs so well that researchers have tried to explain why this is the case (Smith and Wallis, 2009). Would it be the case if we use error dissimilarity measurement?\n",
    "- Are there any benefits from using rolling forecasts or recursive filters for prediction?\n",
    "\n",
    "\n",
    "- What's better?  \n",
    "    - Var: gdp + disaggregated time series 2 level\n",
    "    - Var: gdp + aggregated time series 3 level\n",
    "\n",
    "- BVAR for disaggregated time series with grouped priors\n",
    "\n",
    "\n",
    "Finding optimal forecast:\n",
    "\n",
    ">[With three components the feasible set is five: the aggregate, full disaggregation and three options where one component is forecasted on its own and the other two together. With four components the possibilities grow to fifteen and with five components to 52.](https://mpra.ub.uni-muenchen.de/81585/1/MPRA_paper_81585.pdf)\n",
    "    \n",
    "    \n",
    "    "
   ]
  },
  {
   "cell_type": "markdown",
   "metadata": {},
   "source": [
    "Данные:\n",
    "\n",
    "- для  eu: \n",
    "    - 3-уровневая: eu28 по странам по a10 (+)\n",
    "    - 2-уровневая: ввп по каждой из стран по a10 (?)\n",
    "    - 2 уровневая: eu28 стран по ввп 28 стран (+)\n",
    "- для rus:\n",
    "    - 3 уровневая: ввп по врп+налоги и прочее по отраслям (-)\n",
    "    - 2 уровневая: только по врп (???????)\n",
    "    - 2 уровневая: только по отраслям (произведенный по оквэд) (+)\n",
    "    - 2 уровневая: только по использованию (+)\n",
    "- для us:\n",
    "    - 3 уровневая: ввп по штатам и отраслям (???)\n",
    "    - 2 уровневая: ввп по штатам (+)\n",
    "    "
   ]
  },
  {
   "cell_type": "markdown",
   "metadata": {},
   "source": [
    "- dm test? between models?\n",
    "- rf forecast 7 with lagged variables?"
   ]
  },
  {
   "cell_type": "code",
   "execution_count": null,
   "metadata": {},
   "outputs": [],
   "source": []
  }
 ],
 "metadata": {
  "kernelspec": {
   "display_name": "Python 3",
   "language": "python",
   "name": "python3"
  },
  "language_info": {
   "codemirror_mode": {
    "name": "ipython",
    "version": 3
   },
   "file_extension": ".py",
   "mimetype": "text/x-python",
   "name": "python",
   "nbconvert_exporter": "python",
   "pygments_lexer": "ipython3",
   "version": "3.6.5"
  }
 },
 "nbformat": 4,
 "nbformat_minor": 2
}
