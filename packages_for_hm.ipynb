{
 "cells": [
  {
   "cell_type": "markdown",
   "metadata": {},
   "source": [
    "## R Packages\n"
   ]
  },
  {
   "cell_type": "markdown",
   "metadata": {},
   "source": [
    "- [ggridges: ](https://cran.r-project.org/web/packages/ggridges/vignettes/gallery.html) Gallery of ggridges examples\n",
    "\n",
    "- [stR](https://cran.r-project.org/web/packages/stR/vignettes/stRvignette.html): [A Seasonal-Trend\n",
    "Decomposition Procedure Based\n",
    "on Regression](https://robjhyndman.com/papers/wp13-15.pdf)"
   ]
  },
  {
   "cell_type": "markdown",
   "metadata": {},
   "source": [
    "### ML"
   ]
  },
  {
   "cell_type": "markdown",
   "metadata": {},
   "source": [
    "#### Clustering\n",
    "\n",
    "- [dtwclust](https://cran.r-project.org/web/packages/dtwclust/dtwclust.pdf): time series clustering along with optimizations for the dynamic time warping distance.\n",
    "Time series clustering along with optimized techniques related\n",
    "to the Dynamic Time Warping distance and its corresponding lower bounds.\n",
    "Implementations of partitional, hierarchical, fuzzy, k-Shape and TADPole\n",
    "clustering are available. \n",
    "\n",
    "- [WeightedCluster](https://cran.r-project.org/web/packages/WeightedCluster/WeightedCluster.pdf): Clusters state sequences and weighted data. It provides an optimized weighted PAM algorithm\n",
    "as well as functions for aggregating replicated cases, computing cluster quality measures\n",
    "for a range of clustering solutions and plotting clusters of state sequences.\n",
    "\n",
    "- [diana](https://www.rdocumentation.org/packages/cluster/versions/2.0.7-1/topics/diana)  from cluster: DIvisive ANAlysis Clustering.\n",
    "Computes a divisive hierarchical clustering of the dataset returning an object of class diana."
   ]
  },
  {
   "cell_type": "markdown",
   "metadata": {},
   "source": [
    "### Metrics"
   ]
  },
  {
   "cell_type": "markdown",
   "metadata": {},
   "source": [
    "#### Grouped TS\n",
    "\n",
    "- [hts](https://cran.r-project.org/web/packages/hts/vignettes/hts.pdf): An R Package for Forecasting Hierarchical or Grouped Time Series\n",
    "\n",
    "- [GeomComb](https://cran.r-project.org/web/packages/GeomComb/GeomComb.pdf):\n",
    "Provides eigenvector-based (geometric) forecast\n",
    "combination methods; also includes simple approaches (simple average,\n",
    "median, trimmed and winsorized mean, inverse rank method) and regression-based\n",
    "combination. Tools for data pre-processing are available in order to deal with\n",
    "common problems in forecast combination (missingness, collinearity).\n",
    "\n",
    "- [lme4](https://cran.r-project.org/web/packages/lme4/index.html): Fit linear and generalized linear mixed-effects models. The models and their components are represented using S4 classes and methods. \n",
    "\n",
    "- [nlme](https://cran.r-project.org/web/packages/nlme/index.html): Linear and Nonlinear Mixed Effects Models. For mixed-effects modells of time series - the nlme package, because it offers facilities to model auto-correlation structures, [???](https://stats.stackexchange.com/questions/71087/analysis-of-a-time-series-with-a-fixed-and-random-factor-in-r)\n",
    "\n",
    "\n",
    "Differences between nlme and lme4: \n",
    "- lme4 covers approximately the same ground as the earlier nlme package. The most important differences are: lme4 uses modern, efficient linear algebra methods as implemented in the Eigen package, and uses reference classes to avoid undue copying of large objects; it is therefore likely to be faster and more memory-efficient than nlme.\n",
    "- lme4 includes generalized linear mixed model (GLMM) capabilities, via the glmer function. \n",
    "- lme4 does not currently offer the same flexibility as nlme for composing complex variancecovariance structures, but it does implement crossed random effects in a way that is both easier for the user and much faster.\n",
    "- lme4 offers built-in facilities for likelihood profiling and parametric bootstrapping.\n",
    "\n"
   ]
  },
  {
   "cell_type": "markdown",
   "metadata": {},
   "source": [
    "#### DLM"
   ]
  },
  {
   "cell_type": "markdown",
   "metadata": {},
   "source": [
    "- [dlmodeler](http://www2.uaem.mx/r-mirror/web/packages/dlmodeler/dlmodeler.pdf): dlmodeler is a set of user-friendly functions to simplify\n",
    "the state-space modelling, fitting, analysis and forecasting of\n",
    "Generalized Dynamic Linear Models (DLMs). It includes functions\n",
    "to name and extract individual components of a DLM, build classical seasonal timeseries models (monthly, quarterly,yearly, etc. with calendar adjustments) and provides a unified\n",
    "interface compatible with other state-space packages including: dlm, FKF and KFAS.\n",
    "\n",
    "- [dlm](https://cran.r-project.org/web/packages/dlm/dlm.pdf): [pdf](https://cran.r-project.org/web/packages/dlm/vignettes/dlm.pdf), [guide](https://stats.stackexchange.com/questions/8055/how-to-use-dlm-with-kalman-filtering-for-forecasting). Provides routines for Maximum likelihood,\n",
    "Kalman filtering and smoothing, and Bayesian\n",
    "analysis of Normal linear State Space models, also known as\n",
    "Dynamic Linear Models.\n",
    "\n",
    "- [bsts](https://cran.r-project.org/web/packages/bsts/bsts.pdf): Time series regression \n",
    "using dynamic linear models fit using MCMC. See Scott and Varian (2014) <DOI:10.1504/IJMMNO.2014.059942>.\n",
    "e.g.: ``aggregate.time.series`` - [aggregate a fine time series to a coarse summary](https://www.rdocumentation.org/packages/bsts/versions/0.8.0/topics/aggregate.time.series),\n",
    "similar to functions from the ``xts`` package, but it can handle aggregation from weeks to months."
   ]
  },
  {
   "cell_type": "markdown",
   "metadata": {},
   "source": [
    "- [MLwiN](https://cran.r-project.org/web/packages/R2MLwiN/R2MLwiN.pdf): [Resources for using MLwiN](http://www.bristol.ac.uk/cmm/software/mlwin/mlwin-resources.html#mlmbkgrd), [r-bloggers tutorial](https://www.r-bloggers.com/working-with-r2mlwin-part-1/), [sample sizes for multilevel models](http://www.bristol.ac.uk/cmm/learning/multilevel-models/samples.html), [MCMC estimation](https://seis.bristol.ac.uk/~frwjb/esrc/mcmc.pdf)"
   ]
  },
  {
   "cell_type": "markdown",
   "metadata": {},
   "source": [
    "- [pyDLM](https://github.com/wwrechard/pydlm): A flexible time series modeling library for python. This library is based on the Bayesian dynamic linear model (Harrison and West, 1999) and optimized for fast model fitting and inference."
   ]
  },
  {
   "cell_type": "markdown",
   "metadata": {},
   "source": [
    "#### Filtering"
   ]
  },
  {
   "cell_type": "markdown",
   "metadata": {},
   "source": [
    "- [KFAS: Kalman Filter and Smoother for Exponential Family State Space Models](https://cran.r-project.org/web/packages/KFAS/index.html). \n",
    "State space modelling is an efficient and flexible framework for statistical inference of a broad class of time series and other data. KFAS includes computationally efficient functions for Kalman filtering, smoothing, forecasting, and simulation of multivariate exponential family state space models, with observations from Gaussian, Poisson, binomial, negative binomial, and gamma distributions."
   ]
  },
  {
   "cell_type": "markdown",
   "metadata": {},
   "source": [
    "#### Bootstrap\n",
    "\n",
    "- [boot](https://cran.r-project.org/web/packages/boot/boot.pdf): Calculate equi-tailed \n",
    "two-sided nonparametric approximate bootstrap confidence intervals for a parameter,\n",
    "given a set of data and an estimator of the parameter, using numerical differentiation.\n",
    "``tsboot`` generate R bootstrap replicates of a statistic applied to a time series. \n",
    "The replicate time series can be generated using fixed or random block lengths \n",
    "or can be model based replicates. [Resampling Methods in R: The boot\n",
    "Package](https://cran.r-project.org/doc/Rnews/Rnews_2002-3.pdf)\n",
    "\n",
    "- [mht](https://cran.r-project.org/web/packages/mht/mht.pdf): multiple Hypothesis Testing For Variable Selection in high dimensional linear models, [bolasso](https://www.di.ens.fr/~fbach/fbach_bolasso_icml2008.pdf)\n",
    "\n",
    "- [bayesboot](https://cran.r-project.org/web/packages/bayesboot/bayesboot.pdf): an Implementation of [Rubin's (1981) Bayesian Bootstrap](https://projecteuclid.org/download/pdf_1/euclid.aos/1176345338), \n",
    "\n",
    "\n",
    "- [meboot](https://cran.r-project.org/web/packages/meboot/meboot.pdf): Maximum entropy density based dependent data bootstrap.\n",
    "An algorithm is provided to create a population of time series (ensemble)\n",
    "without assuming stationarity. The reference paper (Vinod, H.D., 2004) explains\n",
    "how the algorithm satisfies the ergodic theorem and the central limit theorem.[Maximum Entropy Bootstrap for Time Series](https://cran.r-project.org/web/packages/meboot/vignettes/meboot.pdf)\n",
    "\n",
    "- [entropy](https://cran.r-project.org/web/packages/entropy/entropy.pdf): This package implements various estimators of entropy, such\n",
    "as the shrinkage estimator by Hausser and Strimmer, the maximum likelihood\n",
    "and the Millow-Madow estimator, various Bayesian estimators, and the\n",
    "Chao-Shen estimator. It also offers an R interface to the NSB estimator.\n",
    "Furthermore, it provides functions for estimating Kullback-Leibler divergence,\n",
    "chi-squared, mutual information, and chi-squared statistic of independence.\n",
    "In addition there are functions for discretizing continuous random variables."
   ]
  },
  {
   "cell_type": "markdown",
   "metadata": {},
   "source": [
    "###  [Bayes](https://www.kaggle.com/dhafer/r-tools-for-bayesian-statistics)\n",
    "\n",
    "- [rjags](https://cran.r-project.org/web/packages/rjags/rjags.pdf): The rjags package provides an interface from R to the JAGS library for Bayesian data analysis.  JAGS is Just Another Gibbs Sampler. It is a program for analysis of Bayesian hierarchical models using Markov Chain Monte Carlo (MCMC). \n",
    "JAGS uses Markov Chain Monte Carlo (MCMC) to generate a sequence of dependent samples\n",
    "from the posterior distribution of the parameters.\n",
    "JAGS is a clone of BUGS (Bayesian analysis Using Gibbs Sampling). \n",
    "\n",
    "- [rstanarm](https://cran.r-project.org/web/packages/rstanarm/rstanarm.pdf):  Estimates previously compiled regression models using the 'rstan'\n",
    "package, which provides the R interface to the Stan C++ library for Bayesian\n",
    "estimation. Users specify models via the customary R syntax with a formula and\n",
    "data.frame plus some additional arguments for priors\n",
    "\n",
    "- [shrink](https://cran.r-project.org/web/packages/shrink/shrink.pdf): Baysian shrinkage, The predictive value of a statistical model can often be improved\n",
    "by applying shrinkage methods. This can be achieved, e.g., by regularized\n",
    "regression or empirical Bayes approaches. Various types of shrinkage factors can\n",
    "also be estimated after a maximum likelihood. While global shrinkage modifies\n",
    "all regression coefficients by the same factor, parameterwise shrinkage factors\n",
    "differ between regression coefficients. \n",
    "\n",
    "- [bayesGDS](https://cran.r-project.org/web/packages/bayesGDS/bayesGDS.pdf): Functions for implementing the [Braun and Damien (2015) rejection\n",
    "sampling algorithm](https://www.researchgate.net/publication/260003754_Scalable_Rejection_Sampling_for_Bayesian_Hierarchical_Models) for Bayesian hierarchical models. The algorithm generates\n",
    "posterior samples in parallel, and is scalable when the individual units are\n",
    "conditionally independent. [Estimating Bayesian Hierarchical Models using bayesGDS](https://cran.r-project.org/web/packages/bayesGDS/vignettes/bayesGDS.pdf)\n",
    "\n",
    "- [spBayes](https://cran.r-project.org/web/packages/spBayes/spBayes.pdf): Fits univariate and multivariate spatio-temporal\n",
    "random effects models for point-referenced data using Markov chain Monte Carlo (MCMC)\n",
    "\n"
   ]
  },
  {
   "cell_type": "markdown",
   "metadata": {},
   "source": [
    "\n",
    "#### Empirical Bayes\n"
   ]
  },
  {
   "cell_type": "markdown",
   "metadata": {},
   "source": [
    "\n",
    "- [REBayes](https://cran.r-project.org/web/packages/REBayes/REBayes.pdf) [(vignette):](https://cran.r-project.org/web/packages/REBayes/vignettes/rebayes.pdf)\n",
    "Kiefer-Wolfowitz maximum likelihood estimation for mixture models\n",
    "and some other density estimation and regression methods based on convex\n",
    "optimization. \n",
    "\n",
    "- [‘openEBGM’](https://cran.r-project.org/web/packages/openEBGM/openEBGM.pdf) [(Empirical Bayes Metrics):](https://cran.r-project.org/web/packages/openEBGM/vignettes/x4_posteriorCalculationVignette.html) Bayesian data mining method for the\n",
    "market basket problem. Calculates Empirical Bayes Geometric Mean (EBGM) and\n",
    "quantile scores from the posterior distribution using the Gamma-Poisson\n",
    "Shrinker (GPS) model to find unusually large cell counts in large, sparse\n",
    "contingency tables. Can be used to find unusually high reporting rates of\n",
    "adverse events associated with products.   Now includes an\n",
    "implementation of the EM algorithm for hyperparameter estimation loosely\n",
    "derived from the 'mederrRank' package.\n",
    "\n",
    "- [ebbr: Introducing the ebbr package for empirical Bayes estimation](http://varianceexplained.org/r/ebbr-package/)\n",
    "\n",
    "- [ebayes()](https://www.rdocumentation.org/packages/limma/versions/3.28.14/topics/ebayes): Given a microarray linear model fit, compute moderated t-statistics, moderated F-statistic, and log-odds of differential expression by empirical Bayes moderation of the standard errors towards a common value.\n",
    "\n",
    "\n"
   ]
  },
  {
   "cell_type": "markdown",
   "metadata": {},
   "source": [
    "#### MCMC\n",
    "\n",
    "- [stochvol](https://cran.r-project.org/web/packages/stochvol/stochvol.pdf): Efficient algorithms for fully Bayesian estimation of stochastic volatility (SV) models via Markov chain Monte Carlo (MCMC) methods.\n",
    "\n",
    "- [VLMC](https://cran.r-project.org/web/packages/VLMC/VLMC.pdf):  Functions, Classes & Methods for estimation, prediction, and\n",
    "simulation (bootstrap) of Variable Length Markov Chain ('VLMC') Models. [Dendograms](https://rdrr.io/cran/VLMC/man/as.dendrogram.vlmc.html)\n"
   ]
  },
  {
   "cell_type": "markdown",
   "metadata": {},
   "source": [
    "- [pymc3](https://docs.pymc.io) PyMC3 is a Python package for Bayesian statistical modeling and Probabilistic Machine Learning focusing on advanced Markov chain Monte Carlo (MCMC) and variational inference (VI) algorithms. Its flexibility and extensibility make it applicable to a large suite of problems."
   ]
  },
  {
   "cell_type": "markdown",
   "metadata": {},
   "source": [
    "### Speeding Up\n"
   ]
  },
  {
   "cell_type": "markdown",
   "metadata": {},
   "source": [
    "- [cudaBayesreg](https://www.jstatsoft.org/article/view/v044i04): The statistical model implements a Gibbs sampler for multilevel/hierarchical linear models with a normal prior. The main contribution for the increased performance comes from the use of separate threads for fitting the linear regression model at each voxel in parallel. The R-CUDA implementation of the Bayesian model proposed here has been able to reduce significantly the run-time processing of Markov chain Monte Carlo (MCMC) simulations used in Bayesian fMRI data analyses. Presently, cudaBayesreg is only configured for Linux systems with Nvidia CUDA support. \n",
    "    - [Bayesian Inference and Markov Chain Monte\n",
    "Carlo Algorithms on GPUs](http://on-demand.gputechconf.com/gtc/2017/presentation/s7263-david-draper-bayesian-inference.pdf): MCMC is both inherently sequential and massively parallelizable. [Not well-studied, lots of potential for new results](https://arxiv.org/pdf/1608.04329.pdf)\n",
    "    - [R Packages Fail to Compile with gcc](https://stackoverflow.com/questions/14865976/r-packages-fail-to-compile-with-gcc)\n",
    "    - [Building R Packages using Alternate GCC](https://stackoverflow.com/questions/1616983/building-r-packages-using-alternate-gcc)\n",
    "    \n",
    "- [gpuR](https://cran.r-project.org/web/packages/gpuR/index.html)"
   ]
  },
  {
   "cell_type": "markdown",
   "metadata": {},
   "source": [
    "- [How to speed up R code: an introduction](https://arxiv.org/pdf/1503.00855.pdf)\n",
    "- [OLCF and NICS/RDAV Tutorial: Parallel R and High Performance\n",
    "Computing](https://www.olcf.ornl.gov/wp-content/uploads/2011/07/Lecture3.pdf)\n",
    "- [Getting Started with doParallel and foreach](https://cran.r-project.org/web/packages/doParallel/vignettes/gettingstartedParallel.pdf)"
   ]
  },
  {
   "cell_type": "code",
   "execution_count": null,
   "metadata": {},
   "outputs": [],
   "source": []
  }
 ],
 "metadata": {
  "kernelspec": {
   "display_name": "Python 3",
   "language": "python",
   "name": "python3"
  },
  "language_info": {
   "codemirror_mode": {
    "name": "ipython",
    "version": 3
   },
   "file_extension": ".py",
   "mimetype": "text/x-python",
   "name": "python",
   "nbconvert_exporter": "python",
   "pygments_lexer": "ipython3",
   "version": "3.6.5"
  }
 },
 "nbformat": 4,
 "nbformat_minor": 2
}
