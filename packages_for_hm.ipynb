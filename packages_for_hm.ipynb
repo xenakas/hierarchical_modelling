{
 "cells": [
  {
   "cell_type": "markdown",
   "metadata": {},
   "source": [
    "### R Packages\n"
   ]
  },
  {
   "cell_type": "markdown",
   "metadata": {},
   "source": [
    "#### Clustering\n",
    "\n",
    "- [dtwclust](https://cran.r-project.org/web/packages/dtwclust/dtwclust.pdf): time series clustering along with optimizations for the dynamic time warping distance.\n",
    "Time series clustering along with optimized techniques related\n",
    "to the Dynamic Time Warping distance and its corresponding lower bounds.\n",
    "Implementations of partitional, hierarchical, fuzzy, k-Shape and TADPole\n",
    "clustering are available. \n",
    "\n",
    "- [WeightedCluster](https://cran.r-project.org/web/packages/WeightedCluster/WeightedCluster.pdf): Clusters state sequences and weighted data. It provides an optimized weighted PAM algorithm\n",
    "as well as functions for aggregating replicated cases, computing cluster quality measures\n",
    "for a range of clustering solutions and plotting clusters of state sequences.\n",
    "\n"
   ]
  },
  {
   "cell_type": "markdown",
   "metadata": {},
   "source": [
    "#### Grouped TS\n",
    "\n",
    "- [hts](https://cran.r-project.org/web/packages/hts/vignettes/hts.pdf): An R Package for Forecasting Hierarchical or Grouped Time Series\n",
    "\n",
    "- [GeomComb](https://cran.r-project.org/web/packages/GeomComb/GeomComb.pdf):\n",
    "Provides eigenvector-based (geometric) forecast\n",
    "combination methods; also includes simple approaches (simple average,\n",
    "median, trimmed and winsorized mean, inverse rank method) and regression-based\n",
    "combination. Tools for data pre-processing are available in order to deal with\n",
    "common problems in forecast combination (missingness, collinearity).\n"
   ]
  },
  {
   "cell_type": "markdown",
   "metadata": {},
   "source": [
    "#### Bayes\n",
    "\n",
    "- [rjags](https://cran.r-project.org/web/packages/rjags/rjags.pdf): The rjags package provides an interface from R to the JAGS library for Bayesian data analysis.  JAGS is Just Another Gibbs Sampler. It is a program for analysis of Bayesian hierarchical models using Markov Chain Monte Carlo (MCMC). \n",
    "JAGS uses Markov Chain Monte Carlo (MCMC) to generate a sequence of dependent samples\n",
    "from the posterior distribution of the parameters.\n",
    "JAGS is a clone of BUGS (Bayesian analysis Using Gibbs Sampling). \n",
    "\n",
    "- [rstanarm](https://cran.r-project.org/web/packages/rstanarm/rstanarm.pdf):  Estimates previously compiled regression models using the 'rstan'\n",
    "package, which provides the R interface to the Stan C++ library for Bayesian\n",
    "estimation. Users specify models via the customary R syntax with a formula and\n",
    "data.frame plus some additional arguments for priors\n",
    "\n",
    "- [shrink](https://cran.r-project.org/web/packages/shrink/shrink.pdf): Baysian shrinkage, The predictive value of a statistical model can often be improved\n",
    "by applying shrinkage methods. This can be achieved, e.g., by regularized\n",
    "regression or empirical Bayes approaches. Various types of shrinkage factors can\n",
    "also be estimated after a maximum likelihood. While global shrinkage modifies\n",
    "all regression coefficients by the same factor, parameterwise shrinkage factors\n",
    "differ between regression coefficients. \n",
    "\n",
    "- [bayesGDS](https://cran.r-project.org/web/packages/bayesGDS/bayesGDS.pdf): Functions for implementing the [Braun and Damien (2015) rejection\n",
    "sampling algorithm](https://www.researchgate.net/publication/260003754_Scalable_Rejection_Sampling_for_Bayesian_Hierarchical_Models) for Bayesian hierarchical models. The algorithm generates\n",
    "posterior samples in parallel, and is scalable when the individual units are\n",
    "conditionally independent. [Estimating Bayesian Hierarchical Models using bayesGDS](https://cran.r-project.org/web/packages/bayesGDS/vignettes/bayesGDS.pdf)\n"
   ]
  },
  {
   "cell_type": "markdown",
   "metadata": {},
   "source": [
    "#### MCMC\n",
    "\n",
    "- [stochvol](https://cran.r-project.org/web/packages/stochvol/stochvol.pdf): Efficient algorithms for fully Bayesian estimation of stochastic volatility (SV) models via Markov chain Monte Carlo (MCMC) methods.\n",
    "\n",
    "- [VLMC](https://cran.r-project.org/web/packages/VLMC/VLMC.pdf):  Functions, Classes & Methods for estimation, prediction, and\n",
    "simulation (bootstrap) of Variable Length Markov Chain ('VLMC') Models. [Dendograms](https://rdrr.io/cran/VLMC/man/as.dendrogram.vlmc.html)\n"
   ]
  },
  {
   "cell_type": "markdown",
   "metadata": {},
   "source": [
    "#### DLM\n",
    "\n",
    "- [bsts](https://cran.r-project.org/web/packages/bsts/bsts.pdf): Time series regression \n",
    "using dynamic linear models fit using MCMC. See Scott and Varian (2014) <DOI:10.1504/IJMMNO.2014.059942>.\n",
    "e.g.: ``aggregate.time.series`` - [aggregate a fine time series to a coarse summary](https://www.rdocumentation.org/packages/bsts/versions/0.8.0/topics/aggregate.time.series),\n",
    "similar to functions from the ``xts`` package, but it can handle aggregation from weeks to months."
   ]
  },
  {
   "cell_type": "markdown",
   "metadata": {},
   "source": [
    "#### Bootstrap\n",
    "\n",
    "- [boot](https://cran.r-project.org/web/packages/boot/boot.pdf): Calculate equi-tailed \n",
    "two-sided nonparametric approximate bootstrap confidence intervals for a parameter,\n",
    "given a set of data and an estimator of the parameter, using numerical differentiation.\n",
    "``tsboot`` generate R bootstrap replicates of a statistic applied to a time series. \n",
    "The replicate time series can be generated using fixed or random block lengths \n",
    "or can be model based replicates.\n",
    "\n",
    "- [mht](https://cran.r-project.org/web/packages/mht/mht.pdf): multiple Hypothesis Testing For Variable Selection in high dimensional linear models, [bolasso](https://www.di.ens.fr/~fbach/fbach_bolasso_icml2008.pdf)\n",
    "\n",
    "- [bayesboot](https://cran.r-project.org/web/packages/bayesboot/bayesboot.pdf): an Implementation of [Rubin's (1981) Bayesian Bootstrap](https://projecteuclid.org/download/pdf_1/euclid.aos/1176345338), \n",
    "\n",
    "\n",
    "- [meboot](https://cran.r-project.org/web/packages/meboot/meboot.pdf): Maximum entropy density based dependent data bootstrap.\n",
    "An algorithm is provided to create a population of time series (ensemble)\n",
    "without assuming stationarity. The reference paper (Vinod, H.D., 2004) explains\n",
    "how the algorithm satisfies the ergodic theorem and the central limit theorem.[Maximum Entropy Bootstrap for Time Series](https://cran.r-project.org/web/packages/meboot/vignettes/meboot.pdf)\n",
    "\n",
    "- [entropy](https://cran.r-project.org/web/packages/entropy/entropy.pdf): This package implements various estimators of entropy, such\n",
    "as the shrinkage estimator by Hausser and Strimmer, the maximum likelihood\n",
    "and the Millow-Madow estimator, various Bayesian estimators, and the\n",
    "Chao-Shen estimator. It also offers an R interface to the NSB estimator.\n",
    "Furthermore, it provides functions for estimating Kullback-Leibler divergence,\n",
    "chi-squared, mutual information, and chi-squared statistic of independence.\n",
    "In addition there are functions for discretizing continuous random variables."
   ]
  },
  {
   "cell_type": "markdown",
   "metadata": {},
   "source": [
    "- [MLwiN](https://cran.r-project.org/web/packages/R2MLwiN/R2MLwiN.pdf): [Resources for using MLwiN](http://www.bristol.ac.uk/cmm/software/mlwin/mlwin-resources.html#mlmbkgrd), [r-bloggers tutorial](https://www.r-bloggers.com/working-with-r2mlwin-part-1/), [sample sizes for multilevel models](http://www.bristol.ac.uk/cmm/learning/multilevel-models/samples.html), [MCMC estimation](https://seis.bristol.ac.uk/~frwjb/esrc/mcmc.pdf)"
   ]
  },
  {
   "cell_type": "markdown",
   "metadata": {},
   "source": [
    "### Python Packages: \n",
    "\n",
    "- [pymc3](https://docs.pymc.io) PyMC3 is a Python package for Bayesian statistical modeling and Probabilistic Machine Learning focusing on advanced Markov chain Monte Carlo (MCMC) and variational inference (VI) algorithms. Its flexibility and extensibility make it applicable to a large suite of problems."
   ]
  }
 ],
 "metadata": {
  "kernelspec": {
   "display_name": "Python 3",
   "language": "python",
   "name": "python3"
  },
  "language_info": {
   "codemirror_mode": {
    "name": "ipython",
    "version": 3
   },
   "file_extension": ".py",
   "mimetype": "text/x-python",
   "name": "python",
   "nbconvert_exporter": "python",
   "pygments_lexer": "ipython3",
   "version": "3.6.5"
  }
 },
 "nbformat": 4,
 "nbformat_minor": 2
}
