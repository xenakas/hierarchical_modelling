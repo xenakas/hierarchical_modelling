{
 "cells": [
  {
   "cell_type": "code",
   "execution_count": 2,
   "metadata": {
    "ExecuteTime": {
     "end_time": "2019-08-08T12:58:46.363632Z",
     "start_time": "2019-08-08T12:58:46.345Z"
    }
   },
   "outputs": [],
   "source": [
    "library(forecast)\n",
    "library(ggplot2)\n",
    "library(dplyr)\n",
    "library(gridExtra)"
   ]
  },
  {
   "cell_type": "code",
   "execution_count": null,
   "metadata": {
    "ExecuteTime": {
     "end_time": "2019-08-08T12:31:08.541972Z",
     "start_time": "2019-08-08T12:31:08.007Z"
    }
   },
   "outputs": [],
   "source": [
    "params  <- readRDS(\"df_params.rds\")\n",
    "gdp_agg <- df_eu_sums <-  rowSums(df_eu)\n",
    "train_end_year  <-  2016\n",
    "test_start_year  <-  2017\n",
    "var_window  <-  48\n",
    "var_cv_low   <- 48\n",
    "var_cv_high   <- 67\n",
    "var_iter <- (length(gdp_agg) + var_topup)/var_freq - (var_window + 1)/var_freq - \n",
    "    2\n",
    "train <- window(gdp_agg, end = c(train_end_year, var_freq))\n",
    "test <- window(gdp_agg, start = c(test_start_year, 1))"
   ]
  },
  {
   "cell_type": "code",
   "execution_count": 3,
   "metadata": {
    "ExecuteTime": {
     "end_time": "2019-08-08T12:58:49.039711Z",
     "start_time": "2019-08-08T12:58:48.984Z"
    }
   },
   "outputs": [],
   "source": [
    "df_eu <- read.csv(file = \"data_hts/hts_eu_a10.csv\", header = TRUE, sep = \",\", row.names = 1)\n",
    "df_eu <- df_eu/1000\n",
    "var_topup <- 1\n",
    "var_freq <- 4\n",
    "var_window <- 48 - 1\n",
    "var_start_year <- 2000\n",
    "var_h <- 8\n",
    "\n",
    "var_arpdq   <-  c(2,0,0)\n",
    "var_sarpdq   <-  c(1,0,0)\n",
    "var_drift   <-  TRUE\n",
    "var_constant   <-  TRUE\n",
    "\n"
   ]
  },
  {
   "cell_type": "code",
   "execution_count": 9,
   "metadata": {
    "ExecuteTime": {
     "end_time": "2019-08-08T13:01:03.637623Z",
     "start_time": "2019-08-08T13:01:03.294Z"
    }
   },
   "outputs": [],
   "source": [
    "gdp_agg  <- ts(rowSums(df_eu), frequency = var_freq, start = var_start_year) \n",
    "var_iter <- (dim(df_eu)[1] + var_topup)/var_freq - (var_window + 1)/var_freq - 2\n",
    "\n",
    "ac <- list()\n",
    "\n",
    "for (i in 0:(var_iter * var_freq - var_topup)) {\n",
    "    st_year <- var_start_year + i/var_freq\n",
    "    train_start <- st_year\n",
    "    train_end <- st_year + 1/var_freq * (var_window)\n",
    "    test_start <- st_year + 1/var_freq * (var_window + 1)\n",
    "    test_end <- st_year + 1/var_freq * (var_window + var_h)\n",
    "    \n",
    "    if (i == 0) {\n",
    "        train <- window(gdp_agg, end = train_end)\n",
    "    } else {\n",
    "        train <- window(gdp_agg, start = train_start, end = train_end)\n",
    "    }\n",
    "    \n",
    "    if (i == var_iter * var_freq) {\n",
    "        # test <- window(gdp_agg, start=test_start-1/var_freq)\n",
    "        break\n",
    "    } else {\n",
    "        test <- window(gdp_agg, start = test_start, end = test_end)\n",
    "    }\n",
    "    \n",
    "    gdp_arima <- tryCatch(forecast(Arima(msts(train, seasonal.periods = var_freq), \n",
    "        order = var_arpdq, seasonal = var_sarpdq, include.drift = var_drift, include.mean = var_constant, \n",
    "        method = \"ML\"), h = 8), error = function(e) forecast(Arima(msts(train, seasonal.periods = var_freq), \n",
    "        order = var_arpdq, seasonal = var_sarpdq, include.drift = var_drift, include.mean = var_constant, \n",
    "        method = \"CSS\"), h = 8))\n",
    "    \n",
    "    ac[[i + 1]] <- accuracy(gdp_arima, test)\n",
    "    \n",
    "}"
   ]
  },
  {
   "cell_type": "code",
   "execution_count": 11,
   "metadata": {
    "ExecuteTime": {
     "end_time": "2019-08-08T13:08:14.822799Z",
     "start_time": "2019-08-08T13:08:14.770Z"
    }
   },
   "outputs": [],
   "source": [
    "var_acc_metrics <- c(1, 2, 5)\n",
    "cn <- colnames(ac[[1]])[var_acc_metrics]\n",
    "\n",
    "ac_list <- list()\n",
    "k = 0\n",
    "df_acc <- data.frame(matrix(ncol = 2 * length(var_acc_metrics), nrow = length(ac)))\n",
    "colnames(df_acc) <- colnames(ac[[1]])[var_acc_metrics]\n",
    "df_acc <- cbind(df_acc, seq(1, length(ac)))\n",
    "for (i in var_acc_metrics) {\n",
    "    k = k + 1\n",
    "    for (j in 1:length(ac)) {\n",
    "        for (l in 1:2) {\n",
    "            m = k + (l - 1) * 3\n",
    "            if (l == 1) {\n",
    "                colnames(df_acc)[m] <- paste(cn[k], \"train\", sep = \"_\")\n",
    "            } else {\n",
    "                colnames(df_acc)[m] <- paste(cn[k], \"test\", sep = \"_\")\n",
    "            }\n",
    "            df_acc[j, m] <- ac[[j]][l, i]\n",
    "        }\n",
    "    }\n",
    "}\n",
    "\n",
    "colnames(df_acc)[2*length(var_acc_metrics)+1]  <-  'Iteration'"
   ]
  },
  {
   "cell_type": "code",
   "execution_count": 13,
   "metadata": {
    "ExecuteTime": {
     "end_time": "2019-08-08T13:09:11.850689Z",
     "start_time": "2019-08-08T13:09:11.812Z"
    }
   },
   "outputs": [],
   "source": [
    "plots_test_not_all <- list()\n",
    "\n",
    "var_not_all <- c(df_acc$Iteration[c(T, rep(F, var_freq - 1))], df_acc$Iteration[length(df_acc$Iteration)])\n",
    "\n",
    "var_col_test <- \"red\"\n",
    "# var_col_train <- 'red'\n",
    "\n",
    "for (i in 1:3) {\n",
    "    \n",
    "    k = i + 0\n",
    "    \n",
    "    if (i == 1) {\n",
    "        \n",
    "        plots_test_not_all[[k]] <- ggplot(data = df_acc[var_not_all, ], aes(x = Iteration, \n",
    "            y = ME_test)) + geom_line(colour = var_col_test) + labs(title = \" \") + \n",
    "            theme(aspect.ratio = 1) + labs(y = \"ME\", x = \"Шаг\")\n",
    "    } else if (i == 2) {\n",
    "        plots_test_not_all[[k]] <- ggplot(data = df_acc[var_not_all, ], aes(x = Iteration, \n",
    "            y = RMSE_test)) + geom_line(colour = var_col_test) + theme(aspect.ratio = 1) + \n",
    "            labs(y = \"RMSE\", x = \"Шаг\") + labs(title = \"Квартальные\") + \n",
    "            theme(plot.title = element_text(hjust = 0.5))\n",
    "    } else if (i == 3) {\n",
    "        plots_test_not_all[[k]] <- ggplot(data = df_acc[var_not_all, ], aes(x = Iteration, \n",
    "            y = MAPE_test)) + geom_line(colour = var_col_test) + labs(title = \" \") + \n",
    "            theme(aspect.ratio = 1) + labs(y = \"MAPE\", x = \"Шаг\")\n",
    "    }\n",
    "}"
   ]
  },
  {
   "cell_type": "code",
   "execution_count": 14,
   "metadata": {
    "ExecuteTime": {
     "end_time": "2019-08-08T13:09:24.531060Z",
     "start_time": "2019-08-08T13:09:24.082Z"
    }
   },
   "outputs": [
    {
     "data": {
      "image/png": "[encoded data removed]",
      "text/plain": [
       "plot without title"
      ]
     },
     "metadata": {},
     "output_type": "display_data"
    }
   ],
   "source": [
    "grid.arrange(grobs = plots_test_not_all, ncol = 3)"
   ]
  },
  {
   "cell_type": "code",
   "execution_count": null,
   "metadata": {},
   "outputs": [],
   "source": []
  }
 ],
 "metadata": {
  "hide_input": false,
  "kernelspec": {
   "display_name": "R 3.5.1",
   "language": "R",
   "name": "ir"
  },
  "language_info": {
   "codemirror_mode": "r",
   "file_extension": ".r",
   "mimetype": "text/x-r-source",
   "name": "R",
   "pygments_lexer": "r",
   "version": "3.6.1"
  },
  "latex_envs": {
   "LaTeX_envs_menu_present": true,
   "autoclose": true,
   "autocomplete": true,
   "bibliofile": "biblio.bib",
   "cite_by": "apalike",
   "current_citInitial": 1,
   "eqLabelWithNumbers": true,
   "eqNumInitial": 1,
   "hotkeys": {
    "equation": "Ctrl-E",
    "itemize": "Ctrl-I"
   },
   "labels_anchors": false,
   "latex_user_defs": false,
   "report_style_numbering": false,
   "user_envs_cfg": false
  },
  "toc": {
   "base_numbering": 1,
   "nav_menu": {},
   "number_sections": true,
   "sideBar": true,
   "skip_h1_title": false,
   "title_cell": "Table of Contents",
   "title_sidebar": "Contents",
   "toc_cell": false,
   "toc_position": {},
   "toc_section_display": true,
   "toc_window_display": false
  },
  "varInspector": {
   "cols": {
    "lenName": 16,
    "lenType": 16,
    "lenVar": 40
   },
   "kernels_config": {
    "python": {
     "delete_cmd_postfix": "",
     "delete_cmd_prefix": "del ",
     "library": "var_list.py",
     "varRefreshCmd": "print(var_dic_list())"
    },
    "r": {
     "delete_cmd_postfix": ") ",
     "delete_cmd_prefix": "rm(",
     "library": "var_list.r",
     "varRefreshCmd": "cat(var_dic_list()) "
    }
   },
   "types_to_exclude": [
    "module",
    "function",
    "builtin_function_or_method",
    "instance",
    "_Feature"
   ],
   "window_display": false
  }
 },
 "nbformat": 4,
 "nbformat_minor": 2
}
