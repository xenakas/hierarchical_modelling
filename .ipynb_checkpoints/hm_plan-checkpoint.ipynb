{
 "cells": [
  {
   "cell_type": "markdown",
   "metadata": {},
   "source": [
    "### Планы-планы"
   ]
  },
  {
   "cell_type": "markdown",
   "metadata": {},
   "source": [
    "- hts: [pdf](https://cran.r-project.org/web/packages/hts/vignettes/hts.pdf)\n",
    "\n",
    "- [dtwclust](https://cran.r-project.org/web/packages/dtwclust/dtwclust.pdf): [pdf](https://cran.r-project.org/web/packages/dtwclust/vignettes/dtwclust.pdf), [git](https://github.com/asardaes/dtwclust), [examples](http://www.imsbio.co.jp/RGM-files/R_CC/download/dtwclust/inst/dtwclust-examples.R)\n",
    "\n",
    "- [Forecasting of Time Series’ Groups with\n",
    "Application of Fuzzy c-Mean Algorithm](http://www.m-hikari.com/ces/ces2015/ces33-36-2015/p/nikulchevCES33-36-2015.pdf)\n",
    "\n",
    "- [tsboot](https://stat.ethz.ch/R-manual/R-patched/library/boot/html/tsboot.html), [arima.boot](https://rdrr.io/cran/TSA/man/arima.boot.html)"
   ]
  },
  {
   "cell_type": "markdown",
   "metadata": {},
   "source": [
    "#### Модель 0: RW with drift\n",
    "\n",
    "The random walk with drift model is\n",
    "\n",
    "$$Y_t=c + Y_{t-1} + Z_t$$\n",
    "\n",
    "``rwf(y, h, drift=TRUE)``\n",
    "\n",
    "? a seasonal random walk (i.e., the observation from one year back)"
   ]
  },
  {
   "cell_type": "markdown",
   "metadata": {},
   "source": [
    "#### Модель 00: Theta\n",
    "\n",
    "``library(foreast)``\n",
    "\n",
    "Equivalent to simple exponential smoothing with drift \n",
    "\n",
    "$\\sim$ ETS(AAdN)\n",
    "\n",
    "- [Unmasking the Theta method](https://robjhyndman.com/papers/Theta.pdf)\n",
    "\n",
    "- [The theta model: a decomposition approach to forecasting](https://www.sciencedirect.com/science/article/pii/S0169207000000662)"
   ]
  },
  {
   "cell_type": "markdown",
   "metadata": {},
   "source": [
    "#### Модель 2: RF\n",
    "\n",
    "Пара-тройка регрессоров:\n",
    "\n",
    "- лаг [-1] \n",
    "- лаг сезонный [-1] для eu/us\n",
    "- близкие ряды \n",
    "- прочие?"
   ]
  },
  {
   "cell_type": "markdown",
   "metadata": {},
   "source": [
    "#### Модель 3: лучшие предикторы - близкие ряды?\n",
    "\n"
   ]
  },
  {
   "cell_type": "markdown",
   "metadata": {},
   "source": [
    "### EU & US"
   ]
  },
  {
   "cell_type": "markdown",
   "metadata": {},
   "source": [
    "#### Модель 4: bvarr/BMR"
   ]
  },
  {
   "cell_type": "markdown",
   "metadata": {},
   "source": [
    "- [bvarr](https://github.com/bdemeshev/bvarr), [bvarrKK](https://github.com/bdemeshev/bvarrKK), [bvar_om](https://github.com/bdemeshev/bvar_om)\n",
    "\n",
    "- [BMR: documantation](https://www.kthohr.com/bmr.html), [pdf](https://www.kthohr.com/bmr/BMR.pdf)\n",
    "\n",
    "- https://github.com/joergrieger/bvar\n",
    "\n",
    "- [bvarsv](https://cran.r-project.org/web/packages/bvarsv/bvarsv.pdf)\n",
    "\n",
    "- [MSBVAR: Markov-switching Bayesian VAR](https://cran.r-project.org/package=MSBVAR)\n"
   ]
  },
  {
   "cell_type": "markdown",
   "metadata": {},
   "source": [
    "#### Модель 5: VAR"
   ]
  },
  {
   "cell_type": "markdown",
   "metadata": {},
   "source": [
    "\n",
    "R: there is a package called \"vars\" which deals with VAR models.\n",
    "\n",
    "Python: PyFlux has support for VARs and Bayesian VARs."
   ]
  },
  {
   "cell_type": "markdown",
   "metadata": {},
   "source": [
    "### Offtop"
   ]
  },
  {
   "cell_type": "markdown",
   "metadata": {},
   "source": [
    "#### Модель 6: LSTM"
   ]
  },
  {
   "cell_type": "markdown",
   "metadata": {},
   "source": [
    "### Проверка\n",
    "\n",
    "- [RMSFE](https://otexts.com/fpp2/accuracy.html) \n",
    "- [Methods used in M3](https://www.sciencedirect.com/science/article/pii/S0169207006000239)\n",
    "- [Regression and time series model selection in small samples](https://www.stat.berkeley.edu/~binyu/summer08/Hurvich.AICc.pdf): KL information\n",
    "\n",
    "\n",
    "10% наблюдений\n",
    "\n",
    "- rus: прогноз на 1/2 \n",
    "- eu/us: прогноз на 4/8"
   ]
  },
  {
   "cell_type": "markdown",
   "metadata": {},
   "source": [
    "- eu - каждое 4, зависимость точности вычислений и метода для рядов разной длины?"
   ]
  }
 ],
 "metadata": {
  "kernelspec": {
   "display_name": "Python 3",
   "language": "python",
   "name": "python3"
  },
  "language_info": {
   "codemirror_mode": {
    "name": "ipython",
    "version": 3
   },
   "file_extension": ".py",
   "mimetype": "text/x-python",
   "name": "python",
   "nbconvert_exporter": "python",
   "pygments_lexer": "ipython3",
   "version": "3.6.5"
  }
 },
 "nbformat": 4,
 "nbformat_minor": 2
}
