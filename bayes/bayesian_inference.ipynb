{
 "cells": [
  {
   "cell_type": "markdown",
   "metadata": {},
   "source": [
    "# [Bayesian Inference](http://pages.stat.wisc.edu/~larget/stat302/bayes.pdf)\n",
    "  "
   ]
  },
  {
   "cell_type": "markdown",
   "metadata": {},
   "source": [
    "###  Prior and Posterior Distributions, Likelihood"
   ]
  },
  {
   "cell_type": "markdown",
   "metadata": {},
   "source": [
    "Before seeing data, the prior distribution of an unknown parameter θ is described by a\n",
    "probability density (or mass function, if discrete)  $f(\\theta)$  The Bayesian approach connects\n",
    "data and parameter through the likelihood function, $f(x \\mid \\theta)$ . The function where x is fixed as the data and the parameter $\\theta$ is what varies\n",
    "is called the likelihood. Parameter values where the likelihood is high are those that have\n",
    "a high probability of producing the observed data.   In the maximum likelihood approach to\n",
    "statistics, the best estimate of the value $\\hat{\\theta}$ that maximizes the likelihood (and log-likelihood)\n",
    "function.\n",
    "\n",
    " All Bayesian inference is based on evaluation of the posterior distribution: \n",
    " $$f(\\theta \\mid x) = \\dfrac{f(x \\mid \\theta)f(\\theta)}{f(x)}$$\n",
    " where $f(x) = \\int f(x \\mid \\theta)f(\\theta) d \\theta $ is the marginal likelihood f(x), which is the probability\n",
    "of observing the data $x$ averaged across the entire parameter space.\n"
   ]
  },
  {
   "cell_type": "markdown",
   "metadata": {},
   "source": []
  },
  {
   "cell_type": "markdown",
   "metadata": {},
   "source": []
  },
  {
   "cell_type": "markdown",
   "metadata": {},
   "source": []
  },
  {
   "cell_type": "markdown",
   "metadata": {},
   "source": []
  },
  {
   "cell_type": "markdown",
   "metadata": {},
   "source": []
  },
  {
   "cell_type": "markdown",
   "metadata": {},
   "source": []
  }
 ],
 "metadata": {
  "kernelspec": {
   "display_name": "Python 3",
   "language": "python",
   "name": "python3"
  },
  "language_info": {
   "codemirror_mode": {
    "name": "ipython",
    "version": 3
   },
   "file_extension": ".py",
   "mimetype": "text/x-python",
   "name": "python",
   "nbconvert_exporter": "python",
   "pygments_lexer": "ipython3",
   "version": "3.6.5"
  }
 },
 "nbformat": 4,
 "nbformat_minor": 2
}
