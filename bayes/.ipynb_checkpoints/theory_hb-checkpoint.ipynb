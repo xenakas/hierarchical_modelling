{
 "cells": [
  {
   "cell_type": "markdown",
   "metadata": {},
   "source": [
    "# [Hierarchical Bayes](https://www2.isye.gatech.edu/~brani/isyebayes/bank/handout8.pdf)"
   ]
  },
  {
   "cell_type": "markdown",
   "metadata": {},
   "source": [
    "### Hierarchical Bayesian Analysis"
   ]
  },
  {
   "cell_type": "markdown",
   "metadata": {},
   "source": [
    "Hierarchical Bayesian Analysis is a convenient representation of a Bayesian model, in particular the prior\n",
    "$\\pi$, via a conditional hierarchy of so called hyper-priors $\\pi_1, \\dots, \\pi_{n+1}$,\n",
    "$$ \\pi(\\theta) = \\int \\pi_1(\\theta|\\theta_1) \\pi_2(\\theta_1|\\theta_2) \\dots  \\pi_n(\\theta_{n-1}|\\theta_n)\\pi_{n+1}(\\theta_n) d\\theta_1d\\theta_2 \\dots d\\theta_n$$ \n",
    "\n",
    "Operationally, the model: \n",
    "$$[x|\\theta] \\sim f(x|\\theta)$$ $$[\\theta|\\theta_1]  \\sim \\pi_1(\\theta|\\theta_1) $$ $$ [\\theta_{n−1}|\\theta_n]  \\sim \\pi_n(\\theta|\\theta_1)$$ $$ [\\theta_n] \\sim \\pi_{n+1}(\\theta_n)$$ \n",
    "is equivalent to the model\n",
    "$$[x|\\theta] \\sim f(x|\\theta), [\\theta] \\sim \\pi(\\theta)$$ \n",
    "as the inference on θ is concerned. \n",
    "\n",
    "Notice that in the hierarchy of data, parameters and hyperparameters,\n",
    "$X$ and $\\theta_i$ are independent, given $\\theta$: $ X \\to  \\theta \\to \\theta_1 \\to \\dots \\to \\theta_n$\n",
    "\n",
    "That means, $$[X|\\theta, \\theta_1, \\dots ] \\overset{\\mathrm{d}}{=}  [X|\\theta], [\\theta_i|\\theta, X] \\overset{\\mathrm{d}}{=} [\\theta_i\n",
    "|\\theta] $$ \n",
    "the joint distribution  which by definition is\n",
    "$$[X, \\theta, \\theta_1, \\dots, \\theta_n] = [X|\\theta, \\theta_1, \\dots, \\theta_n] [\\theta|\\theta_1, \\dots , \\theta_n] [\\theta_1|\\theta_2, \\dots, \\theta_n] \\dots [\\theta_{n−1}|\\theta_n] [\\theta_n] = [X|\\theta][\\theta|\\theta_1] [\\theta_1|\\theta_2] \\dots [\\theta_{n−1}|\\theta_n] [\\theta_n]$$\n",
    "thus, to fully specify the model, only “neighbouring” conditionals and\n",
    "the “closure” distribution $[\\theta_n]$ are needed."
   ]
  },
  {
   "cell_type": "markdown",
   "metadata": {},
   "source": [
    "Hierarchical Bayes and Empirical Bayes are related by their goals, but quite different by the methods of how\n",
    "these goals are achieved. The attribute hierarchical refers mostly to the modeling strategy, while empirical\n",
    "is referring to the methodology. Both methods are concerned in specifying the distribution at prior level, hierarchical via Bayes inference involving additional degrees of hierarchy (hyperpriors and hyperparameters),\n",
    "while empirical Bayes is using data more directly.\n",
    "\n",
    "Why then decompose the prior:\n",
    "- Modeling requirements may lead to the hierarchy in the prior. For example Bayesian models in meta\n",
    "analysis;\n",
    "- The prior information may be separated into the structural part and the subjective/noninformative part\n",
    "at higher level of hierarchy;\n",
    "- Robustness and objectiveness – “let the data talk about the hyperparameters;”\n",
    "- Calculational issues (utilizing hidden mixtures, mixture priors, missing data, MCMC format).\n",
    "\n",
    "Suppose the hierarchical model is given as $[X|θ] ∼ f(x|θ), [θ|θ_1] ∼ π_1(θ|θ_1)$, and $[θ_1] ∼ π_2(θ_1)$, then\n",
    "the pe posterior distribution can be written as\n",
    "$$π(θ|x) = \\int_{\\Theta_1} π(θ|x, θ_1)π(θ_1|x)dθ_1$$\n",
    "\n",
    "The densities under the integral are $π(θ|x, θ_1) = \\frac{f(x|θ)π_1(θ|θ_1)}{m_1(x|θ_1)}$, and $π(θ_1|x) = \\frac{m_1(x|θ_1)π_2(θ_1)}{m(x)}$, where\n",
    "$m_1(x|θ_1) = \\int_\\Theta f(x|θ)π_1(θ|θ_1)dθ$ is the marginal likelihood, and $m(x) = \\int_{\\Theta_1} m_1(x|θ_1)π_2(θ_1)dθ_1$\n",
    "marginal.\n",
    "\n",
    "Now, for any function of the parameter $h$,\n",
    "$$E^{θ|x}h(θ) = E^{θ_1|x}[E^{θ|θ_1,x}h(θ)]$$. "
   ]
  },
  {
   "cell_type": "markdown",
   "metadata": {},
   "source": [
    "\n",
    "Sometimes it is not calculatingly feasible to carry out the analysis by reducing the sequence of hyperpriors to a single prior.\n",
    "\n",
    "Rather, Bayes rule is obtained (by using [Fubini’s theorem](http://ru.math.wikia.com/wiki/%D0%A2%D0%B5%D0%BE%D1%80%D0%B5%D0%BC%D0%B0_%D0%A2%D0%BE%D0%BD%D0%B5%D0%BB%D0%BB%D0%B8_%E2%80%94_%D0%A4%D1%83%D0%B1%D0%B8%D0%BD%D0%B8)) as repeated integral with respect to more\n",
    "convenient conditional distributions. "
   ]
  },
  {
   "cell_type": "markdown",
   "metadata": {},
   "source": [
    "## Hierarchical and empirical Bayesian methods\n",
    "\n",
    "https://www.ics.uci.edu/~sternh/courses/225/slides2new.pdf\n",
    "\n",
    "+\n",
    "\n",
    "https://www.cs.princeton.edu/courses/archive/fall11/cos597C/lectures/hierarchical-models.pdf\n",
    "\n",
    "For simulation in [hierarchical models](http://www.stats.ox.ac.uk/~reinert/stattheory/chapter1107.pdf): we simulate first from β,\n",
    "then, given β, we simulate from θ. We hope that the distribution of\n",
    "β is easy to simulate, and also that the conditional distribution of θ\n",
    "given β is easy to simulate. This approach is particularly useful for\n",
    "MCMC (Markov chain Monte Carlo) methods, e.g.: see next term"
   ]
  },
  {
   "cell_type": "code",
   "execution_count": null,
   "metadata": {},
   "outputs": [],
   "source": []
  },
  {
   "cell_type": "markdown",
   "metadata": {},
   "source": [
    "http://www.stat.columbia.edu/~gelman/research/published/taumain.pdf\n",
    "\n",
    "https://pdfs.semanticscholar.org/bc59/3aae11890468c5d6c1a7610ddd928236ffa7.pdf"
   ]
  },
  {
   "cell_type": "code",
   "execution_count": null,
   "metadata": {},
   "outputs": [],
   "source": []
  }
 ],
 "metadata": {
  "kernelspec": {
   "display_name": "Python 3",
   "language": "python",
   "name": "python3"
  },
  "language_info": {
   "codemirror_mode": {
    "name": "ipython",
    "version": 3
   },
   "file_extension": ".py",
   "mimetype": "text/x-python",
   "name": "python",
   "nbconvert_exporter": "python",
   "pygments_lexer": "ipython3",
   "version": "3.6.5"
  }
 },
 "nbformat": 4,
 "nbformat_minor": 2
}
