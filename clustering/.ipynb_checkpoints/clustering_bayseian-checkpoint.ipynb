{
 "cells": [
  {
   "cell_type": "markdown",
   "metadata": {},
   "source": [
    "### [Bayesian Hierarchical Clustering](http://mlg.eng.cam.ac.uk/zoubin/papers/icml05heller.pdf)"
   ]
  },
  {
   "cell_type": "markdown",
   "metadata": {},
   "source": [
    "We present a novel algorithm for agglomerative hierarchical clustering based on evaluating marginal likelihoods of a probabilistic\n",
    "model. This algorithm has several advantages over traditional distance-based agglomerative clustering algorithms. \n",
    "\n",
    "- It defines a probabilistic model of the data which can be used to compute the predictive distribution of a test point and the probability of it belonging to any of the existing clusters in the tree. \n",
    "- It uses a model-based criterion to decide on merging clusters rather than an ad-hoc distance metric. \n",
    "- Bayesian hypothesis testing is used to decide which merges are advantageous and to output the recommended depth of the tree. \n",
    "- The algorithm can be interpreted as a novel fast bottom-up approximate inference method for a Dirichlet process (i.e. countably infinite) mixture model (DPM). It provides a new lower bound on the marginal likelihood of a DPM by summing over exponentially many clusterings of the data in polynomial time. \n",
    "\n",
    "We describe\n",
    "procedures for learning the model hyperparameters, computing the predictive distribution, and extensions to the algorithm. Experimental results on synthetic and real-world\n",
    "data sets demonstrate useful properties of the\n",
    "algorithm"
   ]
  },
  {
   "cell_type": "markdown",
   "metadata": {},
   "source": [
    "### [R/BHC: fast Bayesian hierarchical clustering for microarray data](https://www.researchgate.net/publication/26722173_RBHC_Fast_Bayesian_hierarchical_clustering_for_microarray_data)"
   ]
  },
  {
   "cell_type": "markdown",
   "metadata": {},
   "source": [
    "__Background:__ Although the use of clustering methods has rapidly become one of the standard\n",
    "computational approaches in the literature of microarray gene expression data analysis, little\n",
    "attention has been paid to uncertainty in the results obtained.\n",
    "\n",
    "__Results:__ We present an R/Bioconductor port of a fast novel algorithm for Bayesian agglomerative\n",
    "hierarchical clustering and demonstrate its use in clustering gene expression microarray data. The\n",
    "method performs bottom-up hierarchical clustering, using a Dirichlet Process (infinite mixture) to\n",
    "model uncertainty in the data and Bayesian model selection to decide at each step which clusters\n",
    "to merge."
   ]
  },
  {
   "cell_type": "markdown",
   "metadata": {},
   "source": [
    "### [Bayesian Hierarchical Cross-Clustering](http://proceedings.mlr.press/v15/li11c/li11c.pdf)"
   ]
  },
  {
   "cell_type": "markdown",
   "metadata": {},
   "source": [
    "Most clustering algorithms assume that all\n",
    "dimensions of the data can be described by a\n",
    "single structure. Cross-clustering (or multiview clustering) allows multiple structures,\n",
    "each applying to a subset of the dimensions. We present a novel approach to crossclustering, based on approximating the solution to a Cross Dirichlet Process mixture\n",
    "(CDPM) model. Our bottom-up, deterministic approach results in a hierarchical clustering of dimensions, and at each\n",
    "node, a hierarchical clustering of data points.\n",
    "We also present a randomized approximation, based on a truncated hierarchy, that\n",
    "scales linearly in the number of levels. Results on synthetic and real-world data sets\n",
    "demonstrate that the cross-clustering based\n",
    "algorithms perform as well or better than the\n",
    "clustering based algorithms, our deterministic approaches models perform as well as the\n",
    "MCMC-based CDPM, and the randomized\n",
    "approximation provides a remarkable speedup relative to the full deterministic approximation with minimal cost in predictive error."
   ]
  },
  {
   "cell_type": "code",
   "execution_count": null,
   "metadata": {},
   "outputs": [],
   "source": []
  }
 ],
 "metadata": {
  "kernelspec": {
   "display_name": "Python 3",
   "language": "python",
   "name": "python3"
  },
  "language_info": {
   "codemirror_mode": {
    "name": "ipython",
    "version": 3
   },
   "file_extension": ".py",
   "mimetype": "text/x-python",
   "name": "python",
   "nbconvert_exporter": "python",
   "pygments_lexer": "ipython3",
   "version": "3.6.5"
  }
 },
 "nbformat": 4,
 "nbformat_minor": 2
}
