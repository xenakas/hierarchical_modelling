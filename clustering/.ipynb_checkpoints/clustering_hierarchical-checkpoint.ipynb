{
 "cells": [
  {
   "cell_type": "markdown",
   "metadata": {},
   "source": [
    "### [Algorithms for hierarchical clustering](https://onlinelibrary.wiley.com/doi/abs/10.1002/widm.1219)"
   ]
  },
  {
   "cell_type": "markdown",
   "metadata": {},
   "source": [
    "Agglomerative hierarchical clustering has been the\n",
    "dominant approach in constructing embedded\n",
    "classification schemes. It is our aim to direct the read-\n",
    "er’s attention to practical algorithms and methods—\n",
    "both efficient (from the computational and storage\n",
    "points of view) and effective (from the application\n",
    "point of view). It is often helpful to distinguish\n",
    "between method, involving a compactness criterion\n",
    "and the target structure of a two-way tree represent-\n",
    "ing the partial order on subsets of the power set, as\n",
    "opposed to an implementation, which relates to the\n",
    "details of the algorithm used"
   ]
  },
  {
   "cell_type": "markdown",
   "metadata": {},
   "source": [
    "#### STORED DATA APPROACH\n",
    "- Examine all interpoint dissimilarities, and form cluster from two closest points.\n",
    "- Replace two points clustered by representative point (center of gravity) or by cluster fragment.\n",
    "- Return to step 1, treating clusters as well as remaining objects, until all objects are in one cluster."
   ]
  },
  {
   "cell_type": "markdown",
   "metadata": {},
   "source": [
    "#### NEAREST NEIGHBOR CHAIN ALGORITHM\n",
    "- Select a point arbitrarily.\n",
    "- Grow the NN chain from this point until a pair of RNNs is obtained.\n",
    "- Agglomerate these points (replacing with a cluster point, or updating the dissimilarity matrix).\n",
    "- From the point which preceded the RNNs (or from any other arbitrary point if the first two points chosen in steps 1 and 2 constituted a pair of RNNs), return to step 2 until only one point remains."
   ]
  },
  {
   "cell_type": "markdown",
   "metadata": {},
   "source": [
    "#### CONTIGUITY CONSTRAINED HIERARCHICAL CLUSTERING\n",
    "- Consider each observation in the sequence as constituting a singleton cluster. Determine the closest pair of adjacent observations, and define a cluster from them.\n",
    "- Determine and merge the closest pair of adjacent clusters, $c_1$ and $c_2$, where closeness is defined by $d(c_1 , c_2 ) = \\max {d_{ii} \\  s. t. \\ i \\in c_1, i \\in c_2 }$.\n",
    "- Repeat step 2 until only one cluster remains"
   ]
  },
  {
   "cell_type": "markdown",
   "metadata": {},
   "source": [
    "#### Other methods:\n",
    "- Hierarchical self-organizing maps and hierarchical mixture modeling \n",
    "- Grid- and density-based  clustering techniques \n",
    "- Linear time grid clustering method: m-ADIC clustering\n"
   ]
  },
  {
   "cell_type": "markdown",
   "metadata": {},
   "source": [
    "#### Evaluation of cluster quality\n",
    "\n",
    "In the external approach, groups\n",
    "assembled by a clustering algorithm are compared to\n",
    "a previously accepted partition on the testing dataset.\n",
    "In the internal approach, clustering validity is evalu-\n",
    "ated using data and features contained in the dataset.\n",
    "In all cases,\n",
    "validity indices are constructed to evaluate proximity\n",
    "among objects in a cluster or proximity among\n",
    "resulting clusters."
   ]
  },
  {
   "cell_type": "code",
   "execution_count": null,
   "metadata": {},
   "outputs": [],
   "source": []
  },
  {
   "cell_type": "code",
   "execution_count": null,
   "metadata": {},
   "outputs": [],
   "source": []
  }
 ],
 "metadata": {
  "kernelspec": {
   "display_name": "Python 3",
   "language": "python",
   "name": "python3"
  },
  "language_info": {
   "codemirror_mode": {
    "name": "ipython",
    "version": 3
   },
   "file_extension": ".py",
   "mimetype": "text/x-python",
   "name": "python",
   "nbconvert_exporter": "python",
   "pygments_lexer": "ipython3",
   "version": "3.6.5"
  }
 },
 "nbformat": 4,
 "nbformat_minor": 2
}
